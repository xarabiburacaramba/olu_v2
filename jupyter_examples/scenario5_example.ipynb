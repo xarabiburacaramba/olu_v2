{
 "cells": [
  {
   "cell_type": "code",
   "execution_count": 2,
   "metadata": {},
   "outputs": [],
   "source": [
    "import os\n",
    "import tridy\n",
    "from tridy import GeoConcept, SubGeoConcept, MetaData, Table, View, DBStorage, DataSource, Feature, FeatureWithID,  AdmUnitFeature, FeatureWithRasterMap, OLUFeature, Grid, Imagee, ds_from_metadata, xml_lpis_cz_reader, lpis_cz__posledni_aktualizace, get_listvalues_from_generator, apply_function, select_nodes_from_graph, unzip_file, find_neighbors_till, connection_parameters_to_pg, transform_name_to_postgresql_format, world_to_pixel \n",
    "from importlib import reload\n",
    "import requests\n",
    "import datetime\n",
    "import re\n",
    "from io import BytesIO\n",
    "\n",
    "from requests.adapters import HTTPAdapter\n",
    "from requests.packages.urllib3.util.retry import Retry\n",
    "\n",
    "from osgeo import ogr, osr, gdal\n",
    "import networkx as nx\n",
    "import numpy as np\n",
    "import json\n",
    "import binascii\n",
    "import copy\n",
    "import time\n",
    "\n",
    "from lxml import etree\n",
    "\n",
    "import random\n",
    "from ipyleaflet import Map, GeoJSON\n",
    "\n",
    "from PIL import Image\n",
    "import matplotlib.pyplot as plt\n",
    "from matplotlib.pyplot import imshow\n",
    "\n",
    "from pygeoprocessing import routing\n",
    "\n",
    "import tempfile\n",
    "from tempfile import TemporaryDirectory\n",
    "\n",
    "from importlib import reload"
   ]
  },
  {
   "cell_type": "code",
   "execution_count": 3,
   "metadata": {},
   "outputs": [],
   "source": [
    "del(tridy)\n",
    "del(FeatureWithID)\n",
    "import tridy\n",
    "from tridy import FeatureWithID"
   ]
  },
  {
   "cell_type": "code",
   "execution_count": 4,
   "metadata": {},
   "outputs": [],
   "source": [
    "json_feature_structure=[{\"name\":\"id\",\"type\":\"serial primary key\"},{\"name\":\"geom\",\"type\":\"geometry\"},{\"name\":\"data\",\"type\":\"json\"}]\n",
    "json_feature_with_raster_structure=[{\"name\":\"id\",\"type\":\"serial primary key\"},{\"name\":\"geom\",\"type\":\"geometry\"},{\"name\":\"data\",\"type\":\"json\"},{\"name\":\"raster_maps\",\"type\":\"raster\"}]"
   ]
  },
  {
   "cell_type": "code",
   "execution_count": 5,
   "metadata": {},
   "outputs": [],
   "source": [
    "def get_twi(im_object):\n",
    "    with TemporaryDirectory() as tempdir:\n",
    "        im_object.export_as_tif('%s/dem.tif' %tempdir)\n",
    "        routing.fill_pits(('%s/dem.tif' %tempdir,1),'%s/cdem.tif' %tempdir)\n",
    "        routing.flow_dir_mfd(('%s/cdem.tif' %tempdir,1),'%s/dir.tif' %tempdir)\n",
    "        routing.flow_accumulation_mfd(('%s/dir.tif' %tempdir,1),'%s/twi.tif' %tempdir)\n",
    "        ds = gdal.Open('%s/twi.tif' %tempdir)\n",
    "        metadata_dict=im_object.get_metadata()\n",
    "        twi=Imagee(np.array(ds.GetRasterBand(1).ReadAsArray()),metadata_dict)\n",
    "        return twi"
   ]
  },
  {
   "cell_type": "code",
   "execution_count": 6,
   "metadata": {},
   "outputs": [],
   "source": [
    "fields_metadata=MetaData('Pessl fields database',\n",
    "                             {\"local\":\"/home/jovyan/public/shared/Scenario5/Field_borders/Field035.geojson\", \"format\":\"GeoJSON\"},\n",
    "                             'data')\n",
    "\n",
    "fields_ds=ds_from_metadata(fields_metadata)\n",
    "\n",
    "fields=GeoConcept('Pessl fields','Fields of farmers that are using Pessl instruments',\n",
    "                      'Feature',json_feature_structure, data_source=fields_ds, subgeoconcepts=[] )"
   ]
  },
  {
   "cell_type": "code",
   "execution_count": 7,
   "metadata": {},
   "outputs": [],
   "source": [
    "fields.get_data_source().set_data_file('/home/jovyan/public/shared/Scenario5/Field_borders/Field035.geojson')"
   ]
  },
  {
   "cell_type": "code",
   "execution_count": 8,
   "metadata": {},
   "outputs": [],
   "source": [
    "features=fields.get_data_source().read_features('feature',number=1)\n",
    "feature=next(features)[0]"
   ]
  },
  {
   "cell_type": "code",
   "execution_count": 9,
   "metadata": {},
   "outputs": [
    {
     "data": {
      "text/plain": [
       "True"
      ]
     },
     "execution_count": 9,
     "metadata": {},
     "output_type": "execute_result"
    }
   ],
   "source": [
    "import os\n",
    "os.path.isfile('/home/jovyan/public/dem/eu_dem_czat3035.tif')"
   ]
  },
  {
   "cell_type": "code",
   "execution_count": 10,
   "metadata": {},
   "outputs": [],
   "source": [
    "dem30_fn='/home/jovyan/public/dem/eu_dem_czat3035.tif'\n",
    "dem30=gdal.Open(dem30_fn)"
   ]
  },
  {
   "cell_type": "code",
   "execution_count": 11,
   "metadata": {},
   "outputs": [],
   "source": [
    "wgs84_sr,etrs3035_sr=[osr.SpatialReference() for i in range(2)]\n",
    "\n",
    "wgs84_sr.ImportFromProj4('+proj=longlat +datum=WGS84 +no_defs')\n",
    "etrs3035_sr.ImportFromProj4('+proj=laea +lat_0=52 +lon_0=10 +x_0=4321000 +y_0=3210000 +ellps=GRS80 +towgs84=0,0,0,0,0,0,0 +units=m +no_defs')\n",
    "\n",
    "wgs84_to_etrs3035=osr.CoordinateTransformation(wgs84_sr,etrs3035_sr)\n",
    "etrs3035_to_wgs84=osr.CoordinateTransformation(etrs3035_sr,wgs84_sr)"
   ]
  },
  {
   "cell_type": "code",
   "execution_count": 12,
   "metadata": {},
   "outputs": [],
   "source": [
    "metadata_dict={}\n",
    "metadata_dict['affine_transformation']=dem30.GetGeoTransform()\n",
    "metadata_dict['nodata']=dem30.GetRasterBand(1).GetNoDataValue()\n",
    "metadata_dict['proj_wkt']=etrs3035_sr.ExportToWkt()"
   ]
  },
  {
   "cell_type": "code",
   "execution_count": 13,
   "metadata": {},
   "outputs": [],
   "source": [
    "grid=Grid((metadata_dict['affine_transformation'][0],metadata_dict['affine_transformation'][3]),(metadata_dict['affine_transformation'][1],metadata_dict['affine_transformation'][5]))"
   ]
  },
  {
   "cell_type": "code",
   "execution_count": 14,
   "metadata": {},
   "outputs": [],
   "source": [
    "feature.transform_geometry(wgs84_to_etrs3035)"
   ]
  },
  {
   "cell_type": "code",
   "execution_count": 15,
   "metadata": {},
   "outputs": [],
   "source": [
    "envelope=np.add(ogr.CreateGeometryFromWkt(feature.get_geometry()).GetEnvelope(),(-300,300,-300,300))"
   ]
  },
  {
   "cell_type": "code",
   "execution_count": 16,
   "metadata": {},
   "outputs": [],
   "source": [
    "origin=tuple(grid.find_index((envelope[0],envelope[3])))"
   ]
  },
  {
   "cell_type": "code",
   "execution_count": 17,
   "metadata": {},
   "outputs": [],
   "source": [
    "size=tuple(np.array(grid.find_index((envelope[1],envelope[2])))-np.array(grid.find_index((envelope[0],envelope[3]))))+np.array([1,1])"
   ]
  },
  {
   "cell_type": "code",
   "execution_count": 18,
   "metadata": {},
   "outputs": [],
   "source": [
    "a=np.array(dem30.GetRasterBand(1).ReadAsArray(xoff=int(origin[0]),yoff=int(origin[1]),win_xsize=int(size[0]),win_ysize=int(size[1])))"
   ]
  },
  {
   "cell_type": "code",
   "execution_count": 19,
   "metadata": {},
   "outputs": [],
   "source": [
    "grid_clip=Grid(np.array(grid.get_gridorigin())+np.array(tuple(grid.find_index((envelope[0],envelope[3]))))*np.array(grid.get_gridstepsize()),(metadata_dict['affine_transformation'][1],metadata_dict['affine_transformation'][5]))"
   ]
  },
  {
   "cell_type": "code",
   "execution_count": 20,
   "metadata": {},
   "outputs": [],
   "source": [
    "clip_metadata_dict={}\n",
    "clip_metadata_dict['affine_transformation']=grid_clip.get_affinetransformation()\n",
    "clip_metadata_dict['nodata']=float(np.min(a)) if np.min(a)<0 else np.nan\n",
    "clip_metadata_dict['proj_wkt']=etrs3035_sr.ExportToWkt()"
   ]
  },
  {
   "cell_type": "code",
   "execution_count": 21,
   "metadata": {},
   "outputs": [],
   "source": [
    "big_im=Imagee(a,clip_metadata_dict)"
   ]
  },
  {
   "cell_type": "code",
   "execution_count": 22,
   "metadata": {},
   "outputs": [],
   "source": [
    "big_twi=get_twi(big_im)\n",
    "big_orientation=Imagee(*big_im.calculate_azimuth())\n",
    "big_slope=Imagee(*big_im.calculate_slope())"
   ]
  },
  {
   "cell_type": "code",
   "execution_count": 23,
   "metadata": {},
   "outputs": [],
   "source": [
    "feature_geomorpho=FeatureWithRasterMap(data={},geom=('POLYGON ((%d %d, %d %d, %d %d, %d %d, %d %d))' % (envelope[0],envelope[2],envelope[0],envelope[3],envelope[1],envelope[3],envelope[1],envelope[2],envelope[0],envelope[2])),id=1,raster_map={'dem':big_im,'slope':big_slope,'orientation':big_orientation,'twi':big_twi})"
   ]
  },
  {
   "cell_type": "code",
   "execution_count": null,
   "metadata": {},
   "outputs": [],
   "source": [
    "raster_files={'aglim1':'/home/jovyan/public/soil_maps/European_soil_database_and_soil_properties/European_Soil_Database_v2_Raster_Library_1kmx1km/Limitation_to_Agricultural_use/AGLIM1/aglim1_directory/aglim1/w001001x.adf', 'aglim2':'/home/jovyan/public/soil_maps/European_soil_database_and_soil_properties/European_Soil_Database_v2_Raster_Library_1kmx1km/Limitation_to_Agricultural_use/AGLIM2/aglim2_directory/aglim2/w001001x.adf'}"
   ]
  },
  {
   "cell_type": "code",
   "execution_count": null,
   "metadata": {},
   "outputs": [],
   "source": [
    "aglim1_ds=gdal.Open(raster_files['aglim1'])\n",
    "aglim2_ds=gdal.Open(raster_files['aglim2'])\n",
    "\n",
    "metadata_dict={}\n",
    "\n",
    "metadata_dict['affine_transformation']=aglim1_ds.GetGeoTransform()\n",
    "metadata_dict['nodata']=aglim1_ds.GetRasterBand(1).GetNoDataValue()\n",
    "metadata_dict['proj_wkt']=etrs3035_sr.ExportToWkt()\n",
    "aglim1_im=Imagee(np.array(aglim1_ds.GetRasterBand(1).ReadAsArray()),metadata_dict)\n",
    "del(aglim1_ds)\n",
    "\n",
    "metadata_dict['affine_transformation']=aglim2_ds.GetGeoTransform()\n",
    "metadata_dict['nodata']=aglim2_ds.GetRasterBand(1).GetNoDataValue()\n",
    "aglim2_im=Imagee(np.array(aglim2_ds.GetRasterBand(1).ReadAsArray()),metadata_dict)\n",
    "del(aglim2_ds)"
   ]
  },
  {
   "cell_type": "code",
   "execution_count": 56,
   "metadata": {},
   "outputs": [],
   "source": [
    "agricultural_limitations={0: 'No information', 1: 'No limitation to agricultural use', 2: 'Gravelly (over 35% gravel diameter < 7.5 cm)', 3: 'Stony (presence of stones diameter > 7.5 cm,impracticable mechanisation)', 4: 'Lithic (coherent and hard rock within 50 cm)', 5: 'Concretionary (over 35% concretions diameter < 7.5 cm near the surface)', 6: 'Petrocalcic (cemented or indurated calcic horizon within 100 cm)', 7: 'Saline (electric conductivity > 4 mS.cm-1 within 100 cm)', 8: 'Sodic (Na/T > 6% within 100 cm)', 9: 'Glaciers and snow-caps', 10: 'Soils disturbed by man (i.e. landfills, paved surfaces, mine spoils)', 11: 'Fragipans', 12: 'Excessively drained', 13: 'Almost always flooded', 14: 'Eroded phase, erosion', 15: 'Phreatic phase (shallow water table)', 18: 'Permafrost'}"
   ]
  },
  {
   "cell_type": "code",
   "execution_count": 97,
   "metadata": {},
   "outputs": [],
   "source": [
    "ul,lr=(aglim2_im.get_metadata()['affine_transformation'])[slice(0,6,3)],np.add((aglim2_im.get_metadata()['affine_transformation'])[slice(0,6,3)],np.multiply(np.flip(aglim2_im.get_data().shape),(aglim2_im.get_metadata()['affine_transformation'])[slice(1,6,4)]))"
   ]
  },
  {
   "cell_type": "code",
   "execution_count": 100,
   "metadata": {},
   "outputs": [],
   "source": [
    "feature_eu_soils=FeatureWithRasterMap(data={},geom=('POLYGON ((%d %d, %d %d, %d %d, %d %d, %d %d))' % (ul[0],lr[1],ul[0],ul[1],lr[0],ul[1],lr[0],lr[1],ul[0],lr[1])),id=1,raster_map={'aglim1':aglim1_im,'aglim2':aglim2_im})"
   ]
  },
  {
   "cell_type": "code",
   "execution_count": 103,
   "metadata": {},
   "outputs": [
    {
     "data": {
      "text/plain": [
       "(5500, 7500)"
      ]
     },
     "execution_count": 103,
     "metadata": {},
     "output_type": "execute_result"
    }
   ],
   "source": [
    "feature_eu_soils.get_raster_map()['aglim2'].get_data().shape"
   ]
  },
  {
   "cell_type": "code",
   "execution_count": 104,
   "metadata": {},
   "outputs": [],
   "source": [
    "def compilable_transformation_dictionary(feature_var, feature_geomorpho_var, feature_soils):\n",
    "    t_dict=\\\n",
    "    {'feature':{'object':feature_var}, \\\n",
    "    'feature_id':{'function':(lambda y: y.get_id() if type(y)!=tridy.Feature else 1),'parameters':['feature']},\\\n",
    "    'feature_data':{'function':(lambda y: y.get_data()),'parameters':['feature']},\\\n",
    "    'feature_geometry':{'function':(lambda y: y.get_geometry()),'parameters':['feature']},\\\n",
    "    'feature_geomorpho':{'object': feature_geomorpho_var}, \\\n",
    "    'feature_dem':{'function':(lambda y,  z:  Imagee(*y.get_raster_map()['dem'].clip_by_shape(z))    ),'parameters':['feature_geomorpho','feature_geometry']},\\\n",
    "    'feature_slope':{'function':(lambda y,  z:  Imagee(*y.get_raster_map()['slope'].clip_by_shape(z))    ),'parameters':['feature_geomorpho','feature_geometry']},\\\n",
    "    'feature_orientation':{'function':(lambda y,  z:  Imagee(*y.get_raster_map()['orientation'].clip_by_shape(z))    ),'parameters':['feature_geomorpho','feature_geometry']},\\\n",
    "    'feature_twi':{'function':(lambda y,  z:  Imagee(*y.get_raster_map()['twi'].clip_by_shape(z))    ),'parameters':['feature_geomorpho','feature_geometry']},\\\n",
    "    'feature_soils':{'object': feature_soils}, \\\n",
    "    'feature_aglim1':{'function':(lambda y,  z:  Imagee(*y.get_raster_map()['aglim1'].clip_by_shape(z))    ),'parameters':['feature_soils','feature_geometry']},\\\n",
    "    'feature_aglim2':{'function':(lambda y,  z:  Imagee(*y.get_raster_map()['aglim2'].clip_by_shape(z))    ),'parameters':['feature_soils','feature_geometry']},\\\n",
    "    'result_feature':{'function':(lambda r, s, t, u, v,  w,  x,  y,  z:  FeatureWithRasterMap(data=r, geom=s,id=t,raster_map={'dem':u,'slope':v,'orientation':w,'twi':x,'aglim1':y,'aglim2':z})   ),'parameters':['feature_data','feature_geometry','feature_id','feature_dem', 'feature_slope', 'feature_orientation', 'feature_twi', 'feature_aglim1', 'feature_aglim2']},\\\n",
    "    }\n",
    "    return t_dict"
   ]
  },
  {
   "cell_type": "code",
   "execution_count": 106,
   "metadata": {},
   "outputs": [
    {
     "data": {
      "image/png": "[encoded data removed]",
      "text/plain": [
       "<Figure size 432x288 with 2 Axes>"
      ]
     },
     "metadata": {
      "needs_background": "light"
     },
     "output_type": "display_data"
    }
   ],
   "source": [
    "plt.imshow(apply_function(compilable_transformation_dictionary(feature,feature_geomorpho,feature_eu_soils),'result_feature').get_raster_map()['dem'].get_data(), origin=\"upper\", cmap='gray', interpolation='nearest')\n",
    "plt.colorbar()\n",
    "plt.show()"
   ]
  },
  {
   "cell_type": "code",
   "execution_count": 107,
   "metadata": {},
   "outputs": [
    {
     "data": {
      "image/png": "[encoded data removed]",
      "text/plain": [
       "<Figure size 432x288 with 2 Axes>"
      ]
     },
     "metadata": {
      "needs_background": "light"
     },
     "output_type": "display_data"
    }
   ],
   "source": [
    "plt.imshow(apply_function(compilable_transformation_dictionary(feature,feature_geomorpho,feature_eu_soils),'result_feature').get_raster_map()['twi'].get_data(), origin=\"upper\", cmap='gray', interpolation='nearest')\n",
    "plt.colorbar()\n",
    "plt.show()"
   ]
  },
  {
   "cell_type": "code",
   "execution_count": 108,
   "metadata": {},
   "outputs": [
    {
     "data": {
      "image/png": "[encoded data removed]",
      "text/plain": [
       "<Figure size 432x288 with 2 Axes>"
      ]
     },
     "metadata": {
      "needs_background": "light"
     },
     "output_type": "display_data"
    }
   ],
   "source": [
    "plt.imshow(apply_function(compilable_transformation_dictionary(feature,feature_geomorpho,feature_eu_soils),'result_feature').get_raster_map()['orientation'].get_data(), origin=\"upper\", cmap='gray', interpolation='nearest')\n",
    "plt.colorbar()\n",
    "plt.show()"
   ]
  },
  {
   "cell_type": "code",
   "execution_count": 109,
   "metadata": {},
   "outputs": [
    {
     "data": {
      "image/png": "[encoded data removed]",
      "text/plain": [
       "<Figure size 432x288 with 2 Axes>"
      ]
     },
     "metadata": {
      "needs_background": "light"
     },
     "output_type": "display_data"
    }
   ],
   "source": [
    "plt.imshow(apply_function(compilable_transformation_dictionary(feature,feature_geomorpho,feature_eu_soils),'result_feature').get_raster_map()['slope'].get_data(), origin=\"upper\", cmap='rainbow', interpolation='nearest')\n",
    "plt.colorbar()\n",
    "plt.show()"
   ]
  },
  {
   "cell_type": "code",
   "execution_count": 110,
   "metadata": {},
   "outputs": [
    {
     "data": {
      "image/png": "[encoded data removed]",
      "text/plain": [
       "<Figure size 432x288 with 2 Axes>"
      ]
     },
     "metadata": {
      "needs_background": "light"
     },
     "output_type": "display_data"
    }
   ],
   "source": [
    "plt.imshow(apply_function(compilable_transformation_dictionary(feature,feature_geomorpho,feature_eu_soils),'result_feature').get_raster_map()['aglim1'].get_data(), origin=\"upper\", cmap='rainbow', interpolation='nearest')\n",
    "plt.colorbar()\n",
    "plt.show()"
   ]
  },
  {
   "cell_type": "code",
   "execution_count": 111,
   "metadata": {},
   "outputs": [
    {
     "data": {
      "image/png": "[encoded data removed]",
      "text/plain": [
       "<Figure size 432x288 with 2 Axes>"
      ]
     },
     "metadata": {
      "needs_background": "light"
     },
     "output_type": "display_data"
    }
   ],
   "source": [
    "plt.imshow(apply_function(compilable_transformation_dictionary(feature,feature_geomorpho,feature_eu_soils),'result_feature').get_raster_map()['aglim2'].get_data(), origin=\"upper\", cmap='rainbow', interpolation='nearest')\n",
    "plt.colorbar()\n",
    "plt.show()"
   ]
  },
  {
   "cell_type": "code",
   "execution_count": 112,
   "metadata": {},
   "outputs": [
    {
     "data": {
      "image/png": "[encoded data removed]",
      "text/plain": [
       "<Figure size 432x288 with 2 Axes>"
      ]
     },
     "metadata": {
      "needs_background": "light"
     },
     "output_type": "display_data"
    }
   ],
   "source": [
    "plt.imshow(apply_function(compilable_transformation_dictionary(feature,feature_geomorpho,feature_eu_soils),'feature_dem').get_data(), origin=\"upper\", cmap='gray', interpolation='nearest')\n",
    "plt.colorbar()\n",
    "plt.show()"
   ]
  },
  {
   "cell_type": "code",
   "execution_count": 29,
   "metadata": {},
   "outputs": [],
   "source": [
    "#import os\n",
    "#os.getcwd()\n",
    "#os.listdir('/home/jovyan/public/soil_maps/European_soil_database_and_soil_properties/European_Soil_Database_v2_Raster_Library_1kmx1km/Limitation_to_Agricultural_use/AGLIM1/aglim1_directory/aglim1')\n",
    "#os.listdir('/home/jovyan/public/soil_maps/European_soil_database_and_soil_properties/European_Soil_Database_v2_Raster_Library_1kmx1km/Limitation_to_Agricultural_use/AGLIM2/aglim2_directory/aglim2')"
   ]
  },
  {
   "cell_type": "code",
   "execution_count": 41,
   "metadata": {},
   "outputs": [],
   "source": []
  },
  {
   "cell_type": "code",
   "execution_count": 42,
   "metadata": {},
   "outputs": [],
   "source": []
  },
  {
   "cell_type": "code",
   "execution_count": 43,
   "metadata": {},
   "outputs": [],
   "source": []
  },
  {
   "cell_type": "code",
   "execution_count": 47,
   "metadata": {},
   "outputs": [],
   "source": []
  },
  {
   "cell_type": "code",
   "execution_count": null,
   "metadata": {},
   "outputs": [],
   "source": []
  }
 ],
 "metadata": {
  "kernelspec": {
   "display_name": "Python 3",
   "language": "python",
   "name": "python3"
  },
  "language_info": {
   "codemirror_mode": {
    "name": "ipython",
    "version": 3
   },
   "file_extension": ".py",
   "mimetype": "text/x-python",
   "name": "python",
   "nbconvert_exporter": "python",
   "pygments_lexer": "ipython3",
   "version": "3.7.8"
  }
 },
 "nbformat": 4,
 "nbformat_minor": 4
}
