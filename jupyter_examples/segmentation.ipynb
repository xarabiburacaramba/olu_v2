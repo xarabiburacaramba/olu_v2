{
 "cells": [
  {
   "cell_type": "code",
   "execution_count": 82,
   "metadata": {},
   "outputs": [
    {
     "data": {
      "text/plain": [
       "['Requirement already satisfied: sentinelsat in /opt/conda/lib/python3.7/site-packages (0.14)',\n",
       " 'Requirement already satisfied: click in /opt/conda/lib/python3.7/site-packages (from sentinelsat) (7.1.2)',\n",
       " 'Requirement already satisfied: geomet in /opt/conda/lib/python3.7/site-packages (from sentinelsat) (0.2.1.post1)',\n",
       " 'Requirement already satisfied: six in /opt/conda/lib/python3.7/site-packages (from sentinelsat) (1.15.0)',\n",
       " 'Requirement already satisfied: html2text in /opt/conda/lib/python3.7/site-packages (from sentinelsat) (2020.1.16)',\n",
       " 'Requirement already satisfied: requests in /opt/conda/lib/python3.7/site-packages (from sentinelsat) (2.25.0)',\n",
       " 'Requirement already satisfied: geojson>=2 in /opt/conda/lib/python3.7/site-packages (from sentinelsat) (2.5.0)',\n",
       " 'Requirement already satisfied: tqdm in /opt/conda/lib/python3.7/site-packages (from sentinelsat) (4.54.0)',\n",
       " 'Requirement already satisfied: six in /opt/conda/lib/python3.7/site-packages (from sentinelsat) (1.15.0)',\n",
       " 'Requirement already satisfied: click in /opt/conda/lib/python3.7/site-packages (from sentinelsat) (7.1.2)',\n",
       " 'Requirement already satisfied: chardet<4,>=3.0.2 in /opt/conda/lib/python3.7/site-packages (from requests->sentinelsat) (3.0.4)',\n",
       " 'Requirement already satisfied: idna<3,>=2.5 in /opt/conda/lib/python3.7/site-packages (from requests->sentinelsat) (2.10)',\n",
       " 'Requirement already satisfied: urllib3<1.27,>=1.21.1 in /opt/conda/lib/python3.7/site-packages (from requests->sentinelsat) (1.25.11)',\n",
       " 'Requirement already satisfied: certifi>=2017.4.17 in /opt/conda/lib/python3.7/site-packages (from requests->sentinelsat) (2020.11.8)']"
      ]
     },
     "execution_count": 82,
     "metadata": {},
     "output_type": "execute_result"
    }
   ],
   "source": [
    "!!pip install sentinelsat"
   ]
  },
  {
   "cell_type": "code",
   "execution_count": 282,
   "metadata": {},
   "outputs": [],
   "source": [
    "#system libraries\n",
    "import datetime\n",
    "import zipfile\n",
    "import shutil\n",
    "import math\n",
    "import os\n",
    "import sys\n",
    "import json\n",
    "from importlib import reload\n",
    "#for matrix computations\n",
    "import numpy as np\n",
    "from numpy import ma\n",
    "np.set_printoptions(threshold=sys.maxsize)\n",
    "#for image segmentation\n",
    "from skimage.color import rgb2gray\n",
    "from skimage.filters import sobel\n",
    "from skimage.segmentation import slic\n",
    "from skimage.segmentation import mark_boundaries\n",
    "#for downloading Sentinel imagery\n",
    "from sentinelsat import SentinelAPI\n",
    "#for working with geospatial data\n",
    "from osgeo import gdal,ogr, gdalnumeric, osr, gdal_array\n",
    "#helping classes\n",
    "import tridy\n",
    "from tridy import GeoConcept, SubGeoConcept, MetaData, Table, View, DBStorage, DataSource, Feature, FeatureWithID,  AdmUnitFeature, FeatureWithRasterMap, OLUFeature, Grid, Imagee, ds_from_metadata, xml_lpis_cz_reader, lpis_cz__posledni_aktualizace, get_listvalues_from_generator, apply_function, select_nodes_from_graph, unzip_file, find_neighbors_till, connection_parameters_to_pg, transform_name_to_postgresql_format, transform_wkt_geometry, world_to_pixel \n",
    "#for plotting\n",
    "import matplotlib.pyplot as plt\n",
    "#for curiosity\n",
    "from scipy.stats import wasserstein_distance"
   ]
  },
  {
   "cell_type": "code",
   "execution_count": 281,
   "metadata": {},
   "outputs": [],
   "source": [
    "del(Imagee)\n",
    "reload(tridy)\n",
    "from tridy import Imagee"
   ]
  },
  {
   "cell_type": "code",
   "execution_count": 239,
   "metadata": {},
   "outputs": [],
   "source": [
    "json_feature_structure=[{\"name\":\"id\",\"type\":\"serial primary key\"},{\"name\":\"geom\",\"type\":\"geometry\"},{\"name\":\"data\",\"type\":\"json\"}]\n",
    "json_feature_with_raster_structure=[{\"name\":\"id\",\"type\":\"serial primary key\"},{\"name\":\"geom\",\"type\":\"geometry\"},{\"name\":\"data\",\"type\":\"json\"},{\"name\":\"raster_maps\",\"type\":\"raster\"}]"
   ]
  },
  {
   "cell_type": "code",
   "execution_count": 240,
   "metadata": {},
   "outputs": [],
   "source": [
    "#helping function that creates regular grid from affine transformation parameters\n",
    "def grid_from_affine_transformation(imagee):\n",
    "    return Grid((imagee.get_metadata()['affine_transformation'][0],imagee.get_metadata()['affine_transformation'][3]),(imagee.get_metadata()['affine_transformation'][1],imagee.get_metadata()['affine_transformation'][5]),*imagee.get_data().shape)"
   ]
  },
  {
   "cell_type": "code",
   "execution_count": 241,
   "metadata": {},
   "outputs": [],
   "source": [
    "#helping function that is used to select just segments that have land use homogenity over given percentage\n",
    "def select_segment_lu(intersecting_features,percentage):\n",
    "    for i in range(len(intersecting_features)):\n",
    "        if i==0:\n",
    "            dictionar=intersecting_features[i]\n",
    "        else:\n",
    "            key=list(intersecting_features[i].keys())[0] \n",
    "            if key in list(dictionar.keys()):\n",
    "                dictionar[key]=dictionar[key]+intersecting_features[i][key]\n",
    "            else:\n",
    "                dictionar[key]=intersecting_features[i][key]\n",
    "    for key in dictionar.keys():\n",
    "        if dictionar[key]/np.sum(list(dictionar.values())) >= percentage:\n",
    "            return key\n",
    "        else:\n",
    "            return '0'"
   ]
  },
  {
   "cell_type": "code",
   "execution_count": 242,
   "metadata": {},
   "outputs": [],
   "source": [
    "#instantiating SentinelAPI connection for imagery download\n",
    "api = SentinelAPI('mitja', 'Copernicus12!','https://scihub.copernicus.eu/dhus')"
   ]
  },
  {
   "cell_type": "code",
   "execution_count": 243,
   "metadata": {},
   "outputs": [],
   "source": [
    "wkt_point='POINT (23.6383667 40.5790194)'\n",
    "time_period=(datetime.date(2020, 3, 1),datetime.date(2020,5,1))\n",
    "cloudcover_range=(0, 1)"
   ]
  },
  {
   "cell_type": "code",
   "execution_count": 244,
   "metadata": {},
   "outputs": [],
   "source": [
    "products = api.query(wkt_point, date=time_period, platformname='Sentinel-2', cloudcoverpercentage=cloudcover_range)"
   ]
  },
  {
   "cell_type": "code",
   "execution_count": 245,
   "metadata": {},
   "outputs": [],
   "source": [
    "min_coverage = 1\n",
    "for p in products:\n",
    "    if 'tileid' in list(products[p].keys()):\n",
    "        if products[p]['cloudcoverpercentage']<min_coverage:\n",
    "            min_coverage=products[p]['cloudcoverpercentage']\n",
    "            product=p"
   ]
  },
  {
   "cell_type": "code",
   "execution_count": 18,
   "metadata": {},
   "outputs": [
    {
     "name": "stderr",
     "output_type": "stream",
     "text": [
      "Downloading: 100%|██████████| 380M/380M [00:08<00:00, 45.8MB/s] \n",
      "MD5 checksumming: 100%|██████████| 380M/380M [00:00<00:00, 385MB/s] \n"
     ]
    }
   ],
   "source": [
    "title=api.download(product)['title']"
   ]
  },
  {
   "cell_type": "code",
   "execution_count": 246,
   "metadata": {},
   "outputs": [],
   "source": [
    "k=products[product]['tileid']"
   ]
  },
  {
   "cell_type": "code",
   "execution_count": 24,
   "metadata": {},
   "outputs": [],
   "source": [
    "zip=zipfile.ZipFile(title+'.zip')\n",
    "os.mkdir(str(k))\n",
    "for band in (2,4,8):\n",
    "        with zip.open([b for b in zip.namelist() if b.endswith('B0%s.jp2' % band)][0]) as zf, open(os.getcwd()+'/'+str(k)+'/'+title+'_b%d.jp2' % band, 'wb') as f:\n",
    "                shutil.copyfileobj(zf, f) "
   ]
  },
  {
   "cell_type": "code",
   "execution_count": 247,
   "metadata": {},
   "outputs": [],
   "source": [
    "ds_b2=gdal.Open(str(k)+'/'+[i for i in os.listdir(str(k)) if i.endswith('b2.jp2')][0])"
   ]
  },
  {
   "cell_type": "code",
   "execution_count": 248,
   "metadata": {},
   "outputs": [],
   "source": [
    "ds_b4=gdal.Open(str(k)+'/'+[i for i in os.listdir(str(k)) if i.endswith('b4.jp2')][0])\n",
    "ds_b8=gdal.Open(str(k)+'/'+[i for i in os.listdir(str(k)) if i.endswith('b8.jp2')][0])"
   ]
  },
  {
   "cell_type": "code",
   "execution_count": 249,
   "metadata": {},
   "outputs": [],
   "source": [
    "wgs84_sr,utm32635_sr=[osr.SpatialReference() for i in range(2)]\n",
    "\n",
    "wgs84_sr.ImportFromProj4('+proj=longlat +datum=WGS84 +no_defs')\n",
    "utm32635_sr.ImportFromProj4('+proj=utm +zone=35 +datum=WGS84 +units=m +no_defs')\n",
    "\n",
    "utm32635_to_wgs84=osr.CoordinateTransformation(utm32635_sr,wgs84_sr)\n",
    "wgs84_to_utm32635=osr.CoordinateTransformation(wgs84_sr,utm32635_sr)"
   ]
  },
  {
   "cell_type": "code",
   "execution_count": 250,
   "metadata": {},
   "outputs": [],
   "source": [
    "metadata_dict={}\n",
    "metadata_dict['affine_transformation']=ds_b2.GetGeoTransform()\n",
    "metadata_dict['nodata']=ds_b2.GetRasterBand(1).GetNoDataValue()\n",
    "metadata_dict['proj_wkt']=utm32635_sr.ExportToWkt()"
   ]
  },
  {
   "cell_type": "code",
   "execution_count": 251,
   "metadata": {},
   "outputs": [],
   "source": [
    "grid=Grid((metadata_dict['affine_transformation'][0],metadata_dict['affine_transformation'][3]),(metadata_dict['affine_transformation'][1],metadata_dict['affine_transformation'][5]))"
   ]
  },
  {
   "cell_type": "code",
   "execution_count": 252,
   "metadata": {},
   "outputs": [],
   "source": [
    "geom_4326=ogr.CreateGeometryFromWkt(wkt_point)"
   ]
  },
  {
   "cell_type": "code",
   "execution_count": 253,
   "metadata": {},
   "outputs": [
    {
     "data": {
      "text/plain": [
       "0"
      ]
     },
     "execution_count": 253,
     "metadata": {},
     "output_type": "execute_result"
    }
   ],
   "source": [
    "geom_4326.Transform(wgs84_to_utm32635)"
   ]
  },
  {
   "cell_type": "code",
   "execution_count": 254,
   "metadata": {},
   "outputs": [],
   "source": [
    "geom_utm_envelope=( geom_4326.GetX()-1000, geom_4326.GetX()+1000, geom_4326.GetY()-1000, geom_4326.GetY()+1000 )"
   ]
  },
  {
   "cell_type": "code",
   "execution_count": 255,
   "metadata": {},
   "outputs": [],
   "source": [
    "origin=tuple(grid.find_index((geom_utm_envelope[0],geom_utm_envelope[3])))"
   ]
  },
  {
   "cell_type": "code",
   "execution_count": 256,
   "metadata": {},
   "outputs": [],
   "source": [
    "size=tuple(np.array(grid.find_index((geom_utm_envelope[1],geom_utm_envelope[2])))-np.array(grid.find_index((geom_utm_envelope[0],geom_utm_envelope[3]))))+np.array([1,1])"
   ]
  },
  {
   "cell_type": "code",
   "execution_count": 257,
   "metadata": {},
   "outputs": [],
   "source": [
    "a=np.array(ds_b2.GetRasterBand(1).ReadAsArray(xoff=int(origin[0]),yoff=int(origin[1]),win_xsize=int(size[0]),win_ysize=int(size[1])))"
   ]
  },
  {
   "cell_type": "code",
   "execution_count": 258,
   "metadata": {},
   "outputs": [],
   "source": [
    "grid_clip=Grid(np.array(grid.get_gridorigin())+np.array(tuple(grid.find_index((geom_utm_envelope[0],geom_utm_envelope[3]))))*np.array(grid.get_gridstepsize()),(metadata_dict['affine_transformation'][1],metadata_dict['affine_transformation'][5]))"
   ]
  },
  {
   "cell_type": "code",
   "execution_count": 259,
   "metadata": {},
   "outputs": [],
   "source": [
    "clip_metadata_dict={}\n",
    "clip_metadata_dict['affine_transformation']=grid_clip.get_affinetransformation()\n",
    "clip_metadata_dict['nodata']=float(np.min(a)) if np.min(a)<0 else np.nan\n",
    "clip_metadata_dict['proj_wkt']=utm32635_sr.ExportToWkt()"
   ]
  },
  {
   "cell_type": "code",
   "execution_count": 260,
   "metadata": {},
   "outputs": [],
   "source": [
    "im=Imagee(a,clip_metadata_dict)"
   ]
  },
  {
   "cell_type": "code",
   "execution_count": 261,
   "metadata": {},
   "outputs": [],
   "source": [
    "im.export_as_tif('vyrez.tif')"
   ]
  },
  {
   "cell_type": "code",
   "execution_count": 262,
   "metadata": {},
   "outputs": [],
   "source": [
    "a=np.array(ds_b4.GetRasterBand(1).ReadAsArray(xoff=int(origin[0]),yoff=int(origin[1]),win_xsize=int(size[0]),win_ysize=int(size[1])))\n",
    "im_b4=Imagee(a,clip_metadata_dict)\n",
    "im_b4.export_as_tif('vyrez_b4.tif')"
   ]
  },
  {
   "cell_type": "code",
   "execution_count": 263,
   "metadata": {},
   "outputs": [],
   "source": [
    "a=np.array(ds_b8.GetRasterBand(1).ReadAsArray(xoff=int(origin[0]),yoff=int(origin[1]),win_xsize=int(size[0]),win_ysize=int(size[1])))\n",
    "im_b8=Imagee(a,clip_metadata_dict)\n",
    "im_b8.export_as_tif('vyrez_b8.tif')"
   ]
  },
  {
   "cell_type": "code",
   "execution_count": 264,
   "metadata": {},
   "outputs": [],
   "source": [
    "b_all=np.dstack((im_b4.get_data(),im_b8.get_data(),im.get_data()))"
   ]
  },
  {
   "cell_type": "code",
   "execution_count": 265,
   "metadata": {},
   "outputs": [
    {
     "name": "stderr",
     "output_type": "stream",
     "text": [
      "/opt/conda/lib/python3.7/site-packages/ipykernel_launcher.py:1: FutureWarning: skimage.measure.label's indexing starts from 0. In future version it will start from 1. To disable this warning, explicitely set the `start_label` parameter to 1.\n",
      "  \"\"\"Entry point for launching an IPython kernel.\n"
     ]
    }
   ],
   "source": [
    "segments_slic = slic(b_all, n_segments=round(math.sqrt(ma.count(im.get_data()))*1.5), max_iter=100, compactness=0.5, sigma=1, multichannel=True, convert2lab=True, enforce_connectivity=True, min_size_factor=0.03, max_size_factor=5, slic_zero=True)"
   ]
  },
  {
   "cell_type": "code",
   "execution_count": 266,
   "metadata": {},
   "outputs": [],
   "source": [
    "segments=Imagee(segments_slic,im.get_metadata())"
   ]
  },
  {
   "cell_type": "code",
   "execution_count": 267,
   "metadata": {},
   "outputs": [],
   "source": [
    "segments.export_as_tif('vyrez_segmenty.tif')"
   ]
  },
  {
   "cell_type": "code",
   "execution_count": 268,
   "metadata": {},
   "outputs": [
    {
     "data": {
      "text/plain": [
       "0"
      ]
     },
     "execution_count": 268,
     "metadata": {},
     "output_type": "execute_result"
    }
   ],
   "source": [
    "c=np.dstack((b_all,segments.get_data()))\n",
    "#vectorize segment data\n",
    "segments_polygons=gdal_array.OpenNumPyArray(segments.get_data(),binterleave=True)\n",
    "segments_polygons.SetGeoTransform(segments.get_metadata()['affine_transformation'])\n",
    "segments_polygons.SetProjection(segments.get_metadata()['proj_wkt'])\n",
    "srs=osr.SpatialReference()\n",
    "srs.ImportFromWkt(segments.get_metadata()['proj_wkt'])\n",
    "#outDriver=ogr.GetDriverByName('MEMORY')\n",
    "outDriver=ogr.GetDriverByName('ESRI Shapefile')\n",
    "outDataSource=outDriver.CreateDataSource('segments.shp')\n",
    "outLayer = outDataSource.CreateLayer(\"data\", srs,geom_type=ogr.wkbPolygon)\n",
    "pixel_value = ogr.FieldDefn(\"pixel_value\", ogr.OFTInteger)\n",
    "outLayer.CreateField(pixel_value)\n",
    "gdal.Polygonize( segments_polygons.GetRasterBand(1) , None, outLayer, 0)"
   ]
  },
  {
   "cell_type": "code",
   "execution_count": 269,
   "metadata": {},
   "outputs": [],
   "source": [
    "del(outLayer,outDataSource,outDriver)"
   ]
  },
  {
   "cell_type": "code",
   "execution_count": 270,
   "metadata": {},
   "outputs": [],
   "source": [
    "fields_metadata=MetaData('Identified segments (fields)',\n",
    "                             {\"local\":\"segments.shp\", \"format\":\"ESRI Shapefile\"},\n",
    "                             'data')\n",
    "\n",
    "fields_ds=ds_from_metadata(fields_metadata)\n",
    "\n",
    "fields=GeoConcept('Identified segments (fields)','Identified segments (fields) based on 2,4 and 8 bands of Sentinel',\n",
    "                      'Feature',json_feature_structure, data_source=fields_ds, subgeoconcepts=[] )"
   ]
  },
  {
   "cell_type": "code",
   "execution_count": 271,
   "metadata": {},
   "outputs": [],
   "source": [
    "fields.get_data_source().set_data_file(fields.get_data_source().get_attributes()['local'])"
   ]
  },
  {
   "cell_type": "code",
   "execution_count": 272,
   "metadata": {},
   "outputs": [],
   "source": [
    "fields.set_geojson_output_backend(os.getcwd()+'/','segments.geojson')\n",
    "with open(fields.get_geojson_output_backend(), 'w', encoding='utf-8') as file:\n",
    "    geojson={\"type\": \"FeatureCollection\", \"features\": [] }\n",
    "    features=fields.get_data_source().read_features('feature',number=10)\n",
    "    for f in features:\n",
    "            if len(f)>0:\n",
    "                for feature in f:\n",
    "                    geojson[\"features\"].append(feature.export_to_geojson())\n",
    "    json.dump(geojson, file, ensure_ascii=False, indent=4)"
   ]
  },
  {
   "cell_type": "code",
   "execution_count": 319,
   "metadata": {},
   "outputs": [],
   "source": [
    "def compilable_transformation_dictionary(feature_var, sentinel_im, geometry_transformation=None):\n",
    "    t_dict=\\\n",
    "    {'feature':{'object':feature_var}, \\\n",
    "    'feature_id':{'function':(lambda y: y.get_id() if type(y)!=tridy.Feature else y.get_data()['pixel_valu']),'parameters':['feature']},\\\n",
    "    'feature_data':{'function':(lambda y: y.get_data()),'parameters':['feature']},\\\n",
    "    'feature_geometry':{'function':(lambda y: y.get_geometry()),'parameters':['feature']},\\\n",
    "    'sentinel_im':{'object': sentinel_im}, \\\n",
    "    'im_band2_cropped':{'function':(lambda y,  z:  Imagee(*y.get_raster_map()['im_band2'].clip_by_shape(z))    ),'parameters':['sentinel_im','feature_geometry']},\\\n",
    "    'im_band4_cropped':{'function':(lambda y,  z:  Imagee(*y.get_raster_map()['im_band4'].clip_by_shape(z))    ),'parameters':['sentinel_im','feature_geometry']},\\\n",
    "    'im_band8_cropped':{'function':(lambda y,  z:  Imagee(*y.get_raster_map()['im_band8'].clip_by_shape(z))    ),'parameters':['sentinel_im','feature_geometry']},\\\n",
    "    'cri2': {'function':(lambda y,  z:  Imagee((1 / (y.get_data()/10000) ) - (1 / (z.get_data()/10000) ),  y.get_metadata() ) ),'parameters':['im_band2_cropped', 'im_band8_cropped']},\\\n",
    "    'msr': {'function':(lambda x,  y,  z:  Imagee( (z.get_data()-x.get_data())/(y.get_data()-x.get_data()) ,  y.get_metadata() ) ),'parameters':['im_band2_cropped', 'im_band4_cropped', 'im_band8_cropped']},\\\n",
    "    'geometry_transformation':{'object': geometry_transformation}, \\\n",
    "    'transformed_geometry':{'function':(lambda y,  z:  transform_wkt_geometry(y,z) if z!=None else y ),'parameters':['feature_geometry','geometry_transformation']},\\\n",
    "    'result_feature':{'function':(lambda v,  w,  x,  y,  z:  FeatureWithID(data={**v, **{'cri2':y.get_statistics()}, **{'msr':z.get_statistics()}}, geom=w, id=x)   ),'parameters':['feature_data','transformed_geometry','feature_id','cri2', 'msr']},\\\n",
    "    }\n",
    "    return t_dict"
   ]
  },
  {
   "cell_type": "code",
   "execution_count": 320,
   "metadata": {},
   "outputs": [],
   "source": [
    "sentinel_im=FeatureWithRasterMap(data={},geom=('POLYGON ((%d %d, %d %d, %d %d, %d %d, %d %d))' % (geom_utm_envelope[0],geom_utm_envelope[2],geom_utm_envelope[0],geom_utm_envelope[3],geom_utm_envelope[1],geom_utm_envelope[3],geom_utm_envelope[1],geom_utm_envelope[2],geom_utm_envelope[0],geom_utm_envelope[2])),id=1,raster_map={'im_band2':im,'im_band4':im_b4,'im_band8':im_b8})"
   ]
  },
  {
   "cell_type": "code",
   "execution_count": 321,
   "metadata": {},
   "outputs": [],
   "source": [
    "features=fields.read_features_from_geojson_output_backend('feature',number=10)"
   ]
  },
  {
   "cell_type": "code",
   "execution_count": 322,
   "metadata": {},
   "outputs": [],
   "source": [
    "with open('testovaci.geojson', 'w', encoding='utf-8') as file:\n",
    "    geojson={\"type\": \"FeatureCollection\", \"features\": [] }\n",
    "    for f in features:\n",
    "        for ff in f:\n",
    "            if len(ff)>0:\n",
    "                for fff in ff:\n",
    "                    geojson[\"features\"].append(apply_function(compilable_transformation_dictionary(fff,sentinel_im,utm32635_to_wgs84),'result_feature').export_to_geojson())\n",
    "    json.dump(geojson, file, ensure_ascii=False, indent=4)"
   ]
  },
  {
   "cell_type": "code",
   "execution_count": 309,
   "metadata": {},
   "outputs": [],
   "source": [
    "from ipyleaflet import Map, GeoJSON\n",
    "m = Map(center=(ogr.CreateGeometryFromWkt(transform_wkt_geometry(sentinel_im.get_geometry(),utm32635_to_wgs84)).Centroid().GetY(),ogr.CreateGeometryFromWkt(transform_wkt_geometry(sentinel_im.get_geometry(),utm32635_to_wgs84)).Centroid().GetX()), zoom=14)"
   ]
  },
  {
   "cell_type": "code",
   "execution_count": 310,
   "metadata": {},
   "outputs": [],
   "source": [
    "geo_json = GeoJSON(data=geojson, style = {'color': 'green'})\n",
    "m.add_layer(geo_json)"
   ]
  },
  {
   "cell_type": "code",
   "execution_count": 311,
   "metadata": {},
   "outputs": [
    {
     "data": {
      "application/vnd.jupyter.widget-view+json": {
       "model_id": "236059912f3c474c861bfbe7e7a9045f",
       "version_major": 2,
       "version_minor": 0
      },
      "text/plain": [
       "Map(center=[40.5790184726627, 23.638355496988297], controls=(ZoomControl(options=['position', 'zoom_in_text', …"
      ]
     },
     "metadata": {},
     "output_type": "display_data"
    }
   ],
   "source": [
    "m"
   ]
  },
  {
   "cell_type": "code",
   "execution_count": 315,
   "metadata": {},
   "outputs": [],
   "source": [
    "for feature in geojson['features']:\n",
    "    if feature['properties']['cri2']['max']<9:\n",
    "        geojson['features'].remove(feature)"
   ]
  },
  {
   "cell_type": "code",
   "execution_count": 316,
   "metadata": {},
   "outputs": [],
   "source": [
    "geo_json = GeoJSON(data=geojson, style = {'color': 'red'})\n",
    "m.add_layer(geo_json)"
   ]
  },
  {
   "cell_type": "code",
   "execution_count": 323,
   "metadata": {},
   "outputs": [
    {
     "data": {
      "text/plain": [
       "{'type': 'Feature',\n",
       " 'geometry': {'type': 'Polygon',\n",
       "  'coordinates': [[[23.6343180481499, 40.5879164737783],\n",
       "    [23.6356156831297, 40.5879543185624],\n",
       "    [23.6356382429196, 40.5875046523924],\n",
       "    [23.6357562090707, 40.5875080920516],\n",
       "    [23.635769744228, 40.5872382922952],\n",
       "    [23.635887709927, 40.5872417318017],\n",
       "    [23.6358922214479, 40.587151798535],\n",
       "    [23.6357742559064, 40.5871483590395],\n",
       "    [23.6357787675644, 40.5870584257819],\n",
       "    [23.6356608022007, 40.5870549861769],\n",
       "    [23.6354248715343, 40.5870481066063],\n",
       "    [23.6354293836444, 40.5869581733795],\n",
       "    [23.634839558122, 40.5869409724033],\n",
       "    [23.6348169934311, 40.5873906382478],\n",
       "    [23.6345810617899, 40.5873837569071],\n",
       "    [23.6345765484757, 40.5874736900489],\n",
       "    [23.6343406166011, 40.5874668082055],\n",
       "    [23.6343180481499, 40.5879164737783]]]},\n",
       " 'properties': {'pixel_valu': 6,\n",
       "  'cri2': {'mean': 5.754054020569969,\n",
       "   'max': 8.469452365876533,\n",
       "   'min': 3.662154513054335},\n",
       "  'msr': {'mean': 1.0173150182287674,\n",
       "   'max': 193.16666666666666,\n",
       "   'min': -38.8}}}"
      ]
     },
     "execution_count": 323,
     "metadata": {},
     "output_type": "execute_result"
    }
   ],
   "source": [
    "geojson['features'][0]"
   ]
  },
  {
   "cell_type": "code",
   "execution_count": 57,
   "metadata": {},
   "outputs": [
    {
     "data": {
      "image/png": "[encoded data removed]",
      "text/plain": [
       "<Figure size 432x288 with 2 Axes>"
      ]
     },
     "metadata": {
      "needs_background": "light"
     },
     "output_type": "display_data"
    }
   ],
   "source": [
    "plt.imshow(im_b8.get_data(), origin=\"upper\", cmap='gray', interpolation='nearest')\n",
    "plt.colorbar()\n",
    "plt.show()"
   ]
  },
  {
   "cell_type": "code",
   "execution_count": 58,
   "metadata": {},
   "outputs": [
    {
     "data": {
      "image/png": "[encoded data removed]",
      "text/plain": [
       "<Figure size 432x288 with 2 Axes>"
      ]
     },
     "metadata": {
      "needs_background": "light"
     },
     "output_type": "display_data"
    }
   ],
   "source": [
    "plt.imshow(segments.get_data(), origin=\"upper\", cmap='gray', interpolation='nearest')\n",
    "plt.colorbar()\n",
    "plt.show()"
   ]
  },
  {
   "cell_type": "code",
   "execution_count": 317,
   "metadata": {},
   "outputs": [
    {
     "data": {
      "text/plain": [
       "{'title': 'S2B_MSIL1C_20200418T092029_N0209_R093_T35TKE_20200418T114821',\n",
       " 'link': \"https://scihub.copernicus.eu/dhus/odata/v1/Products('f1a06e84-ef56-4970-9ebb-14dd035d5988')/$value\",\n",
       " 'link_alternative': \"https://scihub.copernicus.eu/dhus/odata/v1/Products('f1a06e84-ef56-4970-9ebb-14dd035d5988')/\",\n",
       " 'link_icon': \"https://scihub.copernicus.eu/dhus/odata/v1/Products('f1a06e84-ef56-4970-9ebb-14dd035d5988')/Products('Quicklook')/$value\",\n",
       " 'summary': 'Date: 2020-04-18T09:20:29.024Z, Instrument: MSI, Satellite: Sentinel-2, Size: 362.41 MB',\n",
       " 'ondemand': 'false',\n",
       " 'datatakesensingstart': datetime.datetime(2020, 4, 18, 9, 20, 29, 24000),\n",
       " 'beginposition': datetime.datetime(2020, 4, 18, 9, 20, 29, 24000),\n",
       " 'endposition': datetime.datetime(2020, 4, 18, 9, 20, 29, 24000),\n",
       " 'ingestiondate': datetime.datetime(2020, 4, 18, 18, 7, 51, 686000),\n",
       " 'orbitnumber': 16278,\n",
       " 'relativeorbitnumber': 93,\n",
       " 'cloudcoverpercentage': 0.0,\n",
       " 'sensoroperationalmode': 'INS-NOBS',\n",
       " 'gmlfootprint': '<gml:Polygon srsName=\"http://www.opengis.net/gml/srs/epsg.xml#4326\" xmlns:gml=\"http://www.opengis.net/gml\">\\n   <gml:outerBoundaryIs>\\n      <gml:LinearRing>\\n         <gml:coordinates>40.620183474312306,24.401745078795507 40.54680920515194,24.375214852788528 40.40056321587085,24.322608649771087 40.254392054221725,24.26989988752187 40.108071071632736,24.21791645008259 39.96174258654708,24.165708287967547 39.815351858026894,24.113611660027768 39.668912164793575,24.06171774396951 39.62229329289445,24.045282317160215 39.609013147606916,23.505487352393626 40.59640146890937,23.454536298536556 40.620183474312306,24.401745078795507</gml:coordinates>\\n      </gml:LinearRing>\\n   </gml:outerBoundaryIs>\\n</gml:Polygon>',\n",
       " 'footprint': 'MULTIPOLYGON (((23.505487352393626 39.609013147606916, 24.045282317160215 39.62229329289445, 24.06171774396951 39.668912164793575, 24.113611660027768 39.815351858026894, 24.165708287967547 39.96174258654708, 24.21791645008259 40.108071071632736, 24.26989988752187 40.254392054221725, 24.322608649771087 40.40056321587085, 24.375214852788528 40.54680920515194, 24.401745078795507 40.620183474312306, 23.454536298536556 40.59640146890937, 23.505487352393626 39.609013147606916)))',\n",
       " 'level1cpdiidentifier': 'S2B_OPER_MSI_L1C_TL_MTI__20200418T114821_A016278_T35TKE_N02.09',\n",
       " 'tileid': '35TKE',\n",
       " 'hv_order_tileid': 'TE35K',\n",
       " 'format': 'SAFE',\n",
       " 'processingbaseline': '02.09',\n",
       " 'platformname': 'Sentinel-2',\n",
       " 'filename': 'S2B_MSIL1C_20200418T092029_N0209_R093_T35TKE_20200418T114821.SAFE',\n",
       " 'instrumentname': 'Multi-Spectral Instrument',\n",
       " 'instrumentshortname': 'MSI',\n",
       " 'size': '362.41 MB',\n",
       " 's2datatakeid': 'GS2B_20200418T092029_016278_N02.09',\n",
       " 'producttype': 'S2MSI1C',\n",
       " 'platformidentifier': '2017-013A',\n",
       " 'orbitdirection': 'DESCENDING',\n",
       " 'platformserialidentifier': 'Sentinel-2B',\n",
       " 'processinglevel': 'Level-1C',\n",
       " 'identifier': 'S2B_MSIL1C_20200418T092029_N0209_R093_T35TKE_20200418T114821',\n",
       " 'uuid': 'f1a06e84-ef56-4970-9ebb-14dd035d5988',\n",
       " 'granuleidentifier': 'S2B_OPER_MSI_L1C_TL_MTI__20200418T114821_A016278_T35TKE_N02.09',\n",
       " 'datastripidentifier': 'S2B_OPER_MSI_L1C_DS_MTI__20200418T114821_S20200418T092620_N02.09'}"
      ]
     },
     "execution_count": 317,
     "metadata": {},
     "output_type": "execute_result"
    }
   ],
   "source": [
    "products[product]"
   ]
  },
  {
   "cell_type": "code",
   "execution_count": null,
   "metadata": {},
   "outputs": [],
   "source": []
  }
 ],
 "metadata": {
  "kernelspec": {
   "display_name": "Python 3",
   "language": "python",
   "name": "python3"
  },
  "language_info": {
   "codemirror_mode": {
    "name": "ipython",
    "version": 3
   },
   "file_extension": ".py",
   "mimetype": "text/x-python",
   "name": "python",
   "nbconvert_exporter": "python",
   "pygments_lexer": "ipython3",
   "version": "3.7.8"
  }
 },
 "nbformat": 4,
 "nbformat_minor": 4
}
