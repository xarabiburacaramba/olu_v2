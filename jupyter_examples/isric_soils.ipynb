{
 "cells": [
  {
   "cell_type": "code",
   "execution_count": 1,
   "metadata": {},
   "outputs": [],
   "source": [
    "import os\n",
    "import tridy\n",
    "from tridy import GeoConcept, SubGeoConcept, MetaData, Table, View, DBStorage, DataSource, Feature, FeatureWithID,  AdmUnitFeature, OLUFeature, Grid, Imagee, ds_from_metadata, xml_lpis_cz_reader, lpis_cz__posledni_aktualizace, get_listvalues_from_generator, apply_function, select_nodes_from_graph, unzip_file, find_neighbors_till, connection_parameters_to_pg, world_to_pixel \n",
    "from importlib import reload\n",
    "import requests\n",
    "import datetime\n",
    "import re\n",
    "from io import BytesIO\n",
    "\n",
    "from requests.adapters import HTTPAdapter\n",
    "from requests.packages.urllib3.util.retry import Retry\n",
    "\n",
    "from osgeo import ogr, osr, gdal\n",
    "import networkx as nx\n",
    "import numpy as np\n",
    "import json\n",
    "import binascii\n",
    "import copy\n",
    "import time\n",
    "\n",
    "from lxml import etree"
   ]
  },
  {
   "cell_type": "code",
   "execution_count": 53,
   "metadata": {},
   "outputs": [],
   "source": [
    "del(GeoConcept, SubGeoConcept, MetaData, Table, View, DBStorage, DataSource, Feature, FeatureWithID, AdmUnitFeature, OLUFeature, Grid, Imagee, ds_from_metadata,xml_lpis_cz_reader,get_listvalues_from_generator,apply_function,select_nodes_from_graph,world_to_pixel)\n",
    "reload(tridy)\n",
    "from tridy import GeoConcept, SubGeoConcept, MetaData, Table, View, DBStorage, DataSource, Feature, FeatureWithID, AdmUnitFeature, OLUFeature, Grid, Imagee, ds_from_metadata, xml_lpis_cz_reader, get_listvalues_from_generator, apply_function, select_nodes_from_graph,world_to_pixel"
   ]
  },
  {
   "cell_type": "code",
   "execution_count": 3,
   "metadata": {},
   "outputs": [],
   "source": [
    "replacement_dictionary = {\"[posledni_den_mesice]\":(datetime.datetime.today().replace(day=1)-datetime.timedelta(days=1)).strftime('%Y%m%d'),\"[lpis_cz__posledni_aktualizace]\":lpis_cz__posledni_aktualizace().strftime('%Y%m%d'), \"[vcera]\":(datetime.datetime.today().replace(day=1)-datetime.timedelta(days=1)).strftime('%Y%m%d')} \n",
    "json_feature_structure=[{\"name\":\"id\",\"type\":\"serial primary key\"},{\"name\":\"geom\",\"type\":\"geometry\"},{\"name\":\"data\",\"type\":\"json\"}]\n",
    "json_feature_with_bigid_structure=[{\"name\":\"id\",\"type\":\"bigint primary key\"},{\"name\":\"geom\",\"type\":\"geometry\"},{\"name\":\"data\",\"type\":\"json\"}]\n",
    "json_admin_unit_structure=[{\"name\":\"id\",\"type\":\"integer primary key\"},{\"name\":\"geom\",\"type\":\"geometry\"},{\"name\":\"data\",\"type\":\"json\"},{\"name\":\"level\",\"type\":\"integer\"},{\"name\":\"parent_id\",\"type\":\"text\"}]\n",
    "json_admin_unit_structure_at=[{\"name\":\"id\",\"type\":\"text primary key\"},{\"name\":\"geom\",\"type\":\"geometry\"},{\"name\":\"data\",\"type\":\"json\"},{\"name\":\"level\",\"type\":\"integer\"},{\"name\":\"parent_id\",\"type\":\"text\"}]"
   ]
  },
  {
   "cell_type": "code",
   "execution_count": 54,
   "metadata": {},
   "outputs": [],
   "source": [
    "admunit_cz__metadata=MetaData('Administrative units in Czech Republic',\n",
    "                              {\"url\":\"https://vdp.cuzk.cz/vymenny_format/soucasna/[posledni_den_mesice]_ST_UKSG.xml.zip\",\n",
    "                               \"format\":\"GML\", \"compression\":\"zip\"},'data')"
   ]
  },
  {
   "cell_type": "code",
   "execution_count": 55,
   "metadata": {},
   "outputs": [],
   "source": [
    "admunit_cz__ds=ds_from_metadata(admunit_cz__metadata)\n",
    "admunit_cz=GeoConcept('Administrative units in Czech Republic','Administrative units in Czech Republic. All levels.',\n",
    "                      'AdmUnitFeature',json_admin_unit_structure, data_source=admunit_cz__ds, subgeoconcepts=[] )"
   ]
  },
  {
   "cell_type": "code",
   "execution_count": 56,
   "metadata": {},
   "outputs": [],
   "source": [
    "url_adresa=admunit_cz__ds.get_attributes()['url']\n",
    "for i in re.findall('\\[.*?\\]',url_adresa):\n",
    "    if i in list(replacement_dictionary.keys()):\n",
    "        url_adresa=url_adresa.replace(i,replacement_dictionary[i])\n",
    "        \n",
    "admunit_cz__ds.set_attribute({'url':url_adresa})\n",
    "del(url_adresa)"
   ]
  },
  {
   "cell_type": "code",
   "execution_count": 57,
   "metadata": {},
   "outputs": [],
   "source": [
    "admunit_cz__ds.set_data_file('20201031_ST_UKSG.xml')"
   ]
  },
  {
   "cell_type": "code",
   "execution_count": 58,
   "metadata": {},
   "outputs": [],
   "source": [
    "concept_list=['Staty','Vusc','Okresy','Obce','KatastralniUzemi']\n",
    "concept_additional_attributes={'Staty':{'level_value':0,'parent_value':'null','id_attribute':'Kod'},\n",
    "                               'Vusc':{'level_value':1,'parent_value':'1','id_attribute':'Kod'},\n",
    "                               'Okresy':{'level_value':2,'parent_attribute':'VuscKod','id_attribute':'Kod'},\n",
    "                               'Obce':{'level_value':3,'parent_attribute':'OkresKod','id_attribute':'Kod'},\n",
    "                               'KatastralniUzemi':{'level_value':4,'parent_attribute':'ObecKod','id_attribute':'Kod'}}"
   ]
  },
  {
   "cell_type": "code",
   "execution_count": 59,
   "metadata": {},
   "outputs": [],
   "source": [
    "for l in list(set(concept_list).intersection(set(admunit_cz.get_data_source().list_layers()))):\n",
    "    admunit_cz.append_subgeoconcept(SubGeoConcept(l,l,'AdmUnitFeature',admunit_cz.get_attributes(),data_source=DataSource(admunit_cz.get_data_source().get_type(),admunit_cz.get_data_source().get_name(),({**admunit_cz.get_data_source().get_attributes(),**{'layer':l}}),None,admunit_cz.get_data_source().get_data_file()),supergeoconcept=admunit_cz,table_inheritance=False,type='semantic',subgeoconcepts=[]))"
   ]
  },
  {
   "cell_type": "code",
   "execution_count": 60,
   "metadata": {},
   "outputs": [],
   "source": [
    "#uzemni celky\n",
    "dbs_admin_connection={'dbname':'olu_administrative_units','user':'p4b','host':'10.0.0.26','port':'5432','password':'p4b'}\n",
    "dbs_admin=DBStorage(dbs_admin_connection)\n",
    "dbs_admin.connect()\n",
    "dbs_admin.disconnect()\n",
    "dbs_admin.connect()\n",
    "\n",
    "#zdrojova data\n",
    "dbs_lpis_cz_connection={'dbname':'lpis_cz','user':'p4b','host':'10.0.0.26','port':'5432','password':'p4b'}\n",
    "dbs_lpis_cz=DBStorage(dbs_lpis_cz_connection)\n",
    "dbs_lpis_cz.connect()\n",
    "dbs_lpis_cz.disconnect()\n",
    "dbs_lpis_cz.connect()\n",
    "\n",
    "dbs_ruian_cz_connection={'dbname':'ruian_cz','user':'p4b','host':'10.0.0.26','port':'5432','password':'p4b'}\n",
    "dbs_ruian_cz=DBStorage(dbs_ruian_cz_connection)\n",
    "dbs_ruian_cz.connect()\n",
    "dbs_ruian_cz.disconnect()\n",
    "dbs_ruian_cz.connect()\n",
    "\n",
    "dbs_ua_cz_connection={'dbname':'ua_cz','user':'p4b','host':'10.0.0.26','port':'5432','password':'p4b'}\n",
    "dbs_ua_cz=DBStorage(dbs_ua_cz_connection)\n",
    "dbs_ua_cz.connect()\n",
    "dbs_ua_cz.disconnect()\n",
    "dbs_ua_cz.connect()\n",
    "\n",
    "dbs_corine_cz_connection={'dbname':'corine_cz','user':'p4b','host':'10.0.0.26','port':'5432','password':'p4b'}\n",
    "dbs_corine_cz=DBStorage(dbs_corine_cz_connection)\n",
    "dbs_corine_cz.connect()\n",
    "dbs_corine_cz.disconnect()\n",
    "dbs_corine_cz.connect()\n",
    "\n",
    "#pripojeni na vyslednou databazi\n",
    "dbs_olu_connection={'dbname':'lpis_soils','user':'p4b','host':'10.0.0.26','port':'5432','password':'p4b'}\n",
    "dbs_olu=DBStorage(dbs_olu_connection)\n",
    "dbs_olu.connect()\n",
    "dbs_olu.disconnect()\n",
    "dbs_olu.connect()"
   ]
  },
  {
   "cell_type": "code",
   "execution_count": 61,
   "metadata": {},
   "outputs": [],
   "source": [
    "admunit_cz.create_table(dbs_admin, name='default',scheme='cz',conflict='append')"
   ]
  },
  {
   "cell_type": "code",
   "execution_count": 62,
   "metadata": {},
   "outputs": [],
   "source": [
    "for sub in admunit_cz.get_subgeoconcepts():\n",
    "    sub.set_table(View(sub.get_name(),sub.get_attributes(), sub.get_supergeoconcept().get_table(),\"level=%s\" % (concept_additional_attributes[sub.get_name()]['level_value']), dbs=dbs_admin, scheme='public', type='usual'))\n",
    "    dbs_admin.execute(sub.get_table().create_script())"
   ]
  },
  {
   "cell_type": "code",
   "execution_count": 16,
   "metadata": {},
   "outputs": [],
   "source": [
    "def compilable_tree_dictionary(object): \n",
    "    g_dict=\\\n",
    "    {'admunit':{'object':object},\\\n",
    "    'admunit__tree':{'object':'admunit','function':'return_graph_representation'},\\\n",
    "    'admunit__tree__level3':{'function':select_nodes_from_graph,'parameters':['admunit__tree','level',3]},\\\n",
    "    'admunit__tree__level4':{'function':select_nodes_from_graph,'parameters':['admunit__tree','level',4]}}\n",
    "    return g_dict"
   ]
  },
  {
   "cell_type": "code",
   "execution_count": 17,
   "metadata": {},
   "outputs": [],
   "source": [
    "def find_neighbors_level(graph,start_node,level):\n",
    "    if graph.nodes()[start_node]['level']==level:\n",
    "        yield start_node\n",
    "    else:\n",
    "        for n in graph.neighbors(start_node):\n",
    "            yield from find_neighbors_level(graph,n,level) "
   ]
  },
  {
   "cell_type": "code",
   "execution_count": 18,
   "metadata": {},
   "outputs": [],
   "source": [
    "def raster_value(point,transformation,raster):\n",
    "    point.Transform(transformation)\n",
    "    return raster.get_data()[tuple(np.flip(world_to_pixel(raster.get_metadata()['affine_transformation'],point.GetX(),point.GetY())))]"
   ]
  },
  {
   "cell_type": "code",
   "execution_count": 19,
   "metadata": {},
   "outputs": [],
   "source": [
    "def get_ruian_au_feature_geometry_from_wfs(gml_id):\n",
    "    url='https://services.cuzk.cz/wfs/inspire-au-wfs.asp?service=WFS&request=GetFeature&typeName=au:AdministrativeUnit&maxFeatures=1&featureID=%s&version=2.0.0' %gml_id\n",
    "    r=requests.get(url,stream=False)\n",
    "    if r.status_code==200:\n",
    "        tree=etree.parse(BytesIO(r.content))\n",
    "        root=tree.getroot()\n",
    "        geom=root.find('.//{http://www.opengis.net/gml/3.2}MultiSurface')\n",
    "        geom_ogr=ogr.CreateGeometryFromGML(etree.tostring(geom).decode())\n",
    "        return geom_ogr.ExportToWkt()\n",
    "    else:\n",
    "        return 'WFS no works'"
   ]
  },
  {
   "cell_type": "code",
   "execution_count": 20,
   "metadata": {},
   "outputs": [
    {
     "data": {
      "text/plain": [
       "'for i in admunit_cz.read_features_from_table(number=100):\\n    if len(i)>0:\\n        for j in i:\\n            try:\\n                dbs_admin.execute(\"update %s.%s set geom=st_geomfromtext(\\'%s\\') where data->>\\'gml_id\\'=\\'%s\\'\" % (admunit_cz.get_table().get_scheme(),admunit_cz.get_table().get_name(),get_ruian_au_feature_geometry_from_wfs(j.get_data()[\\'gml_id\\']),j.get_data()[\\'gml_id\\']) )\\n            except:\\n                dbs_admin.disconnect()\\n                dbs_admin.connect()\\n                print(j.get_data()[\\'gml_id\\'])\\n    else:\\n        break\\n'"
      ]
     },
     "execution_count": 20,
     "metadata": {},
     "output_type": "execute_result"
    }
   ],
   "source": [
    "'''for i in admunit_cz.read_features_from_table(number=100):\n",
    "    if len(i)>0:\n",
    "        for j in i:\n",
    "            try:\n",
    "                dbs_admin.execute(\"update %s.%s set geom=st_geomfromtext('%s') where data->>'gml_id'='%s'\" % (admunit_cz.get_table().get_scheme(),admunit_cz.get_table().get_name(),get_ruian_au_feature_geometry_from_wfs(j.get_data()['gml_id']),j.get_data()['gml_id']) )\n",
    "            except:\n",
    "                dbs_admin.disconnect()\n",
    "                dbs_admin.connect()\n",
    "                print(j.get_data()['gml_id'])\n",
    "    else:\n",
    "        break\n",
    "'''\n",
    "#obnoveno vsechno az na katastralni uzemi"
   ]
  },
  {
   "cell_type": "code",
   "execution_count": 21,
   "metadata": {},
   "outputs": [],
   "source": [
    "G=apply_function(compilable_tree_dictionary(admunit_cz),'admunit__tree')"
   ]
  },
  {
   "cell_type": "code",
   "execution_count": 22,
   "metadata": {},
   "outputs": [],
   "source": [
    "lpis_cz__metadata=MetaData('LPIS in Czech Republic',\n",
    "                              [{\"url\":\"http://eagri.cz/public/app/eagriapp/lpisdata/[lpis_cz__posledni_aktualizace]-{admunit__tree__level4}-DPB-SHP.zip\",\n",
    "                               \"format\":\"SHP\", \"compression\":\"zip\"},{\"url\":\"http://eagri.cz/public/app/eagriapp/lpisdata/[lpis_cz__posledni_aktualizace]-{admunit__tree__level4}-DPB-XML-A.zip\",\n",
    "                               \"format\":\"XML\", \"compression\":\"zip\"}],'data')\n",
    "lpis_cz__ds_xml=ds_from_metadata(lpis_cz__metadata,format='XML')\n",
    "lpis_cz=GeoConcept('LPIS in Czech Republic','LPIS in Czech Republic. All levels.',\n",
    "                      'Feature',json_feature_structure, data_source=lpis_cz__ds_xml, subgeoconcepts=[], adm_graph_node='1')"
   ]
  },
  {
   "cell_type": "code",
   "execution_count": 23,
   "metadata": {},
   "outputs": [],
   "source": [
    "lpis_cz.create_table(dbs_lpis_cz,name='default',scheme='public',conflict='append')"
   ]
  },
  {
   "cell_type": "code",
   "execution_count": 24,
   "metadata": {},
   "outputs": [],
   "source": [
    "url_adresa=lpis_cz__ds_xml.get_attributes()['url']\n",
    "for i in re.findall('\\[.*?\\]',url_adresa):\n",
    "    if i in list(replacement_dictionary.keys()):\n",
    "        url_adresa=url_adresa.replace(i,replacement_dictionary[i])\n",
    "lpis_cz__ds_xml.set_attribute({'url':url_adresa})\n",
    "del(url_adresa)"
   ]
  },
  {
   "cell_type": "code",
   "execution_count": 25,
   "metadata": {},
   "outputs": [],
   "source": [
    "for i in re.findall('\\{.*?\\}',lpis_cz__ds_xml.get_attributes()['url']): \n",
    "    if i[1:-1] in list(compilable_tree_dictionary(admunit_cz).keys()):\n",
    "        for j in apply_function(compilable_tree_dictionary(admunit_cz),i[1:-1]):\n",
    "            lpis_cz.append_subgeoconcept(SubGeoConcept(str(j),'LPIS in Czech administrative territorial unit %s ' % str(j),'Feature',lpis_cz.get_attributes(),data_source=DataSource(lpis_cz.get_data_source().get_type(),lpis_cz.get_data_source().get_name(),(dict(lpis_cz.get_data_source().get_attributes(),**{'url':lpis_cz.get_data_source().get_attributes()['url'].replace(i,str(j))})),None,None),supergeoconcept=lpis_cz,table_inheritance=True,subgeoconcepts=[],type='spatial:admin',adm_graph_node=str(j)))"
   ]
  },
  {
   "cell_type": "code",
   "execution_count": 26,
   "metadata": {},
   "outputs": [],
   "source": [
    "for s in lpis_cz.get_subgeoconcepts():\n",
    "    municipality=[i for i in G.neighbors(str(s.get_adm_graph_node()))][0]\n",
    "    s.create_table(dbs_lpis_cz,name='ob_'+str(municipality),scheme='data',conflict='append',adm_graph_node=municipality)"
   ]
  },
  {
   "cell_type": "code",
   "execution_count": 34,
   "metadata": {},
   "outputs": [],
   "source": [
    "lpis_mnichovice=lpis_cz.get_subgeoconcept_by_table_adm_node('538493')"
   ]
  },
  {
   "cell_type": "code",
   "execution_count": 63,
   "metadata": {},
   "outputs": [],
   "source": [
    "f=admunit_cz.get_subgeoconcept_by_name('Obce').read_features_from_table_by_sqlcondition('id=538493',1)"
   ]
  },
  {
   "cell_type": "code",
   "execution_count": 64,
   "metadata": {},
   "outputs": [
    {
     "data": {
      "text/plain": [
       "'public'"
      ]
     },
     "execution_count": 64,
     "metadata": {},
     "output_type": "execute_result"
    }
   ],
   "source": [
    "admunit_cz.get_subgeoconcept_by_name('Obce').get_table().get_scheme()"
   ]
  },
  {
   "cell_type": "code",
   "execution_count": 65,
   "metadata": {},
   "outputs": [],
   "source": [
    "f=next(f)[0]"
   ]
  },
  {
   "cell_type": "code",
   "execution_count": 70,
   "metadata": {},
   "outputs": [
    {
     "data": {
      "text/plain": [
       "(-725890.62, -721453.14, -1064096.36, -1060851.76)"
      ]
     },
     "execution_count": 70,
     "metadata": {},
     "output_type": "execute_result"
    }
   ],
   "source": [
    "ogr.CreateGeometryFromWkb(binascii.unhexlify(f.get_geometry())).GetEnvelope()"
   ]
  },
  {
   "cell_type": "code",
   "execution_count": 71,
   "metadata": {},
   "outputs": [],
   "source": [
    "wgs84_sr=osr.SpatialReference()\n",
    "wgs84_sr.ImportFromProj4('+proj=longlat +datum=WGS84 +no_defs')\n",
    "\n",
    "homolosine_sr=osr.SpatialReference()\n",
    "homolosine_sr.ImportFromProj4('+proj=igh +lat_0=0 +lon_0=0 +datum=WGS84 +units=m +no_defs')\n",
    "\n",
    "sjtsk5514_sr=osr.SpatialReference()\n",
    "sjtsk5514_sr.ImportFromProj4('+proj=krovak +lat_0=49.5 +lon_0=24.83333333333333 +alpha=30.28813975277778 +k=0.9999 +x_0=0 +y_0=0 +ellps=bessel +units=m +towgs84=570.8,85.7,462.8,4.998,1.587,5.261,3.56 +no_defs')\n",
    "\n",
    "sjtsk5514_to_wgs84=osr.CoordinateTransformation(sjtsk5514_sr,wgs84_sr)\n",
    "wgs84_to_homolosine=osr.CoordinateTransformation(wgs84_sr,homolosine_sr)\n",
    "homolosine_to_wgs84=osr.CoordinateTransformation(homolosine_sr,wgs84_sr)"
   ]
  },
  {
   "cell_type": "code",
   "execution_count": 72,
   "metadata": {},
   "outputs": [],
   "source": [
    "f.transform_geometry(sjtsk5514_to_wgs84)"
   ]
  },
  {
   "cell_type": "code",
   "execution_count": 75,
   "metadata": {},
   "outputs": [],
   "source": [
    "bbox=ogr.CreateGeometryFromWkt(f.get_geometry()).GetEnvelope()"
   ]
  },
  {
   "cell_type": "code",
   "execution_count": 87,
   "metadata": {},
   "outputs": [],
   "source": [
    "mnichovice_bbox=(bbox[0]-0.1,bbox[3]+0.1,bbox[1]+0.1,bbox[2]-0.1)"
   ]
  },
  {
   "cell_type": "code",
   "execution_count": 88,
   "metadata": {},
   "outputs": [],
   "source": [
    "mnichovice_bbox_homolosine=(*wgs84_to_homolosine.TransformPoint(*mnichovice_bbox[0:2])[0:2],*wgs84_to_homolosine.TransformPoint(*mnichovice_bbox[2:4])[0:2])"
   ]
  },
  {
   "cell_type": "code",
   "execution_count": 89,
   "metadata": {},
   "outputs": [],
   "source": [
    "res = 250 "
   ]
  },
  {
   "cell_type": "code",
   "execution_count": 90,
   "metadata": {},
   "outputs": [],
   "source": [
    "location = \"https://files.isric.org/soilgrids/latest/data/\""
   ]
  },
  {
   "cell_type": "code",
   "execution_count": 91,
   "metadata": {},
   "outputs": [],
   "source": [
    "sg_url = f\"/vsicurl?max_retry=3&retry_delay=1&list_dir=no&url={location}\""
   ]
  },
  {
   "cell_type": "code",
   "execution_count": 92,
   "metadata": {},
   "outputs": [],
   "source": [
    "kwargs = {'format': 'GTiff', 'projWin': mnichovice_bbox_homolosine, 'projWinSRS': homolosine_sr.ExportToProj4(), 'xRes': res, 'yRes': res, 'creationOptions': [\"TILED=YES\", \"COMPRESS=DEFLATE\", \"PREDICTOR=2\", \"BIGTIFF=YES\"]}\n"
   ]
  },
  {
   "cell_type": "code",
   "execution_count": 93,
   "metadata": {},
   "outputs": [],
   "source": [
    "ds = gdal.Translate('ocd_0_5cm_mean_mnichovice.tif', \n",
    "                    sg_url + 'ocd/ocd_0-5cm_mean.vrt', \n",
    "                    **kwargs)"
   ]
  },
  {
   "cell_type": "code",
   "execution_count": 94,
   "metadata": {},
   "outputs": [],
   "source": [
    "del(ds)"
   ]
  },
  {
   "cell_type": "code",
   "execution_count": 95,
   "metadata": {},
   "outputs": [],
   "source": [
    "statisticka_hodnota='mean'\n",
    "\n",
    "hloubky=[0,5,15,30,60,100]\n",
    "j_hloubky='cm'\n",
    "\n",
    "intervaly1=[(hloubky[i],hloubky[i+1]) for i in range(len(hloubky)-1)]\n",
    "intervaly2=[(0,30)]\n",
    "\n",
    "slovnik_pudnich_parametru={'ocd':{'nazev':'organic carbon density','hloubky':intervaly1},\n",
    "'ocs': {'nazev':'organic carbon stocks','hloubky':intervaly2},\n",
    "'phh2o':{'nazev':'pH water','hloubky':intervaly1},'nitrogen':{'nazev':'nitrogen','hloubky':intervaly1}}"
   ]
  },
  {
   "cell_type": "code",
   "execution_count": 99,
   "metadata": {},
   "outputs": [],
   "source": [
    "for key, value in slovnik_pudnich_parametru.items():\n",
    "    for hloubka in value['hloubky']:\n",
    "        ds = gdal.Translate('mnichovice_'+key+'_'+str(hloubka[0])+'-'+str(hloubka[1])+j_hloubky+'_'+statisticka_hodnota+'.tif', \n",
    "                    sg_url + key+'/'+key+'_'+str(hloubka[0])+'-'+str(hloubka[1])+j_hloubky+'_'+statisticka_hodnota+'.vrt', \n",
    "                    **kwargs)\n",
    "        del(ds)\n",
    "        time.sleep(5)"
   ]
  }
 ],
 "metadata": {
  "kernelspec": {
   "display_name": "Python 3",
   "language": "python",
   "name": "python3"
  },
  "language_info": {
   "codemirror_mode": {
    "name": "ipython",
    "version": 3
   },
   "file_extension": ".py",
   "mimetype": "text/x-python",
   "name": "python",
   "nbconvert_exporter": "python",
   "pygments_lexer": "ipython3",
   "version": "3.6.7"
  }
 },
 "nbformat": 4,
 "nbformat_minor": 4
}
