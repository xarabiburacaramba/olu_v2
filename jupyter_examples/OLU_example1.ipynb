{
 "cells": [
  {
   "cell_type": "code",
   "execution_count": 1,
   "metadata": {},
   "outputs": [],
   "source": [
    "import os\n",
    "import tridy\n",
    "from tridy import GeoConcept, SubGeoConcept, MetaData, Table, View, DBStorage, DataSource, Feature, FeatureWithID,  AdmUnitFeature, OLUFeature, Grid, Imagee, ds_from_metadata, xml_lpis_cz_reader, lpis_cz__posledni_aktualizace, get_listvalues_from_generator, apply_function, select_nodes_from_graph, unzip_file, find_neighbors_till, connection_parameters_to_pg, transform_name_to_postgresql_format, world_to_pixel \n",
    "from importlib import reload\n",
    "import requests\n",
    "import datetime\n",
    "import re\n",
    "from io import BytesIO\n",
    "\n",
    "from requests.adapters import HTTPAdapter\n",
    "from requests.packages.urllib3.util.retry import Retry\n",
    "\n",
    "from osgeo import ogr, osr, gdal\n",
    "import networkx as nx\n",
    "import numpy as np\n",
    "import json\n",
    "import binascii\n",
    "import copy\n",
    "import time\n",
    "\n",
    "from lxml import etree"
   ]
  },
  {
   "cell_type": "code",
   "execution_count": 2,
   "metadata": {},
   "outputs": [],
   "source": [
    "del(GeoConcept, SubGeoConcept, MetaData, Table, View, DBStorage, DataSource, Feature, FeatureWithID, AdmUnitFeature, OLUFeature, Grid, Imagee, ds_from_metadata,xml_lpis_cz_reader,get_listvalues_from_generator,apply_function,select_nodes_from_graph,world_to_pixel)\n",
    "reload(tridy)\n",
    "from tridy import GeoConcept, SubGeoConcept, MetaData, Table, View, DBStorage, DataSource, Feature, FeatureWithID, AdmUnitFeature, OLUFeature, Grid, Imagee, ds_from_metadata, xml_lpis_cz_reader, get_listvalues_from_generator, apply_function, select_nodes_from_graph,world_to_pixel"
   ]
  },
  {
   "cell_type": "code",
   "execution_count": 3,
   "metadata": {},
   "outputs": [],
   "source": [
    "class Theme():\n",
    "    ''''popis pasportu objektu'''\n",
    "    def __init__(self, name, description,  attributes):\n",
    "        self._name=name\n",
    "        self._description=description\n",
    "        self._attributes=attributes\n",
    "    def get_name(self):\n",
    "        return self._name\n",
    "    def get_description(self):\n",
    "        return self._description\n",
    "    def get_attributes(self):\n",
    "        return self._attributes\n",
    "    def set_geometry_order(self, geoconcepts):\n",
    "        self._geometry_order=geoconcepts\n",
    "    def get_geometry_order(self):\n",
    "        return self._geometry_order\n",
    "    def set_attribute_order(self, geoconcepts):\n",
    "        self._attribute_order=geoconcepts\n",
    "    def get_attribute_order(self):\n",
    "        return self._attribute_order\n",
    "    def set_dictionary(self, dictionary):\n",
    "        self._dictionary=dictionary\n",
    "    def get_dictionary(self):\n",
    "        return self._dictionary\n",
    "    def transform(self,dictionary_key):\n",
    "        concept=apply_function(self._dictionary,dictionary_key)\n",
    "        return concept\n",
    "    '''def transform(self, transformation_dictionary, level=None, fill_all=False):\n",
    "        if level is not None:\n",
    "            if self._geometry_order[0].get_type()=='spatial:admin':\n",
    "                level_objects=level.read_features()# precist vsechny prvky, napriklad, z urovne Obce anebo KatastralniUzemi\n",
    "                for level_object in level_objects:\n",
    "                    features=self._geometry_order[0].find_subconcept_by_name(level_object.get_name()).read_features()\n",
    "                    transform_features # mozna najit zpusob a aplikovat transformaci za cteni\n",
    "                    write_features_to_the_table\n",
    "            geometry_subgeoconcepts=self._geometry_order[0].get_subgeoconcepts()\n",
    "            attributes_subgeoconcepts=self._attribute._order[0].get_subgeoconcepts()\n",
    "            if geometry_subgeoconcepts.\n",
    "        for level_object in level_objects :\n",
    "            \n",
    "            geoconcept with the highest priority select features from db from this level\n",
    "            for features from selected geoconcept:\n",
    "                transform selected features according to the provided transformation_dictionary\n",
    "                add transformed feature to the return list\n",
    "            yield(subgeoconcept, list)'''"
   ]
  },
  {
   "cell_type": "code",
   "execution_count": 4,
   "metadata": {},
   "outputs": [],
   "source": [
    "def compilable_tree_dictionary(object): \n",
    "    g_dict=\\\n",
    "    {'admunit':{'object':object},\\\n",
    "    'admunit__tree':{'object':'admunit','function':'return_graph_representation'},\\\n",
    "    'admunit__tree__reverse':{'object':'admunit__tree','function':'reverse'},\\\n",
    "    'admunit__tree__level3':{'function':select_nodes_from_graph,'parameters':['admunit__tree','level',3]},\\\n",
    "    'admunit__tree__level4':{'function':select_nodes_from_graph,'parameters':['admunit__tree','level',4]}}\n",
    "    return g_dict"
   ]
  },
  {
   "cell_type": "code",
   "execution_count": 5,
   "metadata": {},
   "outputs": [],
   "source": [
    "def compilable_node_dictionary(object,node__level=0,node__name='1'): \n",
    "    g_dict=\\\n",
    "    {'admunit':{'object':object},\\\n",
    "    'admunit__tree':{'object':'admunit','function':'return_graph_representation'},\\\n",
    "    'admunit__tree__reverse':{'object':'admunit__tree','function':'reverse'},\\\n",
    "    'node__level':{'object':node__level},\\\n",
    "    'node__name':{'object':node__name},\\\n",
    "    'admunit__tree__level':{'function':select_nodes_from_graph,'parameters':['admunit__tree','level','node__level']},\\\n",
    "    'admunit__tree__neighbors':{'function':find_neighbors_level,'parameters':['admunit__tree','node__name','node__level']},\\\n",
    "    'admunit__tree__neighbors__43__4':{'function':find_neighbors_level,'parameters':['admunit__tree__reverse','43',4]},\\\n",
    "    'admunit__tree__neighbors__43__3':{'function':find_neighbors_level,'parameters':['admunit__tree__reverse','43',3]},\\\n",
    "    }\n",
    "    return g_dict"
   ]
  },
  {
   "cell_type": "code",
   "execution_count": 6,
   "metadata": {},
   "outputs": [],
   "source": [
    "def find_neighbors_level(graph,start_node,level):\n",
    "    if graph.nodes()[start_node]['level']==level:\n",
    "        yield start_node\n",
    "    else:\n",
    "        for n in graph.neighbors(start_node):\n",
    "            yield from find_neighbors_level(graph,n,level) "
   ]
  },
  {
   "cell_type": "code",
   "execution_count": 7,
   "metadata": {},
   "outputs": [],
   "source": [
    "def raster_value(point,transformation,raster):\n",
    "    point.Transform(transformation)\n",
    "    return raster.get_data()[tuple(np.flip(world_to_pixel(raster.get_metadata()['affine_transformation'],point.GetX(),point.GetY())))]"
   ]
  },
  {
   "cell_type": "code",
   "execution_count": 8,
   "metadata": {},
   "outputs": [],
   "source": [
    "def get_ruian_au_feature_geometry_from_wfs(gml_id):\n",
    "    url='https://services.cuzk.cz/wfs/inspire-au-wfs.asp?service=WFS&request=GetFeature&typeName=au:AdministrativeUnit&maxFeatures=1&featureID=%s&version=2.0.0' %gml_id\n",
    "    r=requests.get(url,stream=False)\n",
    "    if r.status_code==200:\n",
    "        tree=etree.parse(BytesIO(r.content))\n",
    "        root=tree.getroot()\n",
    "        geom=root.find('.//{http://www.opengis.net/gml/3.2}MultiSurface')\n",
    "        geom_ogr=ogr.CreateGeometryFromGML(etree.tostring(geom).decode())\n",
    "        return geom_ogr.ExportToWkt()\n",
    "    else:\n",
    "        return 'WFS no works'"
   ]
  },
  {
   "cell_type": "code",
   "execution_count": 9,
   "metadata": {},
   "outputs": [],
   "source": [
    "#for the case when data has to be downloaded externally initialization of requests session variable with setting of number of retries\n",
    "s = requests.Session()\n",
    "retries = Retry(total=5, backoff_factor=1, status_forcelist=[ 502, 503, 504 ])\n",
    "s.mount('http://', HTTPAdapter(max_retries=retries))"
   ]
  },
  {
   "cell_type": "code",
   "execution_count": 10,
   "metadata": {},
   "outputs": [],
   "source": [
    "replacement_dictionary = {\"[posledni_den_mesice]\":(datetime.datetime.today().replace(day=1)-datetime.timedelta(days=1)).strftime('%Y%m%d'),\"[lpis_cz__posledni_aktualizace]\":lpis_cz__posledni_aktualizace().strftime('%Y%m%d'), \"[vcera]\":(datetime.datetime.today().replace(day=1)-datetime.timedelta(days=1)).strftime('%Y%m%d')} \n",
    "json_feature_structure=[{\"name\":\"id\",\"type\":\"serial primary key\"},{\"name\":\"geom\",\"type\":\"geometry\"},{\"name\":\"data\",\"type\":\"json\"}]\n",
    "json_feature_with_bigid_structure=[{\"name\":\"id\",\"type\":\"bigint primary key\"},{\"name\":\"geom\",\"type\":\"geometry\"},{\"name\":\"data\",\"type\":\"json\"}]\n",
    "json_admin_unit_structure=[{\"name\":\"id\",\"type\":\"integer primary key\"},{\"name\":\"geom\",\"type\":\"geometry\"},{\"name\":\"data\",\"type\":\"json\"},{\"name\":\"level\",\"type\":\"integer\"},{\"name\":\"parent_id\",\"type\":\"text\"}]\n",
    "json_admin_unit_structure_at=[{\"name\":\"id\",\"type\":\"text primary key\"},{\"name\":\"geom\",\"type\":\"geometry\"},{\"name\":\"data\",\"type\":\"json\"},{\"name\":\"level\",\"type\":\"integer\"},{\"name\":\"parent_id\",\"type\":\"text\"}]\n",
    "json_feature_with_raster_structure=[{\"name\":\"id\",\"type\":\"serial primary key\"},{\"name\":\"geom\",\"type\":\"geometry\"},{\"name\":\"data\",\"type\":\"json\"},{\"name\":\"raster_maps\",\"type\":\"raster\"}]"
   ]
  },
  {
   "cell_type": "code",
   "execution_count": 11,
   "metadata": {},
   "outputs": [],
   "source": [
    "admunit_cz__metadata=MetaData('Administrative units in Czech Republic',\n",
    "                              {\"url\":\"https://vdp.cuzk.cz/vymenny_format/soucasna/[posledni_den_mesice]_ST_UKSG.xml.zip\",\n",
    "                               \"format\":\"GML\", \"compression\":\"zip\"},'data')"
   ]
  },
  {
   "cell_type": "code",
   "execution_count": 12,
   "metadata": {},
   "outputs": [],
   "source": [
    "admunit_cz__ds=ds_from_metadata(admunit_cz__metadata)\n",
    "admunit_cz=GeoConcept('Administrative units in Czech Republic','Administrative units in Czech Republic. All levels.',\n",
    "                      'AdmUnitFeature',json_admin_unit_structure, data_source=admunit_cz__ds, subgeoconcepts=[] )"
   ]
  },
  {
   "cell_type": "code",
   "execution_count": 13,
   "metadata": {},
   "outputs": [],
   "source": [
    "url_adresa=admunit_cz.get_data_source().get_attributes()['url']\n",
    "for i in re.findall('\\[.*?\\]',url_adresa):\n",
    "    if i in list(replacement_dictionary.keys()):\n",
    "        url_adresa=url_adresa.replace(i,replacement_dictionary[i])\n",
    "        \n",
    "admunit_cz.get_data_source().set_attribute({'url':url_adresa})\n",
    "del(url_adresa)"
   ]
  },
  {
   "cell_type": "code",
   "execution_count": 14,
   "metadata": {},
   "outputs": [],
   "source": [
    "#admunit_cz.get_data_source().download_data('archive.zip',s,'all',os.getcwd())\n",
    "admunit_cz.get_data_source().set_data_file('20201031_ST_UKSG.xml')"
   ]
  },
  {
   "cell_type": "code",
   "execution_count": 15,
   "metadata": {},
   "outputs": [],
   "source": [
    "concept_list=['Staty','Vusc','Okresy','Obce','KatastralniUzemi']\n",
    "concept_additional_attributes={'Staty':{'level_value':0,'parent_value':'null','id_attribute':'Kod'},\n",
    "                               'Vusc':{'level_value':1,'parent_value':'1','id_attribute':'Kod'},\n",
    "                               'Okresy':{'level_value':2,'parent_attribute':'VuscKod','id_attribute':'Kod'},\n",
    "                               'Obce':{'level_value':3,'parent_attribute':'OkresKod','id_attribute':'Kod'},\n",
    "                               'KatastralniUzemi':{'level_value':4,'parent_attribute':'ObecKod','id_attribute':'Kod'}}"
   ]
  },
  {
   "cell_type": "code",
   "execution_count": 16,
   "metadata": {},
   "outputs": [],
   "source": [
    "for l in list(set(concept_list).intersection(set(admunit_cz.get_data_source().list_layers()))):\n",
    "    admunit_cz.append_subgeoconcept(SubGeoConcept(l,l,'AdmUnitFeature',admunit_cz.get_attributes(),data_source=DataSource(admunit_cz.get_data_source().get_type(),admunit_cz.get_data_source().get_name(),({**admunit_cz.get_data_source().get_attributes(),**{'layer':l}}),None,admunit_cz.get_data_source().get_data_file()),supergeoconcept=admunit_cz,table_inheritance=False,type='semantic',subgeoconcepts=[]))"
   ]
  },
  {
   "cell_type": "code",
   "execution_count": 17,
   "metadata": {},
   "outputs": [],
   "source": [
    "#administrative territorial units\n",
    "dbs_admin_connection={'dbname':'olu_administrative_units','user':'euxdat_admin','host':'euxdat-db-svc','port':'5432','password':'Euxdat12345'}\n",
    "dbs_admin=DBStorage(dbs_admin_connection)\n",
    "dbs_admin.connect()\n",
    "dbs_admin.disconnect()\n",
    "dbs_admin.connect()\n",
    "\n",
    "#lpis in czech republic\n",
    "dbs_lpis_cz_connection={'dbname':'lpis_cz','user':'euxdat_admin','host':'euxdat-db-svc','port':'5432','password':'Euxdat12345'}\n",
    "dbs_lpis_cz=DBStorage(dbs_lpis_cz_connection)\n",
    "dbs_lpis_cz.connect()\n",
    "dbs_lpis_cz.disconnect()\n",
    "dbs_lpis_cz.connect()\n",
    "\n",
    "#ruian cadastral parcels in czech republic\n",
    "dbs_ruian_parcely_cz_connection={'dbname':'ruian_parcely_cz','user':'euxdat_admin','host':'euxdat-db-svc','port':'5432','password':'Euxdat12345'}\n",
    "dbs_ruian_parcely_cz=DBStorage(dbs_ruian_parcely_cz_connection)\n",
    "dbs_ruian_parcely_cz.connect()\n",
    "dbs_ruian_parcely_cz.disconnect()\n",
    "dbs_ruian_parcely_cz.connect()"
   ]
  },
  {
   "cell_type": "code",
   "execution_count": 20,
   "metadata": {},
   "outputs": [],
   "source": [
    "#to get statistics\n",
    "#dbs_admin.execute('SELECT pg_database.datname, pg_size_pretty(pg_database_size(pg_database.datname)) AS size FROM pg_database;')"
   ]
  },
  {
   "cell_type": "code",
   "execution_count": 21,
   "metadata": {},
   "outputs": [],
   "source": [
    "#dbs_admin.execute('create schema cz')\n",
    "#dbs_admin.execute('create extension postgis')\n",
    "#dbs_lpis_cz.execute('create schema data')\n",
    "#dbs_lpis_cz.execute('create extension postgis')\n",
    "#dbs_ruian_parcely_cz.execute('create schema data')\n",
    "#dbs_ruian_parcely_cz.execute('create extension postgis')"
   ]
  },
  {
   "cell_type": "code",
   "execution_count": 22,
   "metadata": {},
   "outputs": [],
   "source": [
    "admunit_cz.create_table(dbs_admin, name='default',scheme='cz',conflict='append')"
   ]
  },
  {
   "cell_type": "code",
   "execution_count": 109,
   "metadata": {},
   "outputs": [],
   "source": [
    "#for sub in admunit_cz.get_subgeoconcepts():\n",
    "#    features=sub.get_data_source().read_features('admunitfeature',concept_additional_attributes[sub.get_data_source().get_attributes()['layer']],number=10)\n",
    "#    dbs_admin.insert_many('insert into %s.%s (geom,data,id,level,parent_id) ' % (admunit_cz.get_table().get_scheme(),admunit_cz.get_table().get_name()) ,features,20)"
   ]
  },
  {
   "cell_type": "code",
   "execution_count": 110,
   "metadata": {},
   "outputs": [],
   "source": [
    "for sub in admunit_cz.get_subgeoconcepts():\n",
    "    sub.set_table(View(sub.get_name(),sub.get_attributes(), sub.get_supergeoconcept().get_table(),\"level=%s\" % (concept_additional_attributes[sub.get_name()]['level_value']), dbs=dbs_admin, scheme='public', type='usual'))\n",
    "    dbs_admin.execute(sub.get_table().create_script())"
   ]
  },
  {
   "cell_type": "code",
   "execution_count": 22,
   "metadata": {},
   "outputs": [
    {
     "data": {
      "text/plain": [
       "'for i in admunit_cz.read_features_from_table(number=100):\\n    if len(i)>0:\\n        for j in i:\\n            if j.get_level()==3:\\n                try:\\n                    dbs_admin.execute(\"update %s.%s set geom=st_geomfromtext(\\'%s\\') where data->>\\'gml_id\\'=\\'%s\\'\" % (admunit_cz.get_table().get_scheme(),admunit_cz.get_table().get_name(),get_ruian_au_feature_geometry_from_wfs(j.get_data()[\\'gml_id\\']),j.get_data()[\\'gml_id\\']) )\\n                except:\\n                    dbs_admin.disconnect()\\n                    dbs_admin.connect()\\n                    print(j.get_data()[\\'gml_id\\'])\\n    else:\\n        break'"
      ]
     },
     "execution_count": 22,
     "metadata": {},
     "output_type": "execute_result"
    }
   ],
   "source": [
    "'''for i in admunit_cz.read_features_from_table(number=100):\n",
    "    if len(i)>0:\n",
    "        for j in i:\n",
    "            if j.get_level()==3:\n",
    "                try:\n",
    "                    dbs_admin.execute(\"update %s.%s set geom=st_geomfromtext('%s') where data->>'gml_id'='%s'\" % (admunit_cz.get_table().get_scheme(),admunit_cz.get_table().get_name(),get_ruian_au_feature_geometry_from_wfs(j.get_data()['gml_id']),j.get_data()['gml_id']) )\n",
    "                except:\n",
    "                    dbs_admin.disconnect()\n",
    "                    dbs_admin.connect()\n",
    "                    print(j.get_data()['gml_id'])\n",
    "    else:\n",
    "        break'''"
   ]
  },
  {
   "cell_type": "code",
   "execution_count": 23,
   "metadata": {},
   "outputs": [],
   "source": [
    "lpis_cz__metadata=MetaData('LPIS in Czech Republic',\n",
    "                              [{\"url\":\"http://eagri.cz/public/app/eagriapp/lpisdata/[lpis_cz__posledni_aktualizace]-{admunit__tree__level4}-DPB-SHP.zip\",\n",
    "                               \"format\":\"SHP\", \"compression\":\"zip\"},{\"url\":\"http://eagri.cz/public/app/eagriapp/lpisdata/[lpis_cz__posledni_aktualizace]-{admunit__tree__level4}-DPB-XML-A.zip\",\n",
    "                               \"format\":\"XML\", \"compression\":\"zip\"}],'data')\n",
    "lpis_cz__ds_xml=ds_from_metadata(lpis_cz__metadata,format='XML')\n",
    "lpis_cz=GeoConcept('LPIS in Czech Republic','LPIS in Czech Republic. All levels.',\n",
    "                      'Feature',json_feature_structure, data_source=lpis_cz__ds_xml, subgeoconcepts=[], adm_graph_node='1')"
   ]
  },
  {
   "cell_type": "code",
   "execution_count": 24,
   "metadata": {},
   "outputs": [],
   "source": [
    "lpis_cz.create_table(dbs_lpis_cz,name='default',scheme='public',conflict='append')"
   ]
  },
  {
   "cell_type": "code",
   "execution_count": 25,
   "metadata": {},
   "outputs": [],
   "source": [
    "url_adresa=lpis_cz.get_data_source().get_attributes()['url']\n",
    "for i in re.findall('\\[.*?\\]',url_adresa):\n",
    "    if i in list(replacement_dictionary.keys()):\n",
    "        url_adresa=url_adresa.replace(i,replacement_dictionary[i])\n",
    "lpis_cz.get_data_source().set_attribute({'url':url_adresa})\n",
    "del(url_adresa)"
   ]
  },
  {
   "cell_type": "code",
   "execution_count": 26,
   "metadata": {},
   "outputs": [],
   "source": [
    "for i in re.findall('\\{.*?\\}',lpis_cz.get_data_source().get_attributes()['url']): \n",
    "    if i[1:-1] in list(compilable_tree_dictionary(admunit_cz).keys()):\n",
    "        for j in apply_function(compilable_tree_dictionary(admunit_cz),i[1:-1]):\n",
    "            lpis_cz.append_subgeoconcept(SubGeoConcept(str(j),'LPIS in Czech administrative territorial unit %s ' % str(j),'Feature',lpis_cz.get_attributes(),data_source=DataSource(lpis_cz.get_data_source().get_type(),lpis_cz.get_data_source().get_name(),(dict(lpis_cz.get_data_source().get_attributes(),**{'url':lpis_cz.get_data_source().get_attributes()['url'].replace(i,str(j))})),None,None),supergeoconcept=lpis_cz,table_inheritance=True,subgeoconcepts=[],type='spatial:admin',adm_graph_node=str(j)))"
   ]
  },
  {
   "cell_type": "code",
   "execution_count": 27,
   "metadata": {},
   "outputs": [],
   "source": [
    "for sub in lpis_cz.get_subgeoconcepts():\n",
    "    #sub.get_data_source().download_data('archive.zip',s,'all',os.getcwd())\n",
    "    #sub.create_table(dbs_lpis_cz,name=sub.get_name(),scheme='data',conflict='replace')\n",
    "    #features=sub.get_data_source().read_features('feature',number=10,reader=xml_lpis_cz_reader)\n",
    "    #dbs_lpis_cz.insert_many('insert into %s (geom,data) ' % (transform_name_to_postgresql_format(sub.get_table().get_scheme())+'.'+transform_name_to_postgresql_format(sub.get_table().get_name())) ,features,20)\n",
    "    #os.remove(sub.get_data_source().get_data_file())\n",
    "    sub.create_table(dbs_lpis_cz,name=sub.get_name(),scheme='data',conflict='append',adm_graph_node=sub.get_adm_graph_node())"
   ]
  },
  {
   "cell_type": "code",
   "execution_count": 28,
   "metadata": {},
   "outputs": [],
   "source": [
    "ruian_cz__metadata=MetaData('RUIAN in Czech Republic',\n",
    "                              {\"url\":\"https://vdp.cuzk.cz/vymenny_format/soucasna/[vcera]_OB_{admunit__tree__level3}_UKSH.xml.zip\",\n",
    "                               \"format\":\"GML\", \"compression\":\"zip\"},'data')\n",
    "ruian_parcely_cz__ds=ds_from_metadata(ruian_cz__metadata)\n",
    "ruian_parcely_cz__ds.set_attributes({**ruian_parcely_cz__ds.get_attributes(),**{'layer':'Parcely'}})\n",
    "ruian_parcely_cz=GeoConcept('Land parcels in Czech Republic','Digital land parcels (parcely) in Czech Republic.',\n",
    "                      'FeatureWithID',json_feature_with_bigid_structure, data_source=ruian_parcely_cz__ds,subgeoconcepts=[],adm_graph_node='1')"
   ]
  },
  {
   "cell_type": "code",
   "execution_count": 29,
   "metadata": {},
   "outputs": [],
   "source": [
    "url_adresa=ruian_parcely_cz.get_data_source().get_attributes()['url']\n",
    "for i in re.findall('\\[.*?\\]',url_adresa):\n",
    "    if i in list(replacement_dictionary.keys()):\n",
    "        url_adresa=url_adresa.replace(i,replacement_dictionary[i])\n",
    "ruian_parcely_cz.get_data_source().set_attribute({'url':url_adresa})\n",
    "del(url_adresa)"
   ]
  },
  {
   "cell_type": "code",
   "execution_count": 30,
   "metadata": {},
   "outputs": [],
   "source": [
    "ruian_parcely_cz.create_table(dbs_ruian_parcely_cz, name='default',scheme='public',conflict='append',adm_graph_node='1')"
   ]
  },
  {
   "cell_type": "code",
   "execution_count": 31,
   "metadata": {},
   "outputs": [],
   "source": [
    "concept_list=['Parcely']\n",
    "concept_additional_attributes={'Parcely':{'id_attribute':'Id'}}\n",
    "\n",
    "for i in re.findall('\\{.*?\\}',ruian_parcely_cz.get_data_source().get_attributes()['url']): \n",
    "    if i[1:-1] in list(compilable_tree_dictionary(admunit_cz).keys()):\n",
    "        for j in apply_function(compilable_tree_dictionary(admunit_cz),i[1:-1]):\n",
    "            ruian_parcely_cz.append_subgeoconcept(SubGeoConcept('ob_%s' % str(j),'RUIAN land parcels in Czech administrative territorial unit %s ' % str(j),'FeatureWithID',ruian_parcely_cz.get_attributes(),data_source=DataSource(ruian_parcely_cz.get_data_source().get_type(),ruian_parcely_cz.get_data_source().get_name(),(dict(ruian_parcely_cz.get_data_source().get_attributes(),**{'url':ruian_parcely_cz.get_data_source().get_attributes()['url'].replace(i,str(j))})),None,None),supergeoconcept=ruian_parcely_cz,table_inheritance=True,subgeoconcepts=[],adm_graph_node=str(j)))"
   ]
  },
  {
   "cell_type": "code",
   "execution_count": 32,
   "metadata": {},
   "outputs": [
    {
     "data": {
      "text/plain": [
       "6258"
      ]
     },
     "execution_count": 32,
     "metadata": {},
     "output_type": "execute_result"
    }
   ],
   "source": [
    "len(ruian_parcely_cz.get_subgeoconcepts())"
   ]
  },
  {
   "cell_type": "code",
   "execution_count": 33,
   "metadata": {},
   "outputs": [],
   "source": [
    "for sub in ruian_parcely_cz.get_subgeoconcepts():\n",
    "    #sub.get_data_source().download_data('archive.zip',s,'all',os.getcwd())\n",
    "    #sub.create_table(dbs_ruian_parcely_cz,name='default',scheme='data',conflict='replace')\n",
    "    #features=sub.get_data_source().read_features('featurewithid', concept_additional_attributes[sub.get_data_source().get_attributes()['layer']], number=100, gfs_template='sablona.gfs')\n",
    "    #dbs_ruian_parcely_cz.insert_many('insert into %s (geom,data,id) ' % (transform_name_to_postgresql_format(sub.get_table().get_scheme())+'.'+transform_name_to_postgresql_format(sub.get_table().get_name())) ,features,100)\n",
    "    #os.remove(sub.get_data_source().get_data_file())\n",
    "    sub.create_table(dbs_ruian_parcely_cz,name='default',scheme='data',conflict='append',adm_graph_node=sub.get_adm_graph_node())"
   ]
  },
  {
   "cell_type": "code",
   "execution_count": 34,
   "metadata": {},
   "outputs": [
    {
     "data": {
      "text/plain": [
       "[(22667501,)]"
      ]
     },
     "execution_count": 34,
     "metadata": {},
     "output_type": "execute_result"
    }
   ],
   "source": [
    "dbs_ruian_parcely_cz.execute('select count(*) from %s' % ruian_parcely_cz.get_table().get_name() )"
   ]
  },
  {
   "cell_type": "code",
   "execution_count": 35,
   "metadata": {},
   "outputs": [],
   "source": [
    "def compilable_theme_dem_dictionary(dem_image_object,ruian_parcely_object=None,lpis_object=None,urbanatlas_object=None,corine_object=None): \n",
    "    g_dict=\\\n",
    "    {'ruian_parcely_object':{'object':ruian_parcely_object},\\\n",
    "     'lpis_object':{'object':lpis_object},\\\n",
    "     'urbanatlas_object':{'object':urbanatlas_object},\\\n",
    "     'corine_object':{'object':corine_object},\\\n",
    "     'dem_image_object':{'object':dem_image_object},\\\n",
    "     'ruian_parcely_object__id':{'object':'ruian_parcely_object','function':'get_id'},\\\n",
    "     'ruian_parcely_object__geometry':{'object':'ruian_parcely_object','function':'get_geometry'},\\\n",
    "     'ruian_parcely_object__data':{'object':'ruian_parcely_object','function':'get_data'},\\\n",
    "     'ruian_parcely_object__raster_data':{'object':'ruian_parcely_object','function':'get_raster_map','parameters':['dem_image_object']},\\\n",
    "     'lpis_object__id':{'object':'ruian_parcely_object','function':'get_id'},\\\n",
    "     'lpis_object__geometry':{'object':'ruian_parcely_object','function':'get_geometry'},\\\n",
    "     'lpis_object__data':{'object':'ruian_parcely_object','function':'get_data'},\\\n",
    "     \n",
    "    'admunit__tree':{'object':'admunit','function':'return_graph_representation'},\\\n",
    "    'admunit__tree__reverse':{'object':'admunit__tree','function':'reverse'},\\\n",
    "    'node__level':{'object':node__level},\\\n",
    "    'node__name':{'object':node__name},\\\n",
    "    'admunit__tree__level':{'function':select_nodes_from_graph,'parameters':['admunit__tree','level','node__level']},\\\n",
    "    'admunit__tree__neighbors':{'function':find_neighbors_level,'parameters':['admunit__tree','node__name','node__level']},\\\n",
    "    'admunit__tree__neighbors__43__4':{'function':find_neighbors_level,'parameters':['admunit__tree__reverse','43',4]},\\\n",
    "    'admunit__tree__neighbors__43__3':{'function':find_neighbors_level,'parameters':['admunit__tree__reverse','43',3]},\\\n",
    "    'admunit__tree__neighbors__19__3':{'function':find_neighbors_level,'parameters':['admunit__tree__reverse','19',3]},\\\n",
    "    }\n",
    "    return g_dict"
   ]
  },
  {
   "cell_type": "code",
   "execution_count": 36,
   "metadata": {},
   "outputs": [],
   "source": [
    "def lpis_transformations(object,additional_properties): \n",
    "    o_dict=\\\n",
    "    {'feature':{'object':object},\\\n",
    "     'additional_properties':{'object':additional_properties},\\\n",
    "     'id':{'function':(lambda y: y.get_id() if type(y)!=Feature else int(y.get_data()['IDDPB'])),'parameters':['feature']},\\\n",
    "     'geom':{'function':(lambda y: y.get_geometry()),'parameters':['feature']},\\\n",
    "     'properties':{'function':(lambda y,z: {**{'HILUCS_VALUE':lpis_hilucs[y.get_data()['KULTURAID']],'BPEJ':y.get_data()['BPEJ'],'OPATRENIEROZE2G':y.get_data()['OPATRENIEROZE2G']},**{k: v for d in z for k, v in d.items()}}),'parameters':['feature','additional_properties']},\n",
    "    }\n",
    "    return o_dict"
   ]
  },
  {
   "cell_type": "code",
   "execution_count": 37,
   "metadata": {},
   "outputs": [],
   "source": [
    "dem30_fn='dem30/eu_dem_czat3035.tif'\n",
    "dem30=gdal.Open(dem30_fn)"
   ]
  },
  {
   "cell_type": "code",
   "execution_count": 38,
   "metadata": {},
   "outputs": [
    {
     "data": {
      "text/plain": [
       "0"
      ]
     },
     "execution_count": 38,
     "metadata": {},
     "output_type": "execute_result"
    }
   ],
   "source": [
    "wgs84_sr=osr.SpatialReference()\n",
    "wgs84_sr.ImportFromProj4('+proj=longlat +ellps=WGS84 +datum=WGS84 +no_defs')"
   ]
  },
  {
   "cell_type": "code",
   "execution_count": 39,
   "metadata": {},
   "outputs": [
    {
     "data": {
      "text/plain": [
       "0"
      ]
     },
     "execution_count": 39,
     "metadata": {},
     "output_type": "execute_result"
    }
   ],
   "source": [
    "sjtsk5514_sr=osr.SpatialReference()\n",
    "sjtsk5514_sr.ImportFromProj4('+proj=krovak +lat_0=49.5 +lon_0=24.83333333333333 +alpha=30.28813972222222 +k=0.9999 +x_0=0 +y_0=0 +ellps=bessel +towgs84=589,76,480,0,0,0,0 +units=m +no_defs')"
   ]
  },
  {
   "cell_type": "code",
   "execution_count": 40,
   "metadata": {},
   "outputs": [
    {
     "data": {
      "text/plain": [
       "0"
      ]
     },
     "execution_count": 40,
     "metadata": {},
     "output_type": "execute_result"
    }
   ],
   "source": [
    "etrs3035_sr=osr.SpatialReference()\n",
    "etrs3035_sr.ImportFromProj4('+proj=laea +lat_0=52 +lon_0=10 +x_0=4321000 +y_0=3210000 +ellps=GRS80 +towgs84=0,0,0,0,0,0,0 +units=m +no_defs')"
   ]
  },
  {
   "cell_type": "code",
   "execution_count": 41,
   "metadata": {},
   "outputs": [],
   "source": [
    "#sjtsk5514_to_wgs84=osr.CoordinateTransformation(sjtsk5514_sr,wgs84_sr)\n",
    "sjtsk5514_to_etrs3035=osr.CoordinateTransformation(sjtsk5514_sr,etrs3035_sr)"
   ]
  },
  {
   "cell_type": "code",
   "execution_count": 42,
   "metadata": {},
   "outputs": [],
   "source": [
    "metadata_dict={}\n",
    "metadata_dict['affine_transformation']=dem30.GetGeoTransform()\n",
    "metadata_dict['nodata']=dem30.GetRasterBand(1).GetNoDataValue()\n",
    "metadata_dict['proj_wkt']=etrs3035_sr.ExportToWkt()"
   ]
  },
  {
   "cell_type": "code",
   "execution_count": 81,
   "metadata": {},
   "outputs": [],
   "source": [
    "features=admunit_cz.get_subgeoconcepts()[1].read_features_from_table(1)"
   ]
  },
  {
   "cell_type": "code",
   "execution_count": 82,
   "metadata": {},
   "outputs": [],
   "source": [
    "feature=next(features)[0]"
   ]
  },
  {
   "cell_type": "code",
   "execution_count": 45,
   "metadata": {},
   "outputs": [],
   "source": [
    "feature_geometry3035=ogr.CreateGeometryFromWkb(binascii.unhexlify(feature.get_geometry()))"
   ]
  },
  {
   "cell_type": "code",
   "execution_count": 46,
   "metadata": {},
   "outputs": [
    {
     "data": {
      "text/plain": [
       "0"
      ]
     },
     "execution_count": 46,
     "metadata": {},
     "output_type": "execute_result"
    }
   ],
   "source": [
    "feature_geometry3035.Transform(sjtsk5514_to_etrs3035)"
   ]
  },
  {
   "cell_type": "code",
   "execution_count": 47,
   "metadata": {},
   "outputs": [],
   "source": [
    "grid=Grid((metadata_dict['affine_transformation'][0],metadata_dict['affine_transformation'][3]),(metadata_dict['affine_transformation'][1],metadata_dict['affine_transformation'][5]))"
   ]
  },
  {
   "cell_type": "code",
   "execution_count": 48,
   "metadata": {},
   "outputs": [
    {
     "data": {
      "text/plain": [
       "(4284025.866235667, 3142928.7893613447)"
      ]
     },
     "execution_count": 48,
     "metadata": {},
     "output_type": "execute_result"
    }
   ],
   "source": [
    "grid.get_gridorigin()"
   ]
  },
  {
   "cell_type": "code",
   "execution_count": 49,
   "metadata": {},
   "outputs": [
    {
     "data": {
      "text/plain": [
       "(4857490.640853093, 4859047.039474186, 2959743.5323213856, 2961235.1986777917)"
      ]
     },
     "execution_count": 49,
     "metadata": {},
     "output_type": "execute_result"
    }
   ],
   "source": [
    "feature_geometry3035.GetEnvelope()"
   ]
  },
  {
   "cell_type": "code",
   "execution_count": 50,
   "metadata": {},
   "outputs": [],
   "source": [
    "origin=tuple(grid.find_index((feature_geometry3035.GetEnvelope()[0],feature_geometry3035.GetEnvelope()[3])))"
   ]
  },
  {
   "cell_type": "code",
   "execution_count": 51,
   "metadata": {},
   "outputs": [],
   "source": [
    "size=tuple(np.array(grid.find_index((feature_geometry3035.GetEnvelope()[1],feature_geometry3035.GetEnvelope()[2])))-np.array(grid.find_index((feature_geometry3035.GetEnvelope()[0],feature_geometry3035.GetEnvelope()[3]))))+np.array([1,1])"
   ]
  },
  {
   "cell_type": "code",
   "execution_count": 52,
   "metadata": {},
   "outputs": [],
   "source": [
    "a=np.array(dem30.GetRasterBand(1).ReadAsArray(xoff=int(origin[0]),yoff=int(origin[1]),win_xsize=int(size[0]),win_ysize=int(size[1])))"
   ]
  },
  {
   "cell_type": "code",
   "execution_count": 53,
   "metadata": {},
   "outputs": [],
   "source": [
    "grid_clip=Grid(np.array(grid.get_gridorigin())+np.array(tuple(grid.find_index((feature_geometry3035.GetEnvelope()[0],feature_geometry3035.GetEnvelope()[3]))))*np.array(grid.get_gridstepsize()),(metadata_dict['affine_transformation'][1],metadata_dict['affine_transformation'][5]))"
   ]
  },
  {
   "cell_type": "code",
   "execution_count": 54,
   "metadata": {},
   "outputs": [],
   "source": [
    "clip_metadata_dict={}\n",
    "clip_metadata_dict['affine_transformation']=grid_clip.get_affinetransformation()\n",
    "clip_metadata_dict['nodata']=float(np.min(a)) if np.min(a)<0 else np.nan\n",
    "clip_metadata_dict['proj_wkt']=wgs84_sr.ExportToWkt()"
   ]
  },
  {
   "cell_type": "code",
   "execution_count": 55,
   "metadata": {},
   "outputs": [],
   "source": [
    "im=Imagee(a,clip_metadata_dict)"
   ]
  },
  {
   "cell_type": "code",
   "execution_count": 56,
   "metadata": {},
   "outputs": [],
   "source": [
    "im.export_as_tif('obec_testovaci4.tif')"
   ]
  },
  {
   "cell_type": "code",
   "execution_count": 57,
   "metadata": {},
   "outputs": [],
   "source": [
    "from tridy import find_neighbors_till"
   ]
  },
  {
   "cell_type": "code",
   "execution_count": 58,
   "metadata": {},
   "outputs": [],
   "source": [
    "G=apply_function(compilable_tree_dictionary(admunit_cz),'admunit__tree')"
   ]
  },
  {
   "cell_type": "code",
   "execution_count": 59,
   "metadata": {},
   "outputs": [],
   "source": [
    "features_lpis=lpis_cz.get_subgeoconcept_by_name(find_neighbors_till(G.reverse(),str(feature.get_data()['Kod']),lpis_cz).get_name()).read_features_from_table(1)\n",
    "feature_lpis=next(features_lpis)[0]"
   ]
  },
  {
   "cell_type": "code",
   "execution_count": 60,
   "metadata": {},
   "outputs": [],
   "source": [
    "feature_lpis_geometry3035=ogr.CreateGeometryFromWkb(binascii.unhexlify(feature_lpis.get_geometry()))"
   ]
  },
  {
   "cell_type": "code",
   "execution_count": 61,
   "metadata": {},
   "outputs": [
    {
     "data": {
      "text/plain": [
       "0"
      ]
     },
     "execution_count": 61,
     "metadata": {},
     "output_type": "execute_result"
    }
   ],
   "source": [
    "feature_lpis_geometry3035.Transform(sjtsk5514_to_etrs3035)"
   ]
  },
  {
   "cell_type": "code",
   "execution_count": 62,
   "metadata": {},
   "outputs": [],
   "source": [
    "cropped_im=Imagee(*im.clip_by_shape(feature_lpis_geometry3035.ExportToWkt()))"
   ]
  },
  {
   "cell_type": "code",
   "execution_count": 63,
   "metadata": {},
   "outputs": [],
   "source": [
    "cropped_im.export_as_tif('pole.tif')"
   ]
  },
  {
   "cell_type": "code",
   "execution_count": 64,
   "metadata": {},
   "outputs": [
    {
     "data": {
      "text/plain": [
       "'POLYGON ((4858809.5818415 2960519.87267249,4858813.55929396 2960518.83428455,4858854.37073578 2960526.31180962,4858854.86943959 2960535.08548206,4858852.5630925 2960561.05142441,4858851.95431875 2960579.50087598,4858850.24435335 2960594.25986388,4858849.09330171 2960599.53908937,4858846.00151345 2960604.32672044,4858841.02393389 2960604.75618918,4858839.36484617 2960611.56611195,4858837.25774875 2960621.14328507,4858832.66998894 2960639.10018583,4858817.91174113 2960638.48481796,4858808.7594976 2960638.13682503,4858808.7155873 2960633.98583765,4858809.5818415 2960519.87267249))'"
      ]
     },
     "execution_count": 64,
     "metadata": {},
     "output_type": "execute_result"
    }
   ],
   "source": [
    "feature_lpis_geometry3035.ExportToWkt()"
   ]
  },
  {
   "cell_type": "code",
   "execution_count": 65,
   "metadata": {},
   "outputs": [
    {
     "data": {
      "text/plain": [
       "masked_array(\n",
       "  data=[[304.62237548828125, 302.64471435546875],\n",
       "        [305.71270751953125, 304.05078125],\n",
       "        [306.84521484375, 305.47772216796875],\n",
       "        [307.74371337890625, 306.5793151855469],\n",
       "        [308.298583984375, 307.2650146484375]],\n",
       "  mask=[[False, False],\n",
       "        [False, False],\n",
       "        [False, False],\n",
       "        [False, False],\n",
       "        [False, False]],\n",
       "  fill_value=1e+20)"
      ]
     },
     "execution_count": 65,
     "metadata": {},
     "output_type": "execute_result"
    }
   ],
   "source": [
    "cropped_im.get_data()"
   ]
  },
  {
   "cell_type": "code",
   "execution_count": 66,
   "metadata": {},
   "outputs": [],
   "source": [
    "from PIL import Image\n",
    "import matplotlib.pyplot as plt\n",
    "from matplotlib.pyplot import imshow"
   ]
  },
  {
   "cell_type": "code",
   "execution_count": 67,
   "metadata": {},
   "outputs": [
    {
     "data": {
      "image/png": "[encoded data removed]",
      "text/plain": [
       "<Figure size 432x288 with 2 Axes>"
      ]
     },
     "metadata": {
      "needs_background": "light"
     },
     "output_type": "display_data"
    }
   ],
   "source": [
    "plt.imshow(im.get_data(), origin=\"upper\", cmap='gray', interpolation='nearest')\n",
    "plt.colorbar()\n",
    "plt.show()"
   ]
  },
  {
   "cell_type": "code",
   "execution_count": 83,
   "metadata": {},
   "outputs": [],
   "source": [
    "sub=lpis_cz.get_subgeoconcept_by_name(find_neighbors_till(G.reverse(),str(feature.get_data()['Kod']),lpis_cz).get_name())"
   ]
  },
  {
   "cell_type": "code",
   "execution_count": 114,
   "metadata": {},
   "outputs": [],
   "source": [
    "with open('okresy.geojson', 'w', encoding='utf-8') as file:\n",
    "        geojson={\"type\": \"FeatureCollection\", \"features\": [] }\n",
    "        features=sub.read_features_from_table(100)\n",
    "        for f in features:\n",
    "                if len(f)>0:\n",
    "                    for feature in f:\n",
    "                        geojson[\"features\"].append(feature.export_to_geojson())\n",
    "                else:\n",
    "                    break\n",
    "        json.dump(geojson, file, ensure_ascii=False, indent=4)"
   ]
  },
  {
   "cell_type": "code",
   "execution_count": 89,
   "metadata": {},
   "outputs": [],
   "source": [
    "import skimage"
   ]
  },
  {
   "cell_type": "code",
   "execution_count": 121,
   "metadata": {},
   "outputs": [],
   "source": [
    "#dem30_im=Imagee(np.array(dem30.GetRasterBand(1).ReadAsArray()),metadata_dict)"
   ]
  },
  {
   "cell_type": "code",
   "execution_count": 160,
   "metadata": {},
   "outputs": [],
   "source": [
    "#from tridy import download_file,unzip_file"
   ]
  },
  {
   "cell_type": "code",
   "execution_count": 162,
   "metadata": {},
   "outputs": [
    {
     "data": {
      "text/plain": [
       "'eu_dem_czat3035.zip'"
      ]
     },
     "execution_count": 162,
     "metadata": {},
     "output_type": "execute_result"
    }
   ],
   "source": [
    "#download_file('http://gis.lesprojekt.cz/eu_dem_czat3035.zip','eu_dem_czat3035.zip',s)"
   ]
  },
  {
   "cell_type": "code",
   "execution_count": 164,
   "metadata": {},
   "outputs": [],
   "source": [
    "#unzip_file('eu_dem_czat3035.zip','all','dem30')"
   ]
  },
  {
   "cell_type": "code",
   "execution_count": 113,
   "metadata": {},
   "outputs": [],
   "source": [
    "sub=admunit_cz.get_subgeoconcept_by_name('Okresy')"
   ]
  },
  {
   "cell_type": "code",
   "execution_count": null,
   "metadata": {},
   "outputs": [],
   "source": []
  }
 ],
 "metadata": {
  "kernelspec": {
   "display_name": "Python 3",
   "language": "python",
   "name": "python3"
  },
  "language_info": {
   "codemirror_mode": {
    "name": "ipython",
    "version": 3
   },
   "file_extension": ".py",
   "mimetype": "text/x-python",
   "name": "python",
   "nbconvert_exporter": "python",
   "pygments_lexer": "ipython3",
   "version": "3.7.8"
  }
 },
 "nbformat": 4,
 "nbformat_minor": 4
}
