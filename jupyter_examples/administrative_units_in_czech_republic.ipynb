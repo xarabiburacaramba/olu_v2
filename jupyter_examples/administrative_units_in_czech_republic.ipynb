{
 "cells": [
  {
   "cell_type": "code",
   "execution_count": 2,
   "metadata": {},
   "outputs": [],
   "source": [
    "import os\n",
    "import tridy\n",
    "from tridy import GeoConcept, SubGeoConcept, MetaData, Table, View, DBStorage, DataSource, Feature, FeatureWithID,  AdmUnitFeature, OLUFeature, Grid, Imagee, ds_from_metadata, xml_lpis_cz_reader, lpis_cz__posledni_aktualizace, get_listvalues_from_generator, apply_function, select_nodes_from_graph, unzip_file, find_neighbors_till, connection_parameters_to_pg, transform_name_to_postgresql_format, world_to_pixel \n",
    "from importlib import reload\n",
    "import requests\n",
    "import datetime\n",
    "import re\n",
    "from io import BytesIO\n",
    "\n",
    "from requests.adapters import HTTPAdapter\n",
    "from requests.packages.urllib3.util.retry import Retry\n",
    "\n",
    "from osgeo import ogr, osr, gdal\n",
    "import networkx as nx\n",
    "import numpy as np\n",
    "import json\n",
    "import binascii\n",
    "import copy\n",
    "import time\n",
    "\n",
    "from lxml import etree\n",
    "\n",
    "from ipyleaflet import Map, GeoJSON"
   ]
  },
  {
   "cell_type": "code",
   "execution_count": 3,
   "metadata": {},
   "outputs": [],
   "source": [
    "del(GeoConcept, SubGeoConcept, MetaData, Table, View, DBStorage, DataSource, Feature, FeatureWithID, AdmUnitFeature, OLUFeature, Grid, Imagee, ds_from_metadata,xml_lpis_cz_reader,get_listvalues_from_generator,apply_function,select_nodes_from_graph,world_to_pixel)\n",
    "reload(tridy)\n",
    "from tridy import GeoConcept, SubGeoConcept, MetaData, Table, View, DBStorage, DataSource, Feature, FeatureWithID, AdmUnitFeature, OLUFeature, Grid, Imagee, ds_from_metadata, xml_lpis_cz_reader, get_listvalues_from_generator, apply_function, select_nodes_from_graph,world_to_pixel"
   ]
  },
  {
   "cell_type": "code",
   "execution_count": 4,
   "metadata": {},
   "outputs": [],
   "source": [
    "def compilable_tree_dictionary(object): \n",
    "    g_dict=\\\n",
    "    {'admunit':{'object':object},\\\n",
    "    'admunit__tree':{'object':'admunit','function':'return_graph_representation'},\\\n",
    "    'admunit__tree__reverse':{'object':'admunit__tree','function':'reverse'},\\\n",
    "    'admunit__tree__level3':{'function':select_nodes_from_graph,'parameters':['admunit__tree','level',3]},\\\n",
    "    'admunit__tree__level4':{'function':select_nodes_from_graph,'parameters':['admunit__tree','level',4]}}\n",
    "    return g_dict"
   ]
  },
  {
   "cell_type": "code",
   "execution_count": 5,
   "metadata": {},
   "outputs": [],
   "source": [
    "def find_neighbors_level(graph,start_node,level):\n",
    "    if graph.nodes()[start_node]['level']==level:\n",
    "        yield start_node\n",
    "    else:\n",
    "        for n in graph.neighbors(start_node):\n",
    "            yield from find_neighbors_level(graph,n,level) "
   ]
  },
  {
   "cell_type": "code",
   "execution_count": 6,
   "metadata": {},
   "outputs": [],
   "source": [
    "def get_ruian_au_feature_geometry_from_wfs(gml_id):\n",
    "    url='https://services.cuzk.cz/wfs/inspire-au-wfs.asp?service=WFS&request=GetFeature&typeName=au:AdministrativeUnit&maxFeatures=1&featureID=%s&version=2.0.0' %gml_id\n",
    "    r=requests.get(url,stream=False)\n",
    "    if r.status_code==200:\n",
    "        tree=etree.parse(BytesIO(r.content))\n",
    "        root=tree.getroot()\n",
    "        geom=root.find('.//{http://www.opengis.net/gml/3.2}MultiSurface')\n",
    "        geom_ogr=ogr.CreateGeometryFromGML(etree.tostring(geom).decode())\n",
    "        return geom_ogr.ExportToWkt()\n",
    "    else:\n",
    "        return 'WFS no works'"
   ]
  },
  {
   "cell_type": "code",
   "execution_count": 8,
   "metadata": {},
   "outputs": [],
   "source": [
    "#for the case when data has to be downloaded externally initialization of requests session variable with setting of number of retries\n",
    "s = requests.Session()\n",
    "retries = Retry(total=5, backoff_factor=1, status_forcelist=[ 502, 503, 504 ])\n",
    "s.mount('http://', HTTPAdapter(max_retries=retries))"
   ]
  },
  {
   "cell_type": "code",
   "execution_count": 9,
   "metadata": {},
   "outputs": [],
   "source": [
    "replacement_dictionary = {\"[posledni_den_mesice]\":(datetime.datetime.today().replace(day=1)-datetime.timedelta(days=1)).strftime('%Y%m%d'),\"[lpis_cz__posledni_aktualizace]\":lpis_cz__posledni_aktualizace().strftime('%Y%m%d'), \"[vcera]\":(datetime.datetime.today().replace(day=1)-datetime.timedelta(days=1)).strftime('%Y%m%d')} \n",
    "json_feature_structure=[{\"name\":\"id\",\"type\":\"serial primary key\"},{\"name\":\"geom\",\"type\":\"geometry\"},{\"name\":\"data\",\"type\":\"json\"}]\n",
    "json_feature_with_bigid_structure=[{\"name\":\"id\",\"type\":\"bigint primary key\"},{\"name\":\"geom\",\"type\":\"geometry\"},{\"name\":\"data\",\"type\":\"json\"}]\n",
    "json_admin_unit_structure=[{\"name\":\"id\",\"type\":\"integer primary key\"},{\"name\":\"geom\",\"type\":\"geometry\"},{\"name\":\"data\",\"type\":\"json\"},{\"name\":\"level\",\"type\":\"integer\"},{\"name\":\"parent_id\",\"type\":\"text\"}]\n",
    "json_admin_unit_structure_at=[{\"name\":\"id\",\"type\":\"text primary key\"},{\"name\":\"geom\",\"type\":\"geometry\"},{\"name\":\"data\",\"type\":\"json\"},{\"name\":\"level\",\"type\":\"integer\"},{\"name\":\"parent_id\",\"type\":\"text\"}]\n",
    "json_feature_with_raster_structure=[{\"name\":\"id\",\"type\":\"serial primary key\"},{\"name\":\"geom\",\"type\":\"geometry\"},{\"name\":\"data\",\"type\":\"json\"},{\"name\":\"raster_maps\",\"type\":\"raster\"}]"
   ]
  },
  {
   "cell_type": "code",
   "execution_count": 10,
   "metadata": {},
   "outputs": [],
   "source": [
    "admunit_cz__metadata=MetaData('Administrative units in Czech Republic',\n",
    "                              {\"url\":\"https://vdp.cuzk.cz/vymenny_format/soucasna/[posledni_den_mesice]_ST_UKSG.xml.zip\",\n",
    "                               \"format\":\"GML\", \"compression\":\"zip\"},'data')"
   ]
  },
  {
   "cell_type": "code",
   "execution_count": 11,
   "metadata": {},
   "outputs": [],
   "source": [
    "admunit_cz__ds=ds_from_metadata(admunit_cz__metadata)\n",
    "admunit_cz=GeoConcept('Administrative units in Czech Republic','Administrative units in Czech Republic. All levels.',\n",
    "                      'AdmUnitFeature',json_admin_unit_structure, data_source=admunit_cz__ds, subgeoconcepts=[] )"
   ]
  },
  {
   "cell_type": "code",
   "execution_count": 12,
   "metadata": {},
   "outputs": [],
   "source": [
    "url_adresa=admunit_cz.get_data_source().get_attributes()['url']\n",
    "for i in re.findall('\\[.*?\\]',url_adresa):\n",
    "    if i in list(replacement_dictionary.keys()):\n",
    "        url_adresa=url_adresa.replace(i,replacement_dictionary[i])\n",
    "        \n",
    "admunit_cz.get_data_source().set_attribute({'url':url_adresa})\n",
    "del(url_adresa)"
   ]
  },
  {
   "cell_type": "code",
   "execution_count": 13,
   "metadata": {},
   "outputs": [],
   "source": [
    "#admunit_cz.get_data_source().download_data('archive.zip',s,'all',os.getcwd())\n",
    "admunit_cz.get_data_source().set_data_file('20201031_ST_UKSG.xml')"
   ]
  },
  {
   "cell_type": "code",
   "execution_count": 14,
   "metadata": {},
   "outputs": [],
   "source": [
    "concept_list=['Staty','Vusc','Okresy','Obce','KatastralniUzemi']\n",
    "concept_additional_attributes={'Staty':{'level_value':0,'parent_value':'null','id_attribute':'Kod'},\n",
    "                               'Vusc':{'level_value':1,'parent_value':'1','id_attribute':'Kod'},\n",
    "                               'Okresy':{'level_value':2,'parent_attribute':'VuscKod','id_attribute':'Kod'},\n",
    "                               'Obce':{'level_value':3,'parent_attribute':'OkresKod','id_attribute':'Kod'},\n",
    "                               'KatastralniUzemi':{'level_value':4,'parent_attribute':'ObecKod','id_attribute':'Kod'}}"
   ]
  },
  {
   "cell_type": "code",
   "execution_count": 15,
   "metadata": {},
   "outputs": [],
   "source": [
    "for l in list(set(concept_list).intersection(set(admunit_cz.get_data_source().list_layers()))):\n",
    "    admunit_cz.append_subgeoconcept(SubGeoConcept(l,l,'AdmUnitFeature',admunit_cz.get_attributes(),data_source=DataSource(admunit_cz.get_data_source().get_type(),admunit_cz.get_data_source().get_name(),({**admunit_cz.get_data_source().get_attributes(),**{'layer':l}}),None,admunit_cz.get_data_source().get_data_file()),supergeoconcept=admunit_cz,table_inheritance=False,type='semantic',subgeoconcepts=[]))"
   ]
  },
  {
   "cell_type": "code",
   "execution_count": 16,
   "metadata": {},
   "outputs": [],
   "source": [
    "#administrative territorial units\n",
    "dbs_admin_connection={'dbname':'olu_administrative_units','user':'euxdat_admin','host':'euxdat-db-svc','port':'5432','password':'Euxdat12345'}\n",
    "dbs_admin=DBStorage(dbs_admin_connection)\n",
    "dbs_admin.connect()\n",
    "dbs_admin.disconnect()\n",
    "dbs_admin.connect()"
   ]
  },
  {
   "cell_type": "code",
   "execution_count": 17,
   "metadata": {},
   "outputs": [],
   "source": [
    "admunit_cz.create_table(dbs_admin, name='default',scheme='cz',conflict='append')"
   ]
  },
  {
   "cell_type": "code",
   "execution_count": 18,
   "metadata": {},
   "outputs": [],
   "source": [
    "for sub in admunit_cz.get_subgeoconcepts():\n",
    "    sub.set_table(View(sub.get_name(),sub.get_attributes(), sub.get_supergeoconcept().get_table(),\"level=%s\" % (concept_additional_attributes[sub.get_name()]['level_value']), dbs=dbs_admin, scheme='public', type='usual'))\n",
    "    dbs_admin.execute(sub.get_table().create_script())"
   ]
  },
  {
   "cell_type": "code",
   "execution_count": 19,
   "metadata": {},
   "outputs": [],
   "source": [
    "wgs84_sr=osr.SpatialReference()\n",
    "wgs84_sr.ImportFromProj4('+proj=longlat +datum=WGS84 +no_defs')\n",
    "\n",
    "sjtsk5514_sr=osr.SpatialReference()\n",
    "sjtsk5514_sr.ImportFromProj4('+proj=krovak +lat_0=49.5 +lon_0=24.83333333333333 +alpha=30.28813975277778 +k=0.9999 +x_0=0 +y_0=0 +ellps=bessel +units=m +towgs84=570.8,85.7,462.8,4.998,1.587,5.261,3.56 +no_defs')\n",
    "\n",
    "sjtsk5514_to_wgs84=osr.CoordinateTransformation(sjtsk5514_sr,wgs84_sr)"
   ]
  },
  {
   "cell_type": "code",
   "execution_count": 24,
   "metadata": {},
   "outputs": [],
   "source": [
    "sub=admunit_cz.get_subgeoconcept_by_name('Okresy')"
   ]
  },
  {
   "cell_type": "code",
   "execution_count": 25,
   "metadata": {},
   "outputs": [],
   "source": [
    "with open('okresy.geojson', 'w', encoding='utf-8') as file:\n",
    "        geojson={\"type\": \"FeatureCollection\", \"features\": [] }\n",
    "        features=sub.read_features_from_table(100)\n",
    "        for f in features:\n",
    "                if len(f)>0:\n",
    "                    for feature in f:\n",
    "                        feature.transform_geometry(sjtsk5514_to_wgs84)\n",
    "                        geojson[\"features\"].append(feature.export_to_geojson())\n",
    "                else:\n",
    "                    break\n",
    "        json.dump(geojson, file, ensure_ascii=False, indent=4)"
   ]
  },
  {
   "cell_type": "code",
   "execution_count": 29,
   "metadata": {},
   "outputs": [
    {
     "data": {
      "application/vnd.jupyter.widget-view+json": {
       "model_id": "67efea749d2b40718207e27d9b0eadba",
       "version_major": 2,
       "version_minor": 0
      },
      "text/plain": [
       "Map(center=[49.5, 14.5], controls=(ZoomControl(options=['position', 'zoom_in_text', 'zoom_in_title', 'zoom_out…"
      ]
     },
     "metadata": {},
     "output_type": "display_data"
    }
   ],
   "source": [
    "with open('okresy.geojson', 'r') as f:\n",
    "    data = json.load(f)\n",
    "    \n",
    "m = Map(center=(49.5,14.5), zoom=6)\n",
    "\n",
    "geo_json = GeoJSON(\n",
    "    data=data\n",
    ")\n",
    "    \n",
    "m.add_layer(geo_json)\n",
    "\n",
    "m"
   ]
  },
  {
   "cell_type": "code",
   "execution_count": null,
   "metadata": {},
   "outputs": [],
   "source": []
  }
 ],
 "metadata": {
  "kernelspec": {
   "display_name": "Python 3",
   "language": "python",
   "name": "python3"
  },
  "language_info": {
   "codemirror_mode": {
    "name": "ipython",
    "version": 3
   },
   "file_extension": ".py",
   "mimetype": "text/x-python",
   "name": "python",
   "nbconvert_exporter": "python",
   "pygments_lexer": "ipython3",
   "version": "3.7.8"
  }
 },
 "nbformat": 4,
 "nbformat_minor": 4
}
