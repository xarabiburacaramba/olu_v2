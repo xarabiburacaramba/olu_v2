{
 "cells": [
  {
   "cell_type": "code",
   "execution_count": 2,
   "metadata": {},
   "outputs": [],
   "source": [
    "import os\n",
    "import tridy\n",
    "from tridy import GeoConcept, SubGeoConcept, MetaData, Table, View, DBStorage, DataSource, Feature, FeatureWithID,  AdmUnitFeature, OLUFeature, Grid, Imagee, ds_from_metadata, xml_lpis_cz_reader, lpis_cz__posledni_aktualizace, get_listvalues_from_generator, apply_function, select_nodes_from_graph, unzip_file, find_neighbors_till, connection_parameters_to_pg, transform_name_to_postgresql_format, world_to_pixel \n",
    "from importlib import reload\n",
    "import requests\n",
    "import datetime\n",
    "import re\n",
    "from io import BytesIO\n",
    "\n",
    "from requests.adapters import HTTPAdapter\n",
    "from requests.packages.urllib3.util.retry import Retry\n",
    "\n",
    "from osgeo import ogr, osr, gdal\n",
    "import networkx as nx\n",
    "import numpy as np\n",
    "import json\n",
    "import binascii\n",
    "import copy\n",
    "import time\n",
    "\n",
    "from lxml import etree"
   ]
  },
  {
   "cell_type": "code",
   "execution_count": 3,
   "metadata": {},
   "outputs": [],
   "source": [
    "del(GeoConcept, SubGeoConcept, MetaData, Table, View, DBStorage, DataSource, Feature, FeatureWithID, AdmUnitFeature, OLUFeature, Grid, Imagee, ds_from_metadata,xml_lpis_cz_reader,get_listvalues_from_generator,apply_function,select_nodes_from_graph,world_to_pixel)\n",
    "reload(tridy)\n",
    "from tridy import GeoConcept, SubGeoConcept, MetaData, Table, View, DBStorage, DataSource, Feature, FeatureWithID, AdmUnitFeature, OLUFeature, Grid, Imagee, ds_from_metadata, xml_lpis_cz_reader, get_listvalues_from_generator, apply_function, select_nodes_from_graph,world_to_pixel"
   ]
  },
  {
   "cell_type": "code",
   "execution_count": 3,
   "metadata": {},
   "outputs": [],
   "source": [
    "class Theme():\n",
    "    ''''popis pasportu objektu'''\n",
    "    def __init__(self, name, description,  attributes):\n",
    "        self._name=name\n",
    "        self._description=description\n",
    "        self._attributes=attributes\n",
    "    def get_name(self):\n",
    "        return self._name\n",
    "    def get_description(self):\n",
    "        return self._description\n",
    "    def get_attributes(self):\n",
    "        return self._attributes\n",
    "    def set_geometry_order(self, geoconcepts):\n",
    "        self._geometry_order=geoconcepts\n",
    "    def get_geometry_order(self):\n",
    "        return self._geometry_order\n",
    "    def set_attribute_order(self, geoconcepts):\n",
    "        self._attribute_order=geoconcepts\n",
    "    def get_attribute_order(self):\n",
    "        return self._attribute_order\n",
    "    def set_dictionary(self, dictionary):\n",
    "        self._dictionary=dictionary\n",
    "    def get_dictionary(self):\n",
    "        return self._dictionary\n",
    "    def transform(self,dictionary_key):\n",
    "        concept=apply_function(self._dictionary,dictionary_key)\n",
    "        return concept\n",
    "    '''def transform(self, transformation_dictionary, level=None, fill_all=False):\n",
    "        if level is not None:\n",
    "            if self._geometry_order[0].get_type()=='spatial:admin':\n",
    "                level_objects=level.read_features()# precist vsechny prvky, napriklad, z urovne Obce anebo KatastralniUzemi\n",
    "                for level_object in level_objects:\n",
    "                    features=self._geometry_order[0].find_subconcept_by_name(level_object.get_name()).read_features()\n",
    "                    transform_features # mozna najit zpusob a aplikovat transformaci za cteni\n",
    "                    write_features_to_the_table\n",
    "            geometry_subgeoconcepts=self._geometry_order[0].get_subgeoconcepts()\n",
    "            attributes_subgeoconcepts=self._attribute._order[0].get_subgeoconcepts()\n",
    "            if geometry_subgeoconcepts.\n",
    "        for level_object in level_objects :\n",
    "            \n",
    "            geoconcept with the highest priority select features from db from this level\n",
    "            for features from selected geoconcept:\n",
    "                transform selected features according to the provided transformation_dictionary\n",
    "                add transformed feature to the return list\n",
    "            yield(subgeoconcept, list)'''"
   ]
  },
  {
   "cell_type": "code",
   "execution_count": 4,
   "metadata": {},
   "outputs": [],
   "source": [
    "def compilable_tree_dictionary(object): \n",
    "    g_dict=\\\n",
    "    {'admunit':{'object':object},\\\n",
    "    'admunit__tree':{'object':'admunit','function':'return_graph_representation'},\\\n",
    "    'admunit__tree__reverse':{'object':'admunit__tree','function':'reverse'},\\\n",
    "    'admunit__tree__level3':{'function':select_nodes_from_graph,'parameters':['admunit__tree','level',3]},\\\n",
    "    'admunit__tree__level4':{'function':select_nodes_from_graph,'parameters':['admunit__tree','level',4]}}\n",
    "    return g_dict"
   ]
  },
  {
   "cell_type": "code",
   "execution_count": 5,
   "metadata": {},
   "outputs": [],
   "source": [
    "def compilable_node_dictionary(object,node__level=0,node__name='1'): \n",
    "    g_dict=\\\n",
    "    {'admunit':{'object':object},\\\n",
    "    'admunit__tree':{'object':'admunit','function':'return_graph_representation'},\\\n",
    "    'admunit__tree__reverse':{'object':'admunit__tree','function':'reverse'},\\\n",
    "    'node__level':{'object':node__level},\\\n",
    "    'node__name':{'object':node__name},\\\n",
    "    'admunit__tree__level':{'function':select_nodes_from_graph,'parameters':['admunit__tree','level','node__level']},\\\n",
    "    'admunit__tree__neighbors':{'function':find_neighbors_level,'parameters':['admunit__tree','node__name','node__level']},\\\n",
    "    'admunit__tree__neighbors__43__4':{'function':find_neighbors_level,'parameters':['admunit__tree__reverse','43',4]},\\\n",
    "    'admunit__tree__neighbors__43__3':{'function':find_neighbors_level,'parameters':['admunit__tree__reverse','43',3]},\\\n",
    "    }\n",
    "    return g_dict"
   ]
  },
  {
   "cell_type": "code",
   "execution_count": 6,
   "metadata": {},
   "outputs": [],
   "source": [
    "def find_neighbors_level(graph,start_node,level):\n",
    "    if graph.nodes()[start_node]['level']==level:\n",
    "        yield start_node\n",
    "    else:\n",
    "        for n in graph.neighbors(start_node):\n",
    "            yield from find_neighbors_level(graph,n,level) "
   ]
  },
  {
   "cell_type": "code",
   "execution_count": 7,
   "metadata": {},
   "outputs": [],
   "source": [
    "def raster_value(point,transformation,raster):\n",
    "    point.Transform(transformation)\n",
    "    return raster.get_data()[tuple(np.flip(world_to_pixel(raster.get_metadata()['affine_transformation'],point.GetX(),point.GetY())))]"
   ]
  },
  {
   "cell_type": "code",
   "execution_count": 8,
   "metadata": {},
   "outputs": [],
   "source": [
    "def get_ruian_au_feature_geometry_from_wfs(gml_id):\n",
    "    url='https://services.cuzk.cz/wfs/inspire-au-wfs.asp?service=WFS&request=GetFeature&typeName=au:AdministrativeUnit&maxFeatures=1&featureID=%s&version=2.0.0' %gml_id\n",
    "    r=requests.get(url,stream=False)\n",
    "    if r.status_code==200:\n",
    "        tree=etree.parse(BytesIO(r.content))\n",
    "        root=tree.getroot()\n",
    "        geom=root.find('.//{http://www.opengis.net/gml/3.2}MultiSurface')\n",
    "        geom_ogr=ogr.CreateGeometryFromGML(etree.tostring(geom).decode())\n",
    "        return geom_ogr.ExportToWkt()\n",
    "    else:\n",
    "        return 'WFS no works'"
   ]
  },
  {
   "cell_type": "code",
   "execution_count": 9,
   "metadata": {},
   "outputs": [],
   "source": [
    "#for the case when data has to be downloaded externally initialization of requests session variable with setting of number of retries\n",
    "s = requests.Session()\n",
    "retries = Retry(total=5, backoff_factor=1, status_forcelist=[ 502, 503, 504 ])\n",
    "s.mount('http://', HTTPAdapter(max_retries=retries))"
   ]
  },
  {
   "cell_type": "code",
   "execution_count": 4,
   "metadata": {},
   "outputs": [],
   "source": [
    "replacement_dictionary = {\"[posledni_den_mesice]\":(datetime.datetime.today().replace(day=1)-datetime.timedelta(days=1)).strftime('%Y%m%d'),\"[lpis_cz__posledni_aktualizace]\":lpis_cz__posledni_aktualizace().strftime('%Y%m%d'), \"[vcera]\":(datetime.datetime.today().replace(day=1)-datetime.timedelta(days=1)).strftime('%Y%m%d')} \n",
    "json_feature_structure=[{\"name\":\"id\",\"type\":\"serial primary key\"},{\"name\":\"geom\",\"type\":\"geometry\"},{\"name\":\"data\",\"type\":\"json\"}]\n",
    "json_feature_with_bigid_structure=[{\"name\":\"id\",\"type\":\"bigint primary key\"},{\"name\":\"geom\",\"type\":\"geometry\"},{\"name\":\"data\",\"type\":\"json\"}]\n",
    "json_admin_unit_structure=[{\"name\":\"id\",\"type\":\"integer primary key\"},{\"name\":\"geom\",\"type\":\"geometry\"},{\"name\":\"data\",\"type\":\"json\"},{\"name\":\"level\",\"type\":\"integer\"},{\"name\":\"parent_id\",\"type\":\"text\"}]\n",
    "json_admin_unit_structure_at=[{\"name\":\"id\",\"type\":\"text primary key\"},{\"name\":\"geom\",\"type\":\"geometry\"},{\"name\":\"data\",\"type\":\"json\"},{\"name\":\"level\",\"type\":\"integer\"},{\"name\":\"parent_id\",\"type\":\"text\"}]\n",
    "json_feature_with_raster_structure=[{\"name\":\"id\",\"type\":\"serial primary key\"},{\"name\":\"geom\",\"type\":\"geometry\"},{\"name\":\"data\",\"type\":\"json\"},{\"name\":\"raster_maps\",\"type\":\"raster\"}]"
   ]
  },
  {
   "cell_type": "code",
   "execution_count": 11,
   "metadata": {},
   "outputs": [],
   "source": [
    "admunit_cz__metadata=MetaData('Administrative units in Czech Republic',\n",
    "                              {\"url\":\"https://vdp.cuzk.cz/vymenny_format/soucasna/[posledni_den_mesice]_ST_UKSG.xml.zip\",\n",
    "                               \"format\":\"GML\", \"compression\":\"zip\"},'data')"
   ]
  },
  {
   "cell_type": "code",
   "execution_count": 12,
   "metadata": {},
   "outputs": [],
   "source": [
    "admunit_cz__ds=ds_from_metadata(admunit_cz__metadata)\n",
    "admunit_cz=GeoConcept('Administrative units in Czech Republic','Administrative units in Czech Republic. All levels.',\n",
    "                      'AdmUnitFeature',json_admin_unit_structure, data_source=admunit_cz__ds, subgeoconcepts=[] )"
   ]
  },
  {
   "cell_type": "code",
   "execution_count": 13,
   "metadata": {},
   "outputs": [],
   "source": [
    "url_adresa=admunit_cz.get_data_source().get_attributes()['url']\n",
    "for i in re.findall('\\[.*?\\]',url_adresa):\n",
    "    if i in list(replacement_dictionary.keys()):\n",
    "        url_adresa=url_adresa.replace(i,replacement_dictionary[i])\n",
    "        \n",
    "admunit_cz.get_data_source().set_attribute({'url':url_adresa})\n",
    "del(url_adresa)"
   ]
  },
  {
   "cell_type": "code",
   "execution_count": 14,
   "metadata": {},
   "outputs": [],
   "source": [
    "#admunit_cz.get_data_source().download_data('archive.zip',s,'all',os.getcwd())\n",
    "admunit_cz.get_data_source().set_data_file('20201031_ST_UKSG.xml')"
   ]
  },
  {
   "cell_type": "code",
   "execution_count": 15,
   "metadata": {},
   "outputs": [],
   "source": [
    "concept_list=['Staty','Vusc','Okresy','Obce','KatastralniUzemi']\n",
    "concept_additional_attributes={'Staty':{'level_value':0,'parent_value':'null','id_attribute':'Kod'},\n",
    "                               'Vusc':{'level_value':1,'parent_value':'1','id_attribute':'Kod'},\n",
    "                               'Okresy':{'level_value':2,'parent_attribute':'VuscKod','id_attribute':'Kod'},\n",
    "                               'Obce':{'level_value':3,'parent_attribute':'OkresKod','id_attribute':'Kod'},\n",
    "                               'KatastralniUzemi':{'level_value':4,'parent_attribute':'ObecKod','id_attribute':'Kod'}}"
   ]
  },
  {
   "cell_type": "code",
   "execution_count": 16,
   "metadata": {},
   "outputs": [],
   "source": [
    "for l in list(set(concept_list).intersection(set(admunit_cz.get_data_source().list_layers()))):\n",
    "    admunit_cz.append_subgeoconcept(SubGeoConcept(l,l,'AdmUnitFeature',admunit_cz.get_attributes(),data_source=DataSource(admunit_cz.get_data_source().get_type(),admunit_cz.get_data_source().get_name(),({**admunit_cz.get_data_source().get_attributes(),**{'layer':l}}),None,admunit_cz.get_data_source().get_data_file()),supergeoconcept=admunit_cz,table_inheritance=False,type='semantic',subgeoconcepts=[]))"
   ]
  },
  {
   "cell_type": "code",
   "execution_count": 5,
   "metadata": {},
   "outputs": [],
   "source": [
    "#administrative territorial units\n",
    "dbs_admin_connection={'dbname':'olu_administrative_units','user':'euxdat_admin','host':'euxdat-db-svc','port':'5432','password':'Euxdat12345'}\n",
    "dbs_admin=DBStorage(dbs_admin_connection)\n",
    "dbs_admin.connect()\n",
    "dbs_admin.disconnect()\n",
    "dbs_admin.connect()\n",
    "\n",
    "#lpis in czech republic\n",
    "dbs_lpis_cz_connection={'dbname':'lpis_cz','user':'euxdat_admin','host':'euxdat-db-svc','port':'5432','password':'Euxdat12345'}\n",
    "dbs_lpis_cz=DBStorage(dbs_lpis_cz_connection)\n",
    "dbs_lpis_cz.connect()\n",
    "dbs_lpis_cz.disconnect()\n",
    "dbs_lpis_cz.connect()\n",
    "\n",
    "#ruian cadastral parcels in czech republic\n",
    "dbs_ruian_parcely_cz_connection={'dbname':'ruian_parcely_cz','user':'euxdat_admin','host':'euxdat-db-svc','port':'5432','password':'Euxdat12345'}\n",
    "dbs_ruian_parcely_cz=DBStorage(dbs_ruian_parcely_cz_connection)\n",
    "dbs_ruian_parcely_cz.connect()\n",
    "dbs_ruian_parcely_cz.disconnect()\n",
    "dbs_ruian_parcely_cz.connect()\n",
    "\n",
    "#ruian urban atlas in czech republic\n",
    "dbs_ua_cz_connection={'dbname':'ua_cz','user':'euxdat_admin','host':'euxdat-db-svc','port':'5432','password':'Euxdat12345'}\n",
    "dbs_ua_cz=DBStorage(dbs_ua_cz_connection)\n",
    "dbs_ua_cz.connect()\n",
    "dbs_ua_cz.disconnect()\n",
    "dbs_ua_cz.connect()\n",
    "\n",
    "#ruian corine land cover in czech republic\n",
    "dbs_clc_cz_connection={'dbname':'clc_cz','user':'euxdat_admin','host':'euxdat-db-svc','port':'5432','password':'Euxdat12345'}\n",
    "dbs_clc_cz=DBStorage(dbs_clc_cz_connection)\n",
    "dbs_clc_cz.connect()\n",
    "dbs_clc_cz.disconnect()\n",
    "dbs_clc_cz.connect()"
   ]
  },
  {
   "cell_type": "code",
   "execution_count": 18,
   "metadata": {},
   "outputs": [],
   "source": [
    "#to get statistics\n",
    "#dbs_admin.execute('SELECT pg_database.datname, pg_size_pretty(pg_database_size(pg_database.datname)) AS size FROM pg_database;')"
   ]
  },
  {
   "cell_type": "code",
   "execution_count": 19,
   "metadata": {},
   "outputs": [],
   "source": [
    "#dbs_admin.execute('create schema cz')\n",
    "#dbs_admin.execute('create extension postgis')\n",
    "#dbs_lpis_cz.execute('create schema data')\n",
    "#dbs_lpis_cz.execute('create extension postgis')\n",
    "#dbs_ruian_parcely_cz.execute('create schema data')\n",
    "#dbs_ruian_parcely_cz.execute('create extension postgis')"
   ]
  },
  {
   "cell_type": "code",
   "execution_count": 20,
   "metadata": {},
   "outputs": [],
   "source": [
    "admunit_cz.create_table(dbs_admin, name='default',scheme='cz',conflict='append')"
   ]
  },
  {
   "cell_type": "code",
   "execution_count": 21,
   "metadata": {},
   "outputs": [],
   "source": [
    "#for sub in admunit_cz.get_subgeoconcepts():\n",
    "#    features=sub.get_data_source().read_features('admunitfeature',concept_additional_attributes[sub.get_data_source().get_attributes()['layer']],number=10)\n",
    "#    dbs_admin.insert_many('insert into %s.%s (geom,data,id,level,parent_id) ' % (admunit_cz.get_table().get_scheme(),admunit_cz.get_table().get_name()) ,features,20)"
   ]
  },
  {
   "cell_type": "code",
   "execution_count": 22,
   "metadata": {},
   "outputs": [],
   "source": [
    "for sub in admunit_cz.get_subgeoconcepts():\n",
    "    sub.set_table(View(sub.get_name(),sub.get_attributes(), sub.get_supergeoconcept().get_table(),\"level=%s\" % (concept_additional_attributes[sub.get_name()]['level_value']), dbs=dbs_admin, scheme='public', type='usual'))\n",
    "    dbs_admin.execute(sub.get_table().create_script())"
   ]
  },
  {
   "cell_type": "code",
   "execution_count": 23,
   "metadata": {},
   "outputs": [
    {
     "data": {
      "text/plain": [
       "'for i in admunit_cz.read_features_from_table(number=100):\\n    if len(i)>0:\\n        for j in i:\\n            if j.get_level()==3:\\n                try:\\n                    dbs_admin.execute(\"update %s.%s set geom=st_geomfromtext(\\'%s\\') where data->>\\'gml_id\\'=\\'%s\\'\" % (admunit_cz.get_table().get_scheme(),admunit_cz.get_table().get_name(),get_ruian_au_feature_geometry_from_wfs(j.get_data()[\\'gml_id\\']),j.get_data()[\\'gml_id\\']) )\\n                except:\\n                    dbs_admin.disconnect()\\n                    dbs_admin.connect()\\n                    print(j.get_data()[\\'gml_id\\'])\\n    else:\\n        break'"
      ]
     },
     "execution_count": 23,
     "metadata": {},
     "output_type": "execute_result"
    }
   ],
   "source": [
    "'''for i in admunit_cz.read_features_from_table(number=100):\n",
    "    if len(i)>0:\n",
    "        for j in i:\n",
    "            if j.get_level()==3:\n",
    "                try:\n",
    "                    dbs_admin.execute(\"update %s.%s set geom=st_geomfromtext('%s') where data->>'gml_id'='%s'\" % (admunit_cz.get_table().get_scheme(),admunit_cz.get_table().get_name(),get_ruian_au_feature_geometry_from_wfs(j.get_data()['gml_id']),j.get_data()['gml_id']) )\n",
    "                except:\n",
    "                    dbs_admin.disconnect()\n",
    "                    dbs_admin.connect()\n",
    "                    print(j.get_data()['gml_id'])\n",
    "    else:\n",
    "        break'''"
   ]
  },
  {
   "cell_type": "code",
   "execution_count": 24,
   "metadata": {},
   "outputs": [],
   "source": [
    "lpis_cz__metadata=MetaData('LPIS in Czech Republic',\n",
    "                              [{\"url\":\"http://eagri.cz/public/app/eagriapp/lpisdata/[lpis_cz__posledni_aktualizace]-{admunit__tree__level4}-DPB-SHP.zip\",\n",
    "                               \"format\":\"SHP\", \"compression\":\"zip\"},{\"url\":\"http://eagri.cz/public/app/eagriapp/lpisdata/[lpis_cz__posledni_aktualizace]-{admunit__tree__level4}-DPB-XML-A.zip\",\n",
    "                               \"format\":\"XML\", \"compression\":\"zip\"}],'data')\n",
    "lpis_cz__ds_xml=ds_from_metadata(lpis_cz__metadata,format='XML')\n",
    "lpis_cz=GeoConcept('LPIS in Czech Republic','LPIS in Czech Republic. All levels.',\n",
    "                      'Feature',json_feature_structure, data_source=lpis_cz__ds_xml, subgeoconcepts=[], adm_graph_node='1')"
   ]
  },
  {
   "cell_type": "code",
   "execution_count": 25,
   "metadata": {},
   "outputs": [],
   "source": [
    "lpis_cz.create_table(dbs_lpis_cz,name='default',scheme='public',conflict='append')"
   ]
  },
  {
   "cell_type": "code",
   "execution_count": 26,
   "metadata": {},
   "outputs": [],
   "source": [
    "url_adresa=lpis_cz.get_data_source().get_attributes()['url']\n",
    "for i in re.findall('\\[.*?\\]',url_adresa):\n",
    "    if i in list(replacement_dictionary.keys()):\n",
    "        url_adresa=url_adresa.replace(i,replacement_dictionary[i])\n",
    "lpis_cz.get_data_source().set_attribute({'url':url_adresa})\n",
    "del(url_adresa)"
   ]
  },
  {
   "cell_type": "code",
   "execution_count": 27,
   "metadata": {},
   "outputs": [],
   "source": [
    "for i in re.findall('\\{.*?\\}',lpis_cz.get_data_source().get_attributes()['url']): \n",
    "    if i[1:-1] in list(compilable_tree_dictionary(admunit_cz).keys()):\n",
    "        for j in apply_function(compilable_tree_dictionary(admunit_cz),i[1:-1]):\n",
    "            lpis_cz.append_subgeoconcept(SubGeoConcept(str(j),'LPIS in Czech administrative territorial unit %s ' % str(j),'Feature',lpis_cz.get_attributes(),data_source=DataSource(lpis_cz.get_data_source().get_type(),lpis_cz.get_data_source().get_name(),(dict(lpis_cz.get_data_source().get_attributes(),**{'url':lpis_cz.get_data_source().get_attributes()['url'].replace(i,str(j))})),None,None),supergeoconcept=lpis_cz,table_inheritance=True,subgeoconcepts=[],type='spatial:admin',adm_graph_node=str(j)))"
   ]
  },
  {
   "cell_type": "code",
   "execution_count": 28,
   "metadata": {},
   "outputs": [],
   "source": [
    "for sub in lpis_cz.get_subgeoconcepts():\n",
    "    #sub.get_data_source().download_data('archive.zip',s,'all',os.getcwd())\n",
    "    #sub.create_table(dbs_lpis_cz,name=sub.get_name(),scheme='data',conflict='replace')\n",
    "    #features=sub.get_data_source().read_features('feature',number=10,reader=xml_lpis_cz_reader)\n",
    "    #dbs_lpis_cz.insert_many('insert into %s (geom,data) ' % (transform_name_to_postgresql_format(sub.get_table().get_scheme())+'.'+transform_name_to_postgresql_format(sub.get_table().get_name())) ,features,20)\n",
    "    #os.remove(sub.get_data_source().get_data_file())\n",
    "    sub.create_table(dbs_lpis_cz,name=sub.get_name(),scheme='data',conflict='append',adm_graph_node=sub.get_adm_graph_node())"
   ]
  },
  {
   "cell_type": "code",
   "execution_count": 29,
   "metadata": {},
   "outputs": [],
   "source": [
    "ruian_cz__metadata=MetaData('RUIAN in Czech Republic',\n",
    "                              {\"url\":\"https://vdp.cuzk.cz/vymenny_format/soucasna/[vcera]_OB_{admunit__tree__level3}_UKSH.xml.zip\",\n",
    "                               \"format\":\"GML\", \"compression\":\"zip\"},'data')\n",
    "ruian_parcely_cz__ds=ds_from_metadata(ruian_cz__metadata)\n",
    "ruian_parcely_cz__ds.set_attributes({**ruian_parcely_cz__ds.get_attributes(),**{'layer':'Parcely'}})\n",
    "ruian_parcely_cz=GeoConcept('Land parcels in Czech Republic','Digital land parcels (parcely) in Czech Republic.',\n",
    "                      'FeatureWithID',json_feature_with_bigid_structure, data_source=ruian_parcely_cz__ds,subgeoconcepts=[],adm_graph_node='1')"
   ]
  },
  {
   "cell_type": "code",
   "execution_count": 30,
   "metadata": {},
   "outputs": [],
   "source": [
    "url_adresa=ruian_parcely_cz.get_data_source().get_attributes()['url']\n",
    "for i in re.findall('\\[.*?\\]',url_adresa):\n",
    "    if i in list(replacement_dictionary.keys()):\n",
    "        url_adresa=url_adresa.replace(i,replacement_dictionary[i])\n",
    "ruian_parcely_cz.get_data_source().set_attribute({'url':url_adresa})\n",
    "del(url_adresa)"
   ]
  },
  {
   "cell_type": "code",
   "execution_count": 31,
   "metadata": {},
   "outputs": [],
   "source": [
    "ruian_parcely_cz.create_table(dbs_ruian_parcely_cz, name='default',scheme='public',conflict='append',adm_graph_node='1')"
   ]
  },
  {
   "cell_type": "code",
   "execution_count": 32,
   "metadata": {},
   "outputs": [],
   "source": [
    "concept_list=['Parcely']\n",
    "concept_additional_attributes={'Parcely':{'id_attribute':'Id'}}\n",
    "\n",
    "for i in re.findall('\\{.*?\\}',ruian_parcely_cz.get_data_source().get_attributes()['url']): \n",
    "    if i[1:-1] in list(compilable_tree_dictionary(admunit_cz).keys()):\n",
    "        for j in apply_function(compilable_tree_dictionary(admunit_cz),i[1:-1]):\n",
    "            ruian_parcely_cz.append_subgeoconcept(SubGeoConcept('ob_%s' % str(j),'RUIAN land parcels in Czech administrative territorial unit %s ' % str(j),'FeatureWithID',ruian_parcely_cz.get_attributes(),data_source=DataSource(ruian_parcely_cz.get_data_source().get_type(),ruian_parcely_cz.get_data_source().get_name(),(dict(ruian_parcely_cz.get_data_source().get_attributes(),**{'url':ruian_parcely_cz.get_data_source().get_attributes()['url'].replace(i,str(j))})),None,None),supergeoconcept=ruian_parcely_cz,table_inheritance=True,subgeoconcepts=[],adm_graph_node=str(j)))"
   ]
  },
  {
   "cell_type": "code",
   "execution_count": 33,
   "metadata": {},
   "outputs": [
    {
     "data": {
      "text/plain": [
       "6258"
      ]
     },
     "execution_count": 33,
     "metadata": {},
     "output_type": "execute_result"
    }
   ],
   "source": [
    "len(ruian_parcely_cz.get_subgeoconcepts())"
   ]
  },
  {
   "cell_type": "code",
   "execution_count": 34,
   "metadata": {},
   "outputs": [],
   "source": [
    "for sub in ruian_parcely_cz.get_subgeoconcepts():\n",
    "    #sub.get_data_source().download_data('archive.zip',s,'all',os.getcwd())\n",
    "    #sub.create_table(dbs_ruian_parcely_cz,name='default',scheme='data',conflict='replace')\n",
    "    #features=sub.get_data_source().read_features('featurewithid', concept_additional_attributes[sub.get_data_source().get_attributes()['layer']], number=100, gfs_template='sablona.gfs')\n",
    "    #dbs_ruian_parcely_cz.insert_many('insert into %s (geom,data,id) ' % (transform_name_to_postgresql_format(sub.get_table().get_scheme())+'.'+transform_name_to_postgresql_format(sub.get_table().get_name())) ,features,100)\n",
    "    #os.remove(sub.get_data_source().get_data_file())\n",
    "    sub.create_table(dbs_ruian_parcely_cz,name='default',scheme='data',conflict='append',adm_graph_node=sub.get_adm_graph_node())"
   ]
  },
  {
   "cell_type": "code",
   "execution_count": 35,
   "metadata": {},
   "outputs": [],
   "source": [
    "#dbs_ruian_parcely_cz.execute('select count(*) from %s' % ruian_parcely_cz.get_table().get_name() )"
   ]
  },
  {
   "cell_type": "code",
   "execution_count": 36,
   "metadata": {},
   "outputs": [],
   "source": [
    "def ua_cz_gpkg_layer(data_file):\n",
    "    return re.search('CZ.*_.*_',data_file.split('/')[-1])[0]+'UA2012'\n",
    "\n",
    "def compilable_functions_dictionary(object): \n",
    "    o_dict=\\\n",
    "    {'geoconcept':{'object':object},\\\n",
    "     'geoconcept_name':{'object':'geoconcept','function':'get_name'},\\\n",
    "     'geoconcept_data_source':{'object':'geoconcept','function':'get_data_source'},\\\n",
    "     'geoconcept_data_source_file':{'object':'geoconcept_data_source','function':'get_data_file'},\\\n",
    "     'ua_gpkg_layer':{'function':ua_cz_gpkg_layer, 'parameters':['geoconcept_data_source_file']},\\\n",
    "    }\n",
    "    return o_dict"
   ]
  },
  {
   "cell_type": "code",
   "execution_count": 37,
   "metadata": {},
   "outputs": [],
   "source": [
    "ua_cz__metadata=MetaData('Urban Atlas in Czech Republic',\n",
    "                              {\"url\":\"https://land.copernicus.eu/local/urban-atlas/urban-atlas-2012?tab=download\",\n",
    "                               \"format\":\"GPKG\", \"compression\":\"zip\", \"downloadable\":\"on_registration\"},'data')\n",
    "ua_cz__ds=ds_from_metadata(ua_cz__metadata)\n",
    "ua_cz__ds.set_attributes({**ua_cz__ds.get_attributes(),**{'layer':'{compilable:ua_gpkg_layer}'}})\n",
    "ua_cz=GeoConcept('Urban Atlas in Czech Republic','Urban Atlas in Czech Republic in 2012.',\n",
    "                      'Feature',json_feature_structure, subgeoconcepts=[], data_source=ua_cz__ds)"
   ]
  },
  {
   "cell_type": "code",
   "execution_count": 40,
   "metadata": {},
   "outputs": [],
   "source": [
    "concept_list=[re.search('_.*_',file)[0][1:-1] for file in os.listdir('urbanatlas_cz') if file.endswith('.zip') and file.startswith('CZ')]"
   ]
  },
  {
   "cell_type": "code",
   "execution_count": 41,
   "metadata": {},
   "outputs": [],
   "source": [
    "for concept in concept_list:\n",
    "    for i in re.findall('\\{.*?\\}',ua_cz__ds.get_attributes()['layer']): \n",
    "        if i.split(':')[1][:-1] in list((compilable_functions_dictionary('')).keys()):\n",
    "            geoconcept=SubGeoConcept('%s' % concept,'Urban Atlas in agglomeration %s ' % str(concept),'Feature',ua_cz.get_attributes(),data_source=DataSource(ua_cz.get_data_source().get_type(), ua_cz.get_data_source().get_name(),(ua_cz.get_data_source().get_attributes()),None,None),supergeoconcept=ua_cz,table_inheritance=True,subgeoconcepts=[])\n",
    "            files=unzip_file(['urbanatlas_cz/'+file for file in os.listdir('urbanatlas_cz') if file.endswith('.zip') and file.startswith('CZ') and re.match('^.*%s.*$' % concept,file)][0],'all',os.getcwd()+'/')\n",
    "            geoconcept.get_data_source().set_data_file([file for file in files if file.endswith('gpkg')][0])\n",
    "            geoconcept.get_data_source().set_attribute({'layer':apply_function(compilable_functions_dictionary(geoconcept),i.split(':')[1][:-1])})\n",
    "            ua_cz.append_subgeoconcept(geoconcept)"
   ]
  },
  {
   "cell_type": "code",
   "execution_count": 42,
   "metadata": {},
   "outputs": [],
   "source": [
    "ua_cz.create_table(dbs_ua_cz, name='default',scheme='public',conflict='replace')\n",
    "#ua_cz.create_table(dbs_ua_cz, name='default',scheme='public',conflict='append')"
   ]
  },
  {
   "cell_type": "code",
   "execution_count": 43,
   "metadata": {},
   "outputs": [],
   "source": [
    "for concept in ua_cz.get_subgeoconcepts():\n",
    "    #concept.create_table(dbs_ua_cz,name='default',scheme='data',conflict='append')\n",
    "    concept.create_table(dbs_ua_cz,name='default',scheme='data',conflict='replace')\n",
    "    features=concept.get_data_source().read_features('feature', number=100)\n",
    "    dbs_ua_cz.insert_many('insert into %s (geom,data) ' % (concept.get_table().get_scheme()+'.'+concept.get_table().get_name()) ,features,100)"
   ]
  },
  {
   "cell_type": "code",
   "execution_count": 44,
   "metadata": {},
   "outputs": [],
   "source": [
    "features=concept.read_features_from_table(number=1)"
   ]
  },
  {
   "cell_type": "code",
   "execution_count": 45,
   "metadata": {},
   "outputs": [
    {
     "data": {
      "text/plain": [
       "{'COUNTRY': 'CZ',\n",
       " 'CITIES': 'Hradec Králové',\n",
       " 'FUA_OR_CIT': 'CZ009L2',\n",
       " 'CODE2012': '31000',\n",
       " 'ITEM2012': 'Forests',\n",
       " 'PROD_DATE': '2018',\n",
       " 'IDENT': '0-CZ009L2',\n",
       " 'PERIMETER': 6280.08685877,\n",
       " 'AREA': 773036.817937,\n",
       " 'Pop2012': 0}"
      ]
     },
     "execution_count": 45,
     "metadata": {},
     "output_type": "execute_result"
    }
   ],
   "source": [
    "next(features)[0].get_data()"
   ]
  },
  {
   "cell_type": "code",
   "execution_count": 46,
   "metadata": {},
   "outputs": [],
   "source": [
    "del(features)"
   ]
  },
  {
   "cell_type": "code",
   "execution_count": 6,
   "metadata": {},
   "outputs": [],
   "source": [
    "corine_cz__metadata=MetaData('CORINE land cover in Czech Republic',\n",
    "                              [{\"url\":\"https://land.copernicus.eu/pan-european/corine-land-cover/clc2018?tab=download\",\n",
    "                               \"format\":\"GPKG\", \"compression\":\"zip\", \"downloadable\":\"on_registration\"},{\"local\":\"corine_cz/corine_cz.shp\",\n",
    "                               \"format\":\"ESRI Shapefile\"}],'data')\n",
    "corine_cz__ds=ds_from_metadata(corine_cz__metadata,format=\"ESRI Shapefile\")\n",
    "corine_cz=GeoConcept('CORINE land cover in Czech Republic','CORINE land cover in Czech Republic in 2018.',\n",
    "                      'Feature',json_feature_structure, subgeoconcepts=[], data_source=corine_cz__ds)"
   ]
  },
  {
   "cell_type": "code",
   "execution_count": 7,
   "metadata": {},
   "outputs": [],
   "source": [
    "if 'local' in corine_cz__ds.get_attributes():\n",
    "    corine_cz__ds.set_data_file(corine_cz__ds.get_attributes()['local']) "
   ]
  },
  {
   "cell_type": "code",
   "execution_count": 8,
   "metadata": {},
   "outputs": [],
   "source": [
    "corine_cz.create_table(dbs_clc_cz, name='default',scheme='public',conflict='replace')"
   ]
  },
  {
   "cell_type": "code",
   "execution_count": 9,
   "metadata": {},
   "outputs": [
    {
     "data": {
      "text/plain": [
       "'inserted!'"
      ]
     },
     "execution_count": 9,
     "metadata": {},
     "output_type": "execute_result"
    }
   ],
   "source": [
    "features=corine_cz.get_data_source().read_features('feature', number=20)\n",
    "dbs_clc_cz.insert_many('insert into %s (geom,data) ' % (corine_cz.get_table().get_scheme()+'.'+corine_cz.get_table().get_name()) ,features,10)"
   ]
  },
  {
   "cell_type": "code",
   "execution_count": 10,
   "metadata": {},
   "outputs": [],
   "source": [
    "features=corine_cz.read_features_from_table(number=1)"
   ]
  },
  {
   "cell_type": "code",
   "execution_count": 11,
   "metadata": {},
   "outputs": [
    {
     "data": {
      "text/plain": [
       "{'objectid': 1080985,\n",
       " 'clc_code': '121',\n",
       " 'remark': None,\n",
       " 'area_ha': 32.9111228200084,\n",
       " 'id': 'EU_1080985',\n",
       " 'shape_leng': 2981.63187242809,\n",
       " 'shape_area': 329111.228200084,\n",
       " 'c18': 121,\n",
       " 'year': '2018'}"
      ]
     },
     "execution_count": 11,
     "metadata": {},
     "output_type": "execute_result"
    }
   ],
   "source": [
    "next(features)[0].get_data()"
   ]
  },
  {
   "cell_type": "code",
   "execution_count": 12,
   "metadata": {},
   "outputs": [],
   "source": [
    "del(features)"
   ]
  }
 ],
 "metadata": {
  "kernelspec": {
   "display_name": "Python 3",
   "language": "python",
   "name": "python3"
  },
  "language_info": {
   "codemirror_mode": {
    "name": "ipython",
    "version": 3
   },
   "file_extension": ".py",
   "mimetype": "text/x-python",
   "name": "python",
   "nbconvert_exporter": "python",
   "pygments_lexer": "ipython3",
   "version": "3.7.8"
  }
 },
 "nbformat": 4,
 "nbformat_minor": 4
}
