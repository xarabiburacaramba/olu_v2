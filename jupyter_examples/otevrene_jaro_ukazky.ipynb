{
 "cells": [
  {
   "cell_type": "code",
   "execution_count": 71,
   "metadata": {},
   "outputs": [],
   "source": [
    "import os\n",
    "import tridy\n",
    "from tridy import GeoConcept, SubGeoConcept, MetaData, Table, View, DBStorage, DataSource, Feature, FeatureWithID,  AdmUnitFeature, OLUFeature, Grid, Imagee, ds_from_metadata, xml_lpis_cz_reader, lpis_cz__posledni_aktualizace, get_listvalues_from_generator, apply_function, select_nodes_from_graph, unzip_file, find_neighbors_till, connection_parameters_to_pg, world_to_pixel \n",
    "from importlib import reload\n",
    "import requests\n",
    "import datetime\n",
    "import re"
   ]
  },
  {
   "cell_type": "code",
   "execution_count": 2,
   "metadata": {},
   "outputs": [],
   "source": [
    "from requests.adapters import HTTPAdapter\n",
    "from requests.packages.urllib3.util.retry import Retry\n",
    "\n",
    "from osgeo import ogr, osr, gdal\n",
    "import numpy as np\n",
    "import json\n",
    "\n",
    "from ipyleaflet import Map, GeoJSON, Marker\n",
    "from ipywidgets import HTML\n",
    "\n",
    "from PIL import Image\n",
    "import matplotlib.pyplot as plt\n",
    "from matplotlib.pyplot import imshow\n",
    "\n",
    "from pygeoprocessing import routing\n",
    "\n",
    "import tempfile\n",
    "from tempfile import TemporaryDirectory"
   ]
  },
  {
   "cell_type": "code",
   "execution_count": 73,
   "metadata": {},
   "outputs": [],
   "source": [
    "def compilable_node_dictionary(object,node__level=0,node__name='1'): \n",
    "    g_dict=\\\n",
    "    {'admunit':{'object':object},\\\n",
    "    'admunit__tree':{'object':'admunit','function':'return_graph_representation'},\\\n",
    "    'admunit__tree__reverse':{'object':'admunit__tree','function':'reverse'},\\\n",
    "    'node__level':{'object':node__level},\\\n",
    "    'node__name':{'object':node__name},\\\n",
    "    'admunit__tree__level':{'function':select_nodes_from_graph,'parameters':['admunit__tree','level','node__level']},\\\n",
    "    'admunit__tree__neighbors':{'function':find_neighbors_level,'parameters':['admunit__tree','node__name','node__level']},\\\n",
    "    'admunit__tree__neighbors__3201__4':{'function':find_neighbors_level,'parameters':['admunit__tree__reverse','3201',4]},\\\n",
    "    'admunit__tree__neighbors__3201__3':{'function':find_neighbors_level,'parameters':['admunit__tree__reverse','3201',3]},\\\n",
    "    }\n",
    "    return g_dict"
   ]
  },
  {
   "cell_type": "code",
   "execution_count": 74,
   "metadata": {},
   "outputs": [],
   "source": [
    "def find_neighbors_level(graph,start_node,level):\n",
    "    if graph.nodes()[start_node]['level']==level:\n",
    "        yield start_node\n",
    "    else:\n",
    "        for n in graph.neighbors(start_node):\n",
    "            yield from find_neighbors_level(graph,n,level) "
   ]
  },
  {
   "cell_type": "code",
   "execution_count": 75,
   "metadata": {},
   "outputs": [],
   "source": [
    "s = requests.Session()\n",
    "retries = Retry(total=5, backoff_factor=1, status_forcelist=[ 502, 503, 504 ])\n",
    "s.mount('http://', HTTPAdapter(max_retries=retries))"
   ]
  },
  {
   "cell_type": "code",
   "execution_count": 76,
   "metadata": {},
   "outputs": [],
   "source": [
    "replacement_dictionary = {\"[posledni_den_mesice]\":(datetime.datetime.today().replace(day=1)-datetime.timedelta(days=1)).strftime('%Y%m%d'),\"[lpis_cz__posledni_aktualizace]\":lpis_cz__posledni_aktualizace().strftime('%Y%m%d'), \"[vcera]\":(datetime.datetime.today().replace(day=1)-datetime.timedelta(days=1)).strftime('%Y%m%d')} "
   ]
  },
  {
   "cell_type": "code",
   "execution_count": 77,
   "metadata": {},
   "outputs": [],
   "source": [
    "json_feature_structure=[{\"name\":\"id\",\"type\":\"serial primary key\"},{\"name\":\"geom\",\"type\":\"geometry\"},{\"name\":\"data\",\"type\":\"json\"}]\n",
    "json_feature_with_bigid_structure=[{\"name\":\"id\",\"type\":\"bigint primary key\"},{\"name\":\"geom\",\"type\":\"geometry\"},{\"name\":\"data\",\"type\":\"json\"}]\n",
    "json_admin_unit_structure=[{\"name\":\"id\",\"type\":\"integer primary key\"},{\"name\":\"geom\",\"type\":\"geometry\"},{\"name\":\"data\",\"type\":\"json\"},{\"name\":\"level\",\"type\":\"integer\"},{\"name\":\"parent_id\",\"type\":\"text\"}]\n",
    "json_admin_unit_structure_at=[{\"name\":\"id\",\"type\":\"text primary key\"},{\"name\":\"geom\",\"type\":\"geometry\"},{\"name\":\"data\",\"type\":\"json\"},{\"name\":\"level\",\"type\":\"integer\"},{\"name\":\"parent_id\",\"type\":\"text\"}]\n",
    "json_feature_with_raster_structure=[{\"name\":\"id\",\"type\":\"serial primary key\"},{\"name\":\"geom\",\"type\":\"geometry\"},{\"name\":\"data\",\"type\":\"json\"},{\"name\":\"raster_maps\",\"type\":\"raster\"}]"
   ]
  },
  {
   "cell_type": "code",
   "execution_count": 78,
   "metadata": {},
   "outputs": [],
   "source": [
    "admunit_cz__metadata=MetaData('Uzemni celky v CR',\n",
    "                              {\"url\":\"https://vdp.cuzk.cz/vymenny_format/soucasna/[posledni_den_mesice]_ST_UKSG.xml.zip\",\n",
    "                               \"format\":\"GML\", \"compression\":\"zip\"},'data')"
   ]
  },
  {
   "cell_type": "code",
   "execution_count": 79,
   "metadata": {},
   "outputs": [],
   "source": [
    "admunit_cz__ds=ds_from_metadata(admunit_cz__metadata)"
   ]
  },
  {
   "cell_type": "code",
   "execution_count": 80,
   "metadata": {},
   "outputs": [],
   "source": [
    "admunit_cz=GeoConcept('Uzemni celky v CR','Uzemni celky v CR. Vsechny urovne.',\n",
    "                      'AdmUnitFeature',json_admin_unit_structure, data_source=admunit_cz__ds, subgeoconcepts=[] )"
   ]
  },
  {
   "cell_type": "code",
   "execution_count": 81,
   "metadata": {},
   "outputs": [],
   "source": [
    "url_adresa=admunit_cz.get_data_source().get_attributes()['url']\n",
    "for i in re.findall('\\[.*?\\]',url_adresa):\n",
    "    if i in list(replacement_dictionary.keys()):\n",
    "        url_adresa=url_adresa.replace(i,replacement_dictionary[i])"
   ]
  },
  {
   "cell_type": "code",
   "execution_count": 82,
   "metadata": {},
   "outputs": [],
   "source": [
    "admunit_cz.get_data_source().set_attribute({'url':url_adresa})\n",
    "del(url_adresa)"
   ]
  },
  {
   "cell_type": "code",
   "execution_count": 83,
   "metadata": {},
   "outputs": [],
   "source": [
    "#admunit_cz.get_data_source().download_data('archive.zip',s,'all',(os.getcwd()+'/'))\n",
    "admunit_cz.get_data_source().set_data_file('20210131_ST_UKSG.xml')"
   ]
  },
  {
   "cell_type": "code",
   "execution_count": 84,
   "metadata": {},
   "outputs": [],
   "source": [
    "concept_list=['Staty','Vusc','Okresy','Obce','KatastralniUzemi']"
   ]
  },
  {
   "cell_type": "code",
   "execution_count": 85,
   "metadata": {},
   "outputs": [],
   "source": [
    "concept_additional_attributes={'Staty':{'level_value':0,'parent_value':'null','id_attribute':'Kod'},\n",
    "                               'Vusc':{'level_value':1,'parent_value':'1','id_attribute':'Kod'},\n",
    "                               'Okresy':{'level_value':2,'parent_attribute':'VuscKod','id_attribute':'Kod'},\n",
    "                               'Obce':{'level_value':3,'parent_attribute':'OkresKod','id_attribute':'Kod'},\n",
    "                               'KatastralniUzemi':{'level_value':4,'parent_attribute':'ObecKod','id_attribute':'Kod'}}"
   ]
  },
  {
   "cell_type": "code",
   "execution_count": 86,
   "metadata": {},
   "outputs": [],
   "source": [
    "for l in list(set(concept_list).intersection(set(admunit_cz.get_data_source().list_layers()))):\n",
    "    admunit_cz.append_subgeoconcept(SubGeoConcept(l,l,'AdmUnitFeature',admunit_cz.get_attributes(),data_source=DataSource(admunit_cz.get_data_source().get_type(),admunit_cz.get_data_source().get_name(),({**admunit_cz.get_data_source().get_attributes(),**{'layer':l}}),None,admunit_cz.get_data_source().get_data_file()),supergeoconcept=admunit_cz,table_inheritance=False,type='semantic',subgeoconcepts=[]))"
   ]
  },
  {
   "cell_type": "code",
   "execution_count": 87,
   "metadata": {},
   "outputs": [],
   "source": [
    "wgs84_sr=osr.SpatialReference()\n",
    "wgs84_sr.ImportFromProj4('+proj=longlat +datum=WGS84 +no_defs')\n",
    "\n",
    "sjtsk5514_sr=osr.SpatialReference()\n",
    "sjtsk5514_sr.ImportFromProj4('+proj=krovak +lat_0=49.5 +lon_0=24.83333333333333 +alpha=30.28813975277778 +k=0.9999 +x_0=0 +y_0=0 +ellps=bessel +units=m +towgs84=570.8,85.7,462.8,4.998,1.587,5.261,3.56 +no_defs')\n",
    "\n",
    "sjtsk5514_to_wgs84=osr.CoordinateTransformation(sjtsk5514_sr,wgs84_sr)"
   ]
  },
  {
   "cell_type": "code",
   "execution_count": 134,
   "metadata": {},
   "outputs": [],
   "source": [
    "for sub in admunit_cz.get_subgeoconcepts():\n",
    "    sub.set_geojson_output_backend(os.getcwd()+'/',sub.get_name()+'.geojson')\n",
    "    #with open(sub.get_geojson_output_backend(), 'w', encoding='utf-8') as file:\n",
    "    #    geojson={\"type\": \"FeatureCollection\", \"features\": [] }\n",
    "    #    features=sub.get_data_source().read_features('admunitfeature',concept_additional_attributes[sub.get_data_source().get_attributes()['layer']],number=10)\n",
    "    #    for f in features:\n",
    "    #            if len(f)>0:\n",
    "    #                for feature in f:\n",
    "    #                    feature.transform_geometry(sjtsk5514_to_wgs84)\n",
    "    #                    geojson[\"features\"].append(feature.export_to_geojson())\n",
    "    #    json.dump(geojson, file, ensure_ascii=False, indent=4)"
   ]
  },
  {
   "cell_type": "code",
   "execution_count": 89,
   "metadata": {},
   "outputs": [
    {
     "data": {
      "text/plain": [
       "'/home/jupyter-dima/Okresy.geojson'"
      ]
     },
     "execution_count": 89,
     "metadata": {},
     "output_type": "execute_result"
    }
   ],
   "source": [
    "admunit_cz.get_subgeoconcept_by_name('Okresy').get_geojson_output_backend()"
   ]
  },
  {
   "cell_type": "code",
   "execution_count": 90,
   "metadata": {},
   "outputs": [],
   "source": [
    "m=Map(center=(49.98,14.73),zoom=10)"
   ]
  },
  {
   "cell_type": "code",
   "execution_count": 91,
   "metadata": {},
   "outputs": [],
   "source": [
    "with open(admunit_cz.get_subgeoconcept_by_name('Okresy').get_geojson_output_backend(),'r', encoding='utf-8') as f:\n",
    "    data = json.load(f)"
   ]
  },
  {
   "cell_type": "code",
   "execution_count": 92,
   "metadata": {},
   "outputs": [],
   "source": [
    "features = data['features']\n",
    "for i in range(len(features)):\n",
    "    location=(features[i]['geometry']['coordinates'][1],features[i]['geometry']['coordinates'][0])\n",
    "    nazvy = features[i]['properties']['Nazev']\n",
    "    id = features[i]['properties']['gml_id']\n",
    "    html = \"\"\"\n",
    "    <p>\n",
    "      <h4><b>Okres</b>:        \"\"\" + \" \".join(nazvy) + \"\"\"</h4>\n",
    "    </p>\n",
    "    <p>\n",
    "      <h5><b>ID</b>:        \"\"\" + \" \".join(id) + \"\"\"</h5>\n",
    "    </p>\n",
    "    \"\"\"\n",
    "    marker = Marker(location=location)\n",
    "    # Popup associated to a layer\n",
    "    marker.popup = HTML(html)\n",
    "    m.add_layer(marker)"
   ]
  },
  {
   "cell_type": "code",
   "execution_count": 93,
   "metadata": {},
   "outputs": [
    {
     "data": {
      "application/vnd.jupyter.widget-view+json": {
       "model_id": "f4f2083b63534b749f1a67f9f8d5b452",
       "version_major": 2,
       "version_minor": 0
      },
      "text/plain": [
       "Map(center=[49.98, 14.73], controls=(ZoomControl(options=['position', 'zoom_in_text', 'zoom_in_title', 'zoom_o…"
      ]
     },
     "metadata": {},
     "output_type": "display_data"
    }
   ],
   "source": [
    "display(m)"
   ]
  },
  {
   "cell_type": "code",
   "execution_count": 94,
   "metadata": {},
   "outputs": [],
   "source": [
    "G=apply_function(compilable_node_dictionary(admunit_cz),'admunit__tree')"
   ]
  },
  {
   "cell_type": "code",
   "execution_count": 95,
   "metadata": {},
   "outputs": [
    {
     "data": {
      "text/plain": [
       "['600466',\n",
       " '778796',\n",
       " '638587',\n",
       " '651885',\n",
       " '784435',\n",
       " '784451',\n",
       " '784486',\n",
       " '792578',\n",
       " '793124',\n",
       " '668974',\n",
       " '668966',\n",
       " '751375',\n",
       " '762415',\n",
       " '762423',\n",
       " '762431',\n",
       " '767727',\n",
       " '778061',\n",
       " '739910',\n",
       " '607932',\n",
       " '602655',\n",
       " '767140',\n",
       " '652709',\n",
       " '716308',\n",
       " '625426',\n",
       " '633836',\n",
       " '651168',\n",
       " '653969',\n",
       " '651273',\n",
       " '607801',\n",
       " '659134',\n",
       " '685330',\n",
       " '787043',\n",
       " '788431',\n",
       " '615820',\n",
       " '703788',\n",
       " '737054',\n",
       " '737038',\n",
       " '737071',\n",
       " '744972',\n",
       " '744930',\n",
       " '645133',\n",
       " '701131',\n",
       " '701157',\n",
       " '674427',\n",
       " '675547',\n",
       " '789631',\n",
       " '613495',\n",
       " '702919',\n",
       " '686492',\n",
       " '786993',\n",
       " '787019',\n",
       " '702927',\n",
       " '702935',\n",
       " '792331',\n",
       " '691976',\n",
       " '762105',\n",
       " '790133',\n",
       " '704121',\n",
       " '704148',\n",
       " '704105',\n",
       " '704113',\n",
       " '704130',\n",
       " '736431',\n",
       " '737267',\n",
       " '737216',\n",
       " '750981',\n",
       " '750956',\n",
       " '757055',\n",
       " '608106',\n",
       " '757063',\n",
       " '757071',\n",
       " '608084',\n",
       " '608092',\n",
       " '608114',\n",
       " '758469',\n",
       " '765295',\n",
       " '703168',\n",
       " '621161',\n",
       " '621153',\n",
       " '623156',\n",
       " '624331',\n",
       " '792187',\n",
       " '679607',\n",
       " '692727',\n",
       " '624624',\n",
       " '626261',\n",
       " '679593',\n",
       " '735191',\n",
       " '738549',\n",
       " '751537',\n",
       " '751553',\n",
       " '607223',\n",
       " '757624',\n",
       " '766429',\n",
       " '619531',\n",
       " '650170',\n",
       " '653551',\n",
       " '653578',\n",
       " '631621',\n",
       " '624357',\n",
       " '756202',\n",
       " '623377',\n",
       " '708933',\n",
       " '708941',\n",
       " '656704',\n",
       " '656739',\n",
       " '656712',\n",
       " '708950',\n",
       " '664707',\n",
       " '674516',\n",
       " '674532',\n",
       " '674524',\n",
       " '723649',\n",
       " '675407',\n",
       " '772399',\n",
       " '744956',\n",
       " '718661',\n",
       " '786462',\n",
       " '786489',\n",
       " '762113',\n",
       " '786446',\n",
       " '652075',\n",
       " '652024',\n",
       " '652059',\n",
       " '652067',\n",
       " '602191',\n",
       " '651290',\n",
       " '683442',\n",
       " '683451',\n",
       " '683434',\n",
       " '793876',\n",
       " '682675',\n",
       " '694851',\n",
       " '719846',\n",
       " '694843',\n",
       " '694878',\n",
       " '719820',\n",
       " '695858',\n",
       " '700002',\n",
       " '605514',\n",
       " '605522',\n",
       " '783544',\n",
       " '607207',\n",
       " '630659',\n",
       " '630641',\n",
       " '630675',\n",
       " '703800',\n",
       " '785351',\n",
       " '785369',\n",
       " '757411',\n",
       " '624543',\n",
       " '633348',\n",
       " '768251',\n",
       " '747092',\n",
       " '615251',\n",
       " '692034',\n",
       " '692051',\n",
       " '615234',\n",
       " '615242',\n",
       " '785041',\n",
       " '749940',\n",
       " '624641',\n",
       " '701017',\n",
       " '732982',\n",
       " '749958',\n",
       " '749966',\n",
       " '700991',\n",
       " '701009',\n",
       " '643262',\n",
       " '733032',\n",
       " '676594',\n",
       " '733041',\n",
       " '703885',\n",
       " '656151',\n",
       " '624519',\n",
       " '735817',\n",
       " '605531',\n",
       " '601951',\n",
       " '697346',\n",
       " '789640',\n",
       " '704288',\n",
       " '652717',\n",
       " '752576',\n",
       " '739570',\n",
       " '612847',\n",
       " '660965',\n",
       " '660949',\n",
       " '798231',\n",
       " '704245',\n",
       " '687367',\n",
       " '687375',\n",
       " '687383',\n",
       " '665312',\n",
       " '726036',\n",
       " '680389',\n",
       " '680371',\n",
       " '674362',\n",
       " '769657',\n",
       " '619663',\n",
       " '651427',\n",
       " '719706',\n",
       " '618004',\n",
       " '746177',\n",
       " '746193',\n",
       " '746151',\n",
       " '746169',\n",
       " '746185',\n",
       " '677337',\n",
       " '778109',\n",
       " '778095',\n",
       " '778079',\n",
       " '785199',\n",
       " '716294',\n",
       " '770710',\n",
       " '716278',\n",
       " '671851',\n",
       " '718505',\n",
       " '750719',\n",
       " '756971',\n",
       " '618276',\n",
       " '618292',\n",
       " '618284',\n",
       " '676411',\n",
       " '725803',\n",
       " '745758',\n",
       " '616818',\n",
       " '616826',\n",
       " '616893',\n",
       " '632015',\n",
       " '667421',\n",
       " '616834',\n",
       " '616869',\n",
       " '632023',\n",
       " '616770',\n",
       " '717002',\n",
       " '798428',\n",
       " '693821',\n",
       " '693839',\n",
       " '693855',\n",
       " '693847',\n",
       " '752541',\n",
       " '767026',\n",
       " '657832',\n",
       " '619400',\n",
       " '705381',\n",
       " '726231',\n",
       " '726265',\n",
       " '705373',\n",
       " '726273',\n",
       " '726281',\n",
       " '723631',\n",
       " '767735',\n",
       " '709875',\n",
       " '709859',\n",
       " '709921',\n",
       " '775959',\n",
       " '764965',\n",
       " '618888',\n",
       " '620165',\n",
       " '701432',\n",
       " '658316',\n",
       " '716634',\n",
       " '629383',\n",
       " '629332',\n",
       " '629341',\n",
       " '629375',\n",
       " '692123',\n",
       " '778087',\n",
       " '703770',\n",
       " '697524',\n",
       " '649287']"
      ]
     },
     "execution_count": 95,
     "metadata": {},
     "output_type": "execute_result"
    }
   ],
   "source": [
    "list(find_neighbors_level(G.reverse(),'3201',4))"
   ]
  },
  {
   "cell_type": "code",
   "execution_count": 96,
   "metadata": {},
   "outputs": [],
   "source": [
    "lpis_cz__metadata=MetaData('LPIS v okrese Benesov',\n",
    "                              [{\"url\":\"http://eagri.cz/public/app/eagriapp/lpisdata/[lpis_cz__posledni_aktualizace]-{admunit__tree__neighbors__3201__4}-DPB-SHP.zip\",\n",
    "                               \"format\":\"SHP\", \"compression\":\"zip\"},{\"url\":\"http://eagri.cz/public/app/eagriapp/lpisdata/[lpis_cz__posledni_aktualizace]-{admunit__tree__neighbors__3201__4}-DPB-XML-A.zip\",\n",
    "                               \"format\":\"XML\", \"compression\":\"zip\"}],'data')\n",
    "lpis_cz__ds_xml=ds_from_metadata(lpis_cz__metadata,format='XML')\n",
    "lpis_cz=GeoConcept('LPIS v okrese Benesov','LPIS v okrese Benesov. Data ze vsech katastralnich uzemi v okrese.',\n",
    "                      'Feature',json_feature_structure, data_source=lpis_cz__ds_xml, subgeoconcepts=[], adm_graph_node='3201')"
   ]
  },
  {
   "cell_type": "code",
   "execution_count": 97,
   "metadata": {},
   "outputs": [],
   "source": [
    "url_adresa=lpis_cz.get_data_source().get_attributes()['url']\n",
    "for i in re.findall('\\[.*?\\]',url_adresa):\n",
    "    if i in list(replacement_dictionary.keys()):\n",
    "        url_adresa=url_adresa.replace(i,replacement_dictionary[i])\n",
    "lpis_cz.get_data_source().set_attribute({'url':url_adresa})\n",
    "del(url_adresa)"
   ]
  },
  {
   "cell_type": "code",
   "execution_count": 98,
   "metadata": {},
   "outputs": [],
   "source": [
    "for i in re.findall('\\{.*?\\}',lpis_cz.get_data_source().get_attributes()['url']): \n",
    "    if i[1:-1] in list(compilable_node_dictionary(admunit_cz).keys()):\n",
    "        for j in apply_function(compilable_node_dictionary(admunit_cz),i[1:-1]):\n",
    "                lpis_cz.append_subgeoconcept(SubGeoConcept(str(j),'LPIS in Czech administrative territorial unit %s ' % str(j),'Feature',lpis_cz.get_attributes(),data_source=DataSource(lpis_cz.get_data_source().get_type(),lpis_cz.get_data_source().get_name(),(dict(lpis_cz.get_data_source().get_attributes(),**{'url':lpis_cz.get_data_source().get_attributes()['url'].replace(i,str(j))})),None,None),supergeoconcept=lpis_cz,table_inheritance=True,subgeoconcepts=[],type='spatial:admin',adm_graph_node=str(j)))"
   ]
  },
  {
   "cell_type": "code",
   "execution_count": 30,
   "metadata": {},
   "outputs": [
    {
     "data": {
      "text/plain": [
       "271"
      ]
     },
     "execution_count": 30,
     "metadata": {},
     "output_type": "execute_result"
    }
   ],
   "source": [
    "len(lpis_cz.get_subgeoconcepts())"
   ]
  },
  {
   "cell_type": "code",
   "execution_count": 99,
   "metadata": {},
   "outputs": [],
   "source": [
    "for sub in lpis_cz.get_subgeoconcepts():\n",
    "    sub.set_geojson_output_backend(os.getcwd()+'/',sub.get_name()+'.geojson')\n",
    "    #sub.get_data_source().download_data('archive.zip',s,'all',(os.getcwd()+'/'))\n",
    "    #with open(sub.get_geojson_output_backend(), 'w', encoding='utf-8') as file:\n",
    "    #    geojson={\"type\": \"FeatureCollection\", \"features\": [] }\n",
    "    #    features=sub.get_data_source().read_features('feature',number=10,reader=xml_lpis_cz_reader)\n",
    "    #    for f in features:\n",
    "    #            if len(f)>0:\n",
    "    #                for feature in f:\n",
    "    #                    feature.transform_geometry(sjtsk5514_to_wgs84)\n",
    "    #                    geojson[\"features\"].append(feature.export_to_geojson())\n",
    "    #    json.dump(geojson, file, ensure_ascii=False, indent=4)\n",
    "    #os.remove(sub.get_data_source().get_data_file())"
   ]
  },
  {
   "cell_type": "code",
   "execution_count": 100,
   "metadata": {},
   "outputs": [
    {
     "data": {
      "text/plain": [
       "{'IDDPB': '10168932',\n",
       " 'CTVEREC': '730-1090',\n",
       " 'ZKOD': '5601/1',\n",
       " 'STAV': 'UCINNY',\n",
       " 'STAVID': '4',\n",
       " 'UCINNOST_DLE_ZAKONA': '2007/10/04',\n",
       " 'PLATNOSTOD': '2015/01/02',\n",
       " 'VYMERA': '2.08',\n",
       " 'VYMERAOPV': '0',\n",
       " 'KULTURA': 'L',\n",
       " 'KULTURAID': '99',\n",
       " 'KULTURANAZEV': 'zalesněná půda',\n",
       " 'KULTURAOD': '2007/10/04',\n",
       " 'UZIVATEL': '{ \"IDUZIVATELE\": \"86777\", \"JMENO\": \"JANA\", \"PRIJMENI\": \"PĚNKAVOVÁ\", \"OBCHODNIJMENO\": \"PĚNKAVOVÁ JANA\", \"PRAVNIFORMA\": \"100\" }',\n",
       " 'ZAKLADNI': '[ { \"KOD\": \"OLDIDDPB\", \"HODNOTAINT\": \"28333440\", \"PLATNOSTOD\": \"2016-08-01\" }, { \"KOD\": \"OLDIDDPB\", \"HODNOTAINT\": \"20230482\", \"PLATNOSTOD\": \"2016-01-01\", \"PLATNOSTDO\": \"2016-07-31\" }, { \"KOD\": \"OLDIDDPB\", \"HODNOTAINT\": \"12940476\", \"PLATNOSTOD\": \"2015-01-02\", \"PLATNOSTDO\": \"2015-12-31\" }, { \"KOD\": \"EKO\", \"HODNOTAINT\": \"0\", \"PLATNOSTOD\": \"2015-01-02\" }, { \"KOD\": \"NADMVYSKA\", \"HODNOTANUM\": \"573.3\", \"PLATNOSTOD\": \"2005-01-01\", \"PLATNOSTDO\": \"2015-12-31\" }, { \"KOD\": \"SKLONITOST\", \"HODNOTANUM\": \"4.3\", \"PLATNOSTOD\": \"2005-01-01\", \"PLATNOSTDO\": \"2015-12-31\" }, { \"KOD\": \"ORIENTS\", \"HODNOTANUM\": \"0\", \"PLATNOSTOD\": \"2005-01-01\", \"PLATNOSTDO\": \"2015-12-31\" }, { \"KOD\": \"ORIENTSV\", \"HODNOTANUM\": \"0\", \"PLATNOSTOD\": \"2005-01-01\", \"PLATNOSTDO\": \"2015-12-31\" }, { \"KOD\": \"ORIENTV\", \"HODNOTANUM\": \"0\", \"PLATNOSTOD\": \"2005-01-01\", \"PLATNOSTDO\": \"2015-12-31\" }, { \"KOD\": \"ORIENTJV\", \"HODNOTANUM\": \"0\", \"PLATNOSTOD\": \"2005-01-01\", \"PLATNOSTDO\": \"2015-12-31\" }, { \"KOD\": \"ORIENTJ\", \"HODNOTANUM\": \"0\", \"PLATNOSTOD\": \"2005-01-01\", \"PLATNOSTDO\": \"2015-12-31\" }, { \"KOD\": \"ORIENTJZ\", \"HODNOTANUM\": \"16\", \"PLATNOSTOD\": \"2005-01-01\", \"PLATNOSTDO\": \"2015-12-31\" }, { \"KOD\": \"ORIENTZ\", \"HODNOTANUM\": \"41\", \"PLATNOSTOD\": \"2005-01-01\", \"PLATNOSTDO\": \"2015-12-31\" }, { \"KOD\": \"ORIENTSZ\", \"HODNOTANUM\": \"43\", \"PLATNOSTOD\": \"2005-01-01\", \"PLATNOSTDO\": \"2015-12-31\" }, { \"KOD\": \"ORIENTR\", \"HODNOTANUM\": \"0\", \"PLATNOSTOD\": \"2005-01-01\", \"PLATNOSTDO\": \"2015-12-31\" }, { \"KOD\": \"MARGEXPOZSS\", \"HODNOTAINT\": \"4\", \"PLATNOSTOD\": \"2005-01-01\", \"PLATNOSTDO\": \"2015-12-31\" }, { \"KOD\": \"NADMVYSKA\", \"HODNOTANUM\": \"573.07\", \"PLATNOSTOD\": \"2016-01-01\", \"PLATNOSTDO\": \"3000-01-01\" }, { \"KOD\": \"SKLONITOST\", \"HODNOTANUM\": \"3.94\", \"PLATNOSTOD\": \"2016-01-01\", \"PLATNOSTDO\": \"3000-01-01\" }, { \"KOD\": \"ORIENTS\", \"HODNOTANUM\": \"1\", \"PLATNOSTOD\": \"2016-01-01\", \"PLATNOSTDO\": \"3000-01-01\" }, { \"KOD\": \"ORIENTSV\", \"HODNOTANUM\": \"0\", \"PLATNOSTOD\": \"2016-01-01\", \"PLATNOSTDO\": \"3000-01-01\" }, { \"KOD\": \"ORIENTV\", \"HODNOTANUM\": \"0\", \"PLATNOSTOD\": \"2016-01-01\", \"PLATNOSTDO\": \"3000-01-01\" }, { \"KOD\": \"ORIENTJV\", \"HODNOTANUM\": \"0\", \"PLATNOSTOD\": \"2016-01-01\", \"PLATNOSTDO\": \"3000-01-01\" }, { \"KOD\": \"ORIENTJ\", \"HODNOTANUM\": \"1\", \"PLATNOSTOD\": \"2016-01-01\", \"PLATNOSTDO\": \"3000-01-01\" }, { \"KOD\": \"ORIENTJZ\", \"HODNOTANUM\": \"13\", \"PLATNOSTOD\": \"2016-01-01\", \"PLATNOSTDO\": \"3000-01-01\" }, { \"KOD\": \"ORIENTZ\", \"HODNOTANUM\": \"40\", \"PLATNOSTOD\": \"2016-01-01\", \"PLATNOSTDO\": \"3000-01-01\" }, { \"KOD\": \"ORIENTSZ\", \"HODNOTANUM\": \"43\", \"PLATNOSTOD\": \"2016-01-01\", \"PLATNOSTDO\": \"3000-01-01\" }, { \"KOD\": \"ORIENTR\", \"HODNOTANUM\": \"2\", \"PLATNOSTOD\": \"2016-01-01\", \"PLATNOSTDO\": \"3000-01-01\" }, { \"KOD\": \"MARGEXPOZSS\", \"HODNOTAINT\": \"4\", \"PLATNOSTOD\": \"2016-01-01\", \"PLATNOSTDO\": \"3000-01-01\" }, { \"KOD\": \"NUTS4KOD\", \"HODNOTAINT\": \"600466\", \"PLATNOSTOD\": \"1999-11-29\", \"PLATNOSTDO\": \"2015-10-21\" }, { \"KOD\": \"OBVOD\", \"HODNOTANUM\": \"694.7\", \"PLATNOSTOD\": \"2015-01-02\" }, { \"KOD\": \"MAPOVYLIST\", \"HODNOTASTR\": \"22-22-15\", \"PLATNOSTOD\": \"2015-01-02\" }, { \"KOD\": \"MAPOVYLIST5000\", \"HODNOTASTR\": \"Sedlcany 4-8\", \"PLATNOSTOD\": \"2015-01-02\" }, { \"KOD\": \"MINVZDALVODA\", \"HODNOTANUM\": \"373.71\", \"PLATNOSTOD\": \"2015-01-02\", \"PLATNOSTDO\": \"2015-12-31\" }, { \"KOD\": \"MINVZDALVODA\", \"HODNOTANUM\": \"372.59\", \"PLATNOSTOD\": \"2016-01-01\", \"PLATNOSTDO\": \"2016-12-31\" }, { \"KOD\": \"MINVZDALVODA\", \"HODNOTANUM\": \"372.59\", \"PLATNOSTOD\": \"2017-01-01\", \"PLATNOSTDO\": \"2017-12-31\" }, { \"KOD\": \"MINVZDALVODA\", \"HODNOTANUM\": \"372.59\", \"PLATNOSTOD\": \"2018-01-01\", \"PLATNOSTDO\": \"2018-12-31\" }, { \"KOD\": \"MINVZDALVODA\", \"HODNOTANUM\": \"372.59\", \"PLATNOSTOD\": \"2019-01-01\", \"PLATNOSTDO\": \"2019-12-31\" }, { \"KOD\": \"MINVZDALVODA\", \"HODNOTANUM\": \"372.59\", \"PLATNOSTOD\": \"2020-01-01\", \"PLATNOSTDO\": \"2020-12-31\" }, { \"KOD\": \"MINVZDALVODA\", \"HODNOTANUM\": \"372.59\", \"PLATNOSTOD\": \"2021-01-01\" }, { \"KOD\": \"VODAPREKRYVSVAZITE\", \"HODNOTANUM\": \"0\", \"PLATNOSTOD\": \"2015-01-02\", \"PLATNOSTDO\": \"2015-12-31\" }, { \"KOD\": \"VODAPREKRYVSVAZITE\", \"HODNOTANUM\": \"0\", \"PLATNOSTOD\": \"2016-01-01\", \"PLATNOSTDO\": \"2016-12-31\" }, { \"KOD\": \"VODAPREKRYVSVAZITE\", \"HODNOTANUM\": \"0\", \"PLATNOSTOD\": \"2017-01-01\", \"PLATNOSTDO\": \"2017-12-31\" }, { \"KOD\": \"VODAPREKRYVSVAZITE\", \"HODNOTANUM\": \"0\", \"PLATNOSTOD\": \"2018-01-01\", \"PLATNOSTDO\": \"2018-12-31\" }, { \"KOD\": \"VODAPREKRYVSVAZITE\", \"HODNOTANUM\": \"0\", \"PLATNOSTOD\": \"2019-01-01\", \"PLATNOSTDO\": \"2019-12-31\" }, { \"KOD\": \"VODAPREKRYVSVAZITE\", \"HODNOTANUM\": \"0\", \"PLATNOSTOD\": \"2020-01-01\", \"PLATNOSTDO\": \"2020-12-31\" }, { \"KOD\": \"VODAPREKRYVSVAZITE\", \"HODNOTANUM\": \"0\", \"PLATNOSTOD\": \"2021-01-01\", \"PLATNOSTDO\": \"3000-01-01\" }, { \"KOD\": \"VYMERAZPUS\", \"HODNOTANUM\": \"2.08\", \"PLATNOSTOD\": \"2015-01-02\" }, { \"KOD\": \"VYMERANEZPUS\", \"HODNOTANUM\": \"0\", \"PLATNOSTOD\": \"2015-01-02\" } ]',\n",
       " 'PREKRYVKATUZE': '[ { \"KUNAZEV\": \"Arnoštovice\", \"KUKOD\": \"600466\", \"VYMPREKRYV\": \"2.08\", \"DLECENTROID\": \"1\", \"PLATNOSTOD\": \"2015-01-02\", \"PLATNOSTDO\": \"2015-10-21\" }, { \"KUNAZEV\": \"Arnoštovice\", \"KUKOD\": \"600466\", \"VYMPREKRYV\": \"2.08\", \"DLECENTROID\": \"1\", \"PLATNOSTOD\": \"2015-10-22\", \"PLATNOSTDO\": \"3000-01-01\" } ]',\n",
       " 'LFA': '[ { \"LFAKOD\": \"OA\", \"VYMPREKRYV\": \"2.08\", \"PLATNOSTOD\": \"2015-01-02\", \"PLATNOSTDO\": \"2018-03-31\" }, { \"LFAKOD\": \"O2\", \"VYMPREKRYV\": \"2.08\", \"PLATNOSTOD\": \"2018-04-01\", \"PLATNOSTDO\": \"2020-12-31\" }, { \"LFAKOD\": \"O2\", \"VYMPREKRYV\": \"2.08\", \"PLATNOSTOD\": \"2021-01-01\" } ]',\n",
       " 'BPEJ': '[ { \"BPEJKOD\": \"00099\", \"VYMPREKRYV\": \"0\", \"PLATNOSTOD\": \"2015-01-02\", \"PLATNOSTDO\": \"2015-03-14\" }, { \"BPEJKOD\": \"72914\", \"VYMPREKRYV\": \"2.07\", \"PLATNOSTOD\": \"2015-01-02\", \"PLATNOSTDO\": \"2015-03-14\" }, { \"BPEJKOD\": \"74710\", \"VYMPREKRYV\": \"0.02\", \"PLATNOSTOD\": \"2015-01-02\", \"PLATNOSTDO\": \"2015-03-14\" }, { \"BPEJKOD\": \"00099\", \"VYMPREKRYV\": \"0\", \"PLATNOSTOD\": \"2015-03-15\", \"PLATNOSTDO\": \"2015-12-31\" }, { \"BPEJKOD\": \"72914\", \"VYMPREKRYV\": \"2.07\", \"PLATNOSTOD\": \"2015-03-15\", \"PLATNOSTDO\": \"2015-12-31\" }, { \"BPEJKOD\": \"74710\", \"VYMPREKRYV\": \"0.02\", \"PLATNOSTOD\": \"2015-03-15\", \"PLATNOSTDO\": \"2015-12-31\" }, { \"BPEJKOD\": \"72914\", \"VYMPREKRYV\": \"2.07\", \"PLATNOSTOD\": \"2016-01-01\", \"PLATNOSTDO\": \"2016-12-31\" }, { \"BPEJKOD\": \"74710\", \"VYMPREKRYV\": \"0.02\", \"PLATNOSTOD\": \"2016-01-01\", \"PLATNOSTDO\": \"2016-12-31\" }, { \"BPEJKOD\": \"72914\", \"VYMPREKRYV\": \"2.07\", \"PLATNOSTOD\": \"2017-01-01\", \"PLATNOSTDO\": \"2017-12-31\" }, { \"BPEJKOD\": \"74710\", \"VYMPREKRYV\": \"0.02\", \"PLATNOSTOD\": \"2017-01-01\", \"PLATNOSTDO\": \"2017-12-31\" }, { \"BPEJKOD\": \"72914\", \"VYMPREKRYV\": \"2.07\", \"PLATNOSTOD\": \"2018-01-01\", \"PLATNOSTDO\": \"2018-12-31\" }, { \"BPEJKOD\": \"74710\", \"VYMPREKRYV\": \"0.02\", \"PLATNOSTOD\": \"2018-01-01\", \"PLATNOSTDO\": \"2018-12-31\" }, { \"BPEJKOD\": \"72914\", \"VYMPREKRYV\": \"2.07\", \"PLATNOSTOD\": \"2019-01-01\", \"PLATNOSTDO\": \"2019-12-31\" }, { \"BPEJKOD\": \"74710\", \"VYMPREKRYV\": \"0.02\", \"PLATNOSTOD\": \"2019-01-01\", \"PLATNOSTDO\": \"2019-12-31\" }, { \"BPEJKOD\": \"72914\", \"VYMPREKRYV\": \"2.07\", \"PLATNOSTOD\": \"2020-01-01\", \"PLATNOSTDO\": \"2020-12-31\" }, { \"BPEJKOD\": \"74710\", \"VYMPREKRYV\": \"0.02\", \"PLATNOSTOD\": \"2020-01-01\", \"PLATNOSTDO\": \"2020-12-31\" }, { \"BPEJKOD\": \"72914\", \"VYMPREKRYV\": \"2.07\", \"PLATNOSTOD\": \"2021-01-01\" }, { \"BPEJKOD\": \"74710\", \"VYMPREKRYV\": \"0.02\", \"PLATNOSTOD\": \"2021-01-01\" } ]',\n",
       " 'OPATRENIEROZE': '[ { \"EROZEKATEG\": \"3\", \"VYMPREKRYV\": \"2.08\", \"OSEVOD\": \"2015-01-02\", \"OSEVDO\": \"2015-12-31\" }, { \"EROZEKATEG\": \"3\", \"VYMPREKRYV\": \"2.08\", \"OSEVOD\": \"2016-01-01\", \"OSEVDO\": \"2016-12-31\" }, { \"EROZEKATEG\": \"3\", \"VYMPREKRYV\": \"2.08\", \"OSEVOD\": \"2017-01-01\", \"OSEVDO\": \"2017-06-30\" }, { \"EROZEKATEG\": \"3\", \"VYMPREKRYV\": \"2.08\", \"OSEVOD\": \"2017-07-01\", \"OSEVDO\": \"2017-12-31\" }, { \"EROZEKATEG\": \"3\", \"VYMPREKRYV\": \"2.08\", \"OSEVOD\": \"2018-01-01\", \"OSEVDO\": \"2018-12-31\" } ]',\n",
       " 'OPATRENIEROZE2G': '[ { \"EROZOHRKOD\": \"NEO\", \"PLATNOSTOD\": \"2018-01-01\", \"PLATNOSTDO\": \"2018-12-31\" }, { \"EROZOHRKOD\": \"NEO\", \"PLATNOSTOD\": \"2019-01-01\", \"PLATNOSTDO\": \"2019-12-31\" }, { \"EROZOHRKOD\": \"NEO\", \"PLATNOSTOD\": \"2020-01-01\", \"PLATNOSTDO\": \"2020-12-31\" }, { \"EROZOHRKOD\": \"NEO\", \"PLATNOSTOD\": \"2021-01-01\", \"PLATNOSTDO\": \"3000-01-01\" } ]',\n",
       " 'VYNOSHLADINA': None,\n",
       " 'SEZNAMEVP': None,\n",
       " 'APLPASMO': None,\n",
       " 'OPVZ': None}"
      ]
     },
     "execution_count": 100,
     "metadata": {},
     "output_type": "execute_result"
    }
   ],
   "source": [
    "features_gen=lpis_cz.read_features_from_geojson_output_backend('feature',number=1)\n",
    "feature_gen=next(features_gen)\n",
    "feature=next(feature_gen)[0]\n",
    "feature.get_data()"
   ]
  },
  {
   "cell_type": "code",
   "execution_count": 101,
   "metadata": {},
   "outputs": [],
   "source": [
    "with open(lpis_cz.get_subgeoconcept_by_name('602191').get_geojson_output_backend(),'r', encoding='utf-8') as f:\n",
    "    data = json.load(f)"
   ]
  },
  {
   "cell_type": "code",
   "execution_count": 102,
   "metadata": {},
   "outputs": [],
   "source": [
    "geo_json = GeoJSON(data=data, style = {'color': 'green'})\n",
    "m.add_layer(geo_json)"
   ]
  },
  {
   "cell_type": "code",
   "execution_count": 103,
   "metadata": {},
   "outputs": [
    {
     "data": {
      "application/vnd.jupyter.widget-view+json": {
       "model_id": "f4f2083b63534b749f1a67f9f8d5b452",
       "version_major": 2,
       "version_minor": 0
      },
      "text/plain": [
       "Map(center=[49.98, 14.73], controls=(ZoomControl(options=['position', 'zoom_in_text', 'zoom_in_title', 'zoom_o…"
      ]
     },
     "metadata": {},
     "output_type": "display_data"
    }
   ],
   "source": [
    "display(m)"
   ]
  },
  {
   "cell_type": "code",
   "execution_count": 104,
   "metadata": {},
   "outputs": [],
   "source": [
    "for feature in data['features']:\n",
    "    if feature['properties']['KULTURAID']!='99':\n",
    "        data['features'].remove(feature)"
   ]
  },
  {
   "cell_type": "code",
   "execution_count": 105,
   "metadata": {},
   "outputs": [],
   "source": [
    "geo_json = GeoJSON(data=data, style = {'color': 'red'})\n",
    "m.add_layer(geo_json)"
   ]
  },
  {
   "cell_type": "code",
   "execution_count": 106,
   "metadata": {},
   "outputs": [
    {
     "data": {
      "application/vnd.jupyter.widget-view+json": {
       "model_id": "f4f2083b63534b749f1a67f9f8d5b452",
       "version_major": 2,
       "version_minor": 0
      },
      "text/plain": [
       "Map(center=[49.98, 14.73], controls=(ZoomControl(options=['position', 'zoom_in_text', 'zoom_in_title', 'zoom_o…"
      ]
     },
     "metadata": {},
     "output_type": "display_data"
    }
   ],
   "source": [
    "display(m)"
   ]
  },
  {
   "cell_type": "code",
   "execution_count": 107,
   "metadata": {},
   "outputs": [],
   "source": [
    "def get_twi(im_object):\n",
    "    with TemporaryDirectory() as tempdir:\n",
    "        im_object.export_as_tif('%s/dem.tif' %tempdir)\n",
    "        routing.fill_pits(('%s/dem.tif' %tempdir,1),'%s/cdem.tif' %tempdir)\n",
    "        routing.flow_dir_mfd(('%s/cdem.tif' %tempdir,1),'%s/dir.tif' %tempdir)\n",
    "        routing.flow_accumulation_mfd(('%s/dir.tif' %tempdir,1),'%s/twi.tif' %tempdir)\n",
    "        ds = gdal.Open('%s/twi.tif' %tempdir)\n",
    "        metadata_dict=im_object.get_metadata()\n",
    "        twi=Imagee(np.array(ds.GetRasterBand(1).ReadAsArray()),metadata_dict)\n",
    "        return twi"
   ]
  },
  {
   "cell_type": "code",
   "execution_count": 108,
   "metadata": {},
   "outputs": [
    {
     "data": {
      "text/plain": [
       "'POLYGON ((14.6236764807982 49.6190885859837,14.6236891386128 49.6189535961369,14.6239668163448 49.6189479832856,14.6241909085313 49.6189785046547,14.624551312021 49.6190318556488,14.6247380642339 49.6190336994905,14.6248644664943 49.6190302560092,14.6249706647743 49.6190232277682,14.6250700008043 49.6194193572823,14.6250897873756 49.6195662624297,14.6251376531977 49.6197528276436,14.6251588736061 49.619872638649,14.6252132433554 49.6200951591406,14.6252270663047 49.6202506150047,14.6252295583613 49.6202824864715,14.625232060173 49.6203348260037,14.6252361607551 49.6203669257564,14.6252423531573 49.6204461213171,14.6252514117163 49.6204863113841,14.6252577839628 49.620588731633,14.6252794312538 49.6207923375155,14.6253001275672 49.6210627181302,14.6253232749902 49.6212607275855,14.6251033566508 49.621288254991,14.6248200891747 49.6213203603241,14.6246807538667 49.6213471073439,14.6244403577788 49.6213966033175,14.6244206931601 49.6213567729542,14.6244373233585 49.6213237515307,14.6244447218929 49.6212881067095,14.6244456028369 49.6211829342524,14.6243858754473 49.6208247525027,14.6242873131749 49.620411450848,14.6242330531422 49.6202624325193,14.6241471837602 49.620137864572,14.6239950617567 49.6199893454962,14.6238152466805 49.6198329558831,14.6237532341527 49.6197549366378,14.6237115027745 49.619686860214,14.6236992382612 49.6196113849392,14.6236952347441 49.6195230235652,14.6237041305368 49.6194330703956,14.6237300090141 49.6193554930883,14.6237289932232 49.6193200183836,14.6237216743684 49.6192812694527,14.6236798666311 49.6192068350034,14.6236754759832 49.6191674352975,14.6236716402496 49.6191253622327,14.6236764807982 49.6190885859837))'"
      ]
     },
     "execution_count": 108,
     "metadata": {},
     "output_type": "execute_result"
    }
   ],
   "source": [
    "features_gen=lpis_cz.read_features_from_geojson_output_backend('feature',number=1)\n",
    "feature_gen=next(features_gen)\n",
    "feature=next(feature_gen)[0]\n",
    "feature.get_geometry()"
   ]
  },
  {
   "cell_type": "code",
   "execution_count": 109,
   "metadata": {},
   "outputs": [],
   "source": [
    "dem30_fn='eu_dem_czat3035.tif'\n",
    "dem30=gdal.Open(dem30_fn)"
   ]
  },
  {
   "cell_type": "code",
   "execution_count": 110,
   "metadata": {},
   "outputs": [],
   "source": [
    "etrs3035_sr=osr.SpatialReference()\n",
    "\n",
    "etrs3035_sr.ImportFromProj4('+proj=laea +lat_0=52 +lon_0=10 +x_0=4321000 +y_0=3210000 +ellps=GRS80 +towgs84=0,0,0,0,0,0,0 +units=m +no_defs')\n",
    "\n",
    "wgs_84_to_etrs3035=osr.CoordinateTransformation(wgs84_sr,etrs3035_sr)"
   ]
  },
  {
   "cell_type": "code",
   "execution_count": 111,
   "metadata": {},
   "outputs": [],
   "source": [
    "metadata_dict={}\n",
    "metadata_dict['affine_transformation']=dem30.GetGeoTransform()\n",
    "metadata_dict['nodata']=dem30.GetRasterBand(1).GetNoDataValue()\n",
    "metadata_dict['proj_wkt']=etrs3035_sr.ExportToWkt()"
   ]
  },
  {
   "cell_type": "code",
   "execution_count": 114,
   "metadata": {},
   "outputs": [],
   "source": [
    "grid=Grid((metadata_dict['affine_transformation'][0],metadata_dict['affine_transformation'][3]),(metadata_dict['affine_transformation'][1],metadata_dict['affine_transformation'][5]))"
   ]
  },
  {
   "cell_type": "code",
   "execution_count": 115,
   "metadata": {},
   "outputs": [],
   "source": [
    "feature_geometry=ogr.CreateGeometryFromWkt(feature.get_geometry())"
   ]
  },
  {
   "cell_type": "code",
   "execution_count": 116,
   "metadata": {},
   "outputs": [
    {
     "data": {
      "text/plain": [
       "0"
      ]
     },
     "execution_count": 116,
     "metadata": {},
     "output_type": "execute_result"
    }
   ],
   "source": [
    "feature_geometry.Transform(wgs_84_to_etrs3035)"
   ]
  },
  {
   "cell_type": "code",
   "execution_count": 117,
   "metadata": {},
   "outputs": [
    {
     "data": {
      "text/plain": [
       "'POLYGON ((4654913.17792336 2955658.70729269,4654915.02067501 2955643.7779468,4654935.08230379 2955644.41683354,4654951.03097824 2955648.82393094,4654976.65151563 2955656.38528923,4654990.10522029 2955657.43892894,4654999.24361834 2955657.63124122,4655006.94984353 2955657.33373229,4655011.38284189 2955701.76446836,4655011.79718973 2955718.16414424,4655013.96292194 2955739.09461964,4655014.66735819 2955752.49276605,4655017.05422331 2955777.44464489,4655016.97956501 2955794.76653102,4655016.93960321 2955798.31629923,4655016.75928014 2955804.13852045,4655016.83372926 2955807.72094629,4655016.73442962 2955816.54156005,4655017.11062022 2955821.0447303,4655016.86422072 2955832.44461691,4655017.02186564 2955855.14779568,4655016.65070691 2955885.26012778,4655016.95505485 2955907.34880169,4655000.90811164 2955909.40517205,4654980.2618436 2955911.68187042,4654970.03074916 2955914.0180084,4654952.3559214 2955918.42044081,4654951.21246823 2955913.90900126,4654952.63913319 2955910.31847916,4654953.41822709 2955906.39474034,4654954.20647231 2955894.72226261,4654952.36794231 2955854.6846394,4654948.10890311 2955808.35096885,4654945.22320834 2955791.55999468,4654939.88976624 2955777.33988752,4654929.94403599 2955760.15955468,4654918.0555889 2955741.97957468,4654914.1215603 2955733.03586435,4654911.58143833 2955725.28820524,4654911.21706839 2955716.85303093,4654911.53715694 2955707.0247577,4654912.7983529 2955697.07838486,4654915.19887385 2955688.58319193,4654915.37003416 2955684.64009434,4654915.10925022 2955680.30483843,4654912.6073908 2955671.85095076,4654912.56223401 2955667.45675277,4654912.57550869 2955662.76827453,4654913.17792336 2955658.70729269))'"
      ]
     },
     "execution_count": 117,
     "metadata": {},
     "output_type": "execute_result"
    }
   ],
   "source": [
    "feature_geometry.ExportToWkt()"
   ]
  },
  {
   "cell_type": "code",
   "execution_count": 118,
   "metadata": {},
   "outputs": [],
   "source": [
    "feature_geometry_buffer=feature_geometry.Buffer(500)"
   ]
  },
  {
   "cell_type": "code",
   "execution_count": 119,
   "metadata": {},
   "outputs": [],
   "source": [
    "origin=tuple(grid.find_index((feature_geometry_buffer.GetEnvelope()[0],feature_geometry_buffer.GetEnvelope()[3])))\n",
    "size=tuple(np.array(grid.find_index((feature_geometry_buffer.GetEnvelope()[1],feature_geometry_buffer.GetEnvelope()[2])))-np.array(grid.find_index((feature_geometry_buffer.GetEnvelope()[0],feature_geometry_buffer.GetEnvelope()[3]))))+np.array([1,1])\n",
    "a=np.array(dem30.GetRasterBand(1).ReadAsArray(xoff=int(origin[0]),yoff=int(origin[1]),win_xsize=int(size[0]),win_ysize=int(size[1])))\n",
    "grid_clip=Grid(np.array(grid.get_gridorigin())+np.array(tuple(grid.find_index((feature_geometry_buffer.GetEnvelope()[0],feature_geometry_buffer.GetEnvelope()[3]))))*np.array(grid.get_gridstepsize()),(metadata_dict['affine_transformation'][1],metadata_dict['affine_transformation'][5]))"
   ]
  },
  {
   "cell_type": "code",
   "execution_count": 120,
   "metadata": {},
   "outputs": [],
   "source": [
    "clip_metadata_dict={}\n",
    "clip_metadata_dict['affine_transformation']=grid_clip.get_affinetransformation()\n",
    "clip_metadata_dict['nodata']=float(np.min(a)) if np.min(a)<0 else np.nan\n",
    "clip_metadata_dict['proj_wkt']=etrs3035_sr.ExportToWkt()"
   ]
  },
  {
   "cell_type": "code",
   "execution_count": 121,
   "metadata": {},
   "outputs": [],
   "source": [
    "im=Imagee(a,clip_metadata_dict)"
   ]
  },
  {
   "cell_type": "code",
   "execution_count": 122,
   "metadata": {},
   "outputs": [],
   "source": [
    "im.export_as_tif('pole_s_bufrem500.tif')"
   ]
  },
  {
   "cell_type": "code",
   "execution_count": 123,
   "metadata": {},
   "outputs": [],
   "source": [
    "im_twi=get_twi(im)"
   ]
  },
  {
   "cell_type": "code",
   "execution_count": 124,
   "metadata": {},
   "outputs": [],
   "source": [
    "im_twi.export_as_tif('akumulace_vody_na_poli_s_bufrem500.tif')"
   ]
  },
  {
   "cell_type": "code",
   "execution_count": 125,
   "metadata": {},
   "outputs": [],
   "source": [
    "cropped_im=Imagee(*im.clip_by_shape(feature_geometry.ExportToWkt()))"
   ]
  },
  {
   "cell_type": "code",
   "execution_count": 126,
   "metadata": {},
   "outputs": [
    {
     "data": {
      "image/png": "[encoded data removed]",
      "text/plain": [
       "<Figure size 432x288 with 2 Axes>"
      ]
     },
     "metadata": {
      "needs_background": "light"
     },
     "output_type": "display_data"
    }
   ],
   "source": [
    "plt.imshow(cropped_im.get_data(), origin=\"upper\", cmap='gray', interpolation='nearest')\n",
    "plt.colorbar()\n",
    "plt.show()"
   ]
  },
  {
   "cell_type": "code",
   "execution_count": 127,
   "metadata": {},
   "outputs": [
    {
     "data": {
      "text/plain": [
       "{'mean': 572.7201631986178, 'max': 579.9984130859375, 'min': 566.550537109375}"
      ]
     },
     "execution_count": 127,
     "metadata": {},
     "output_type": "execute_result"
    }
   ],
   "source": [
    "cropped_im.get_statistics()"
   ]
  },
  {
   "cell_type": "code",
   "execution_count": 128,
   "metadata": {},
   "outputs": [
    {
     "data": {
      "image/png": "[encoded data removed]",
      "text/plain": [
       "<Figure size 432x288 with 2 Axes>"
      ]
     },
     "metadata": {
      "needs_background": "light"
     },
     "output_type": "display_data"
    }
   ],
   "source": [
    "plt.imshow(Imagee(*cropped_im.calculate_slope()).get_data(), origin=\"upper\", cmap='gray', interpolation='nearest')\n",
    "plt.colorbar()\n",
    "plt.show()"
   ]
  },
  {
   "cell_type": "code",
   "execution_count": 129,
   "metadata": {},
   "outputs": [
    {
     "data": {
      "image/png": "[encoded data removed]",
      "text/plain": [
       "<Figure size 432x288 with 2 Axes>"
      ]
     },
     "metadata": {
      "needs_background": "light"
     },
     "output_type": "display_data"
    }
   ],
   "source": [
    "plt.imshow(Imagee(*cropped_im.calculate_azimuth()).get_data(), origin=\"upper\", cmap='gray', interpolation='nearest')\n",
    "plt.colorbar()\n",
    "plt.show()"
   ]
  },
  {
   "cell_type": "code",
   "execution_count": 130,
   "metadata": {},
   "outputs": [],
   "source": [
    "cropped_im__twi=Imagee(*im_twi.clip_by_shape(feature_geometry.ExportToWkt()))"
   ]
  },
  {
   "cell_type": "code",
   "execution_count": 131,
   "metadata": {},
   "outputs": [
    {
     "data": {
      "image/png": "[encoded data removed]",
      "text/plain": [
       "<Figure size 432x288 with 2 Axes>"
      ]
     },
     "metadata": {
      "needs_background": "light"
     },
     "output_type": "display_data"
    }
   ],
   "source": [
    "plt.imshow(cropped_im__twi.get_data(), origin=\"upper\", cmap='gray', interpolation='nearest')\n",
    "plt.colorbar()\n",
    "plt.show()"
   ]
  },
  {
   "cell_type": "code",
   "execution_count": 132,
   "metadata": {},
   "outputs": [
    {
     "data": {
      "text/plain": [
       "{'mean': 7.859872082943025,\n",
       " 'max': 22.128263271521707,\n",
       " 'min': 1.6344025121803198}"
      ]
     },
     "execution_count": 132,
     "metadata": {},
     "output_type": "execute_result"
    }
   ],
   "source": [
    "cropped_im__twi.get_statistics()"
   ]
  },
  {
   "cell_type": "code",
   "execution_count": 133,
   "metadata": {},
   "outputs": [],
   "source": [
    "cropped_im__twi.export_as_tif('akumulace_vody_na_poli.tif')"
   ]
  },
  {
   "cell_type": "code",
   "execution_count": null,
   "metadata": {},
   "outputs": [],
   "source": []
  }
 ],
 "metadata": {
  "kernelspec": {
   "display_name": "Python 3",
   "language": "python",
   "name": "python3"
  },
  "language_info": {
   "codemirror_mode": {
    "name": "ipython",
    "version": 3
   },
   "file_extension": ".py",
   "mimetype": "text/x-python",
   "name": "python",
   "nbconvert_exporter": "python",
   "pygments_lexer": "ipython3",
   "version": "3.6.7"
  }
 },
 "nbformat": 4,
 "nbformat_minor": 4
}
